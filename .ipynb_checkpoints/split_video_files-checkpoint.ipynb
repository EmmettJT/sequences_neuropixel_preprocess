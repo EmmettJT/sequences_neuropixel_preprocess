{
 "cells": [
  {
   "cell_type": "code",
   "execution_count": null,
   "metadata": {},
   "outputs": [],
   "source": [
    "# load timestamps for cameras, and demix \n",
    "\n",
    "# find relevant peridos that need to be DLC'ed \n",
    "\n",
    "# save these out as a csv file and AVi file"
   ]
  },
  {
   "cell_type": "code",
   "execution_count": 24,
   "metadata": {},
   "outputs": [],
   "source": [
    "import os\n",
    "import pandas as pd\n",
    "import numpy as np  \n",
    "from datetime import datetime\n",
    "import matplotlib.pyplot as plt\n",
    "\n",
    "def process_camera_data(Camera_ts_raw):\n",
    "\n",
    "    Camera_ts = convert_uncycle_Timestamps(Camera_ts_raw)\n",
    "\n",
    "    #check for dropped frames:\n",
    "    check_timestamps(Camera_ts, Frame_rate = 60)\n",
    "    # Find triggers:\n",
    "    Camera_trig_states = find_trigger_states(Camera_ts_raw)\n",
    "    #check if triggers are working:\n",
    "    result = np.max(Camera_trig_states) == np.min(Camera_trig_states)\n",
    "    \n",
    "    # #pull out video name\n",
    "    # video_name = [TimeStampPath.split(\"\\\\\")[-1].split(\".\")[0] + '-camera-timestamp-data']\n",
    "\n",
    "    if not result:\n",
    "\n",
    "        # make camera dataframe:\n",
    "        Camera_dataframe = pd.DataFrame(\n",
    "            {'Time Stamps': Camera_ts,\n",
    "            'Trigger State': Camera_trig_states,\n",
    "            # 'DataPath': ([TimeStampPath] * len(Camera_ts))\n",
    "            })\n",
    "        \n",
    "    return Camera_dataframe\n",
    "\n",
    "def converttime(time):\n",
    "    #offset = time & 0xFFF\n",
    "    cycle1 = (time >> 12) & 0x1FFF\n",
    "    cycle2 = (time >> 25) & 0x7F\n",
    "    seconds = cycle2 + cycle1 / 8000.\n",
    "    return seconds\n",
    "\n",
    "def uncycle(time):\n",
    "    cycles = np.insert(np.diff(time) < 0, 0, False)\n",
    "    cycleindex = np.cumsum(cycles)\n",
    "    return time + cycleindex * 128\n",
    "\n",
    "def convert_uncycle_Timestamps(Camera_ts):\n",
    "    ##################   Convert the timestamps into seconds and uncycle them:\n",
    "    t_stamps = {}  \n",
    "    stamps_s = []\n",
    "    for indx, row in Camera_ts.iterrows():\n",
    "        if row.trigger > 0: \n",
    "            timestamp_new = converttime(int(row.timestamps))\n",
    "            stamps_s.append(timestamp_new)\n",
    "        # else:    \n",
    "        #     raise ValueError('Timestamps are broken')\n",
    "    t_stamps = uncycle(stamps_s)\n",
    "    t_stamps = t_stamps - t_stamps[0] # make first timestamp 0 and the others relative to this \n",
    "    return(t_stamps)\n",
    "\n",
    "def check_timestamps(t_stamps, Frame_rate):\n",
    "    # plot 1/(diff between time stamps). This tells you roughly the frequency and if you've droppped frames.\n",
    "    Frame_gaps = 1/np.diff(t_stamps)\n",
    "    Frames_dropped = 0\n",
    "    for gaps in Frame_gaps:\n",
    "        if gaps < (Frame_rate-5) or gaps > (Frame_rate+5):\n",
    "            Frames_dropped = Frames_dropped + 1\n",
    "    print('Frames dropped = ' + str(Frames_dropped))\n",
    "\n",
    "    plt.suptitle('Frame rate = ' + str(Frame_rate) + 'fps', color = 'red')\n",
    "    frame_gaps = plt.hist(Frame_gaps, bins=100)\n",
    "    plt.xlabel('Frequency')\n",
    "    plt.ylabel('Number of frames')\n",
    "    \n",
    "def find_trigger_states(Camera_ts_raw):\n",
    "    triggers = Camera_timestamps.trigger.values[np.where(Camera_timestamps.loc[:,'trigger']>0)]\n",
    "    down_state = list(triggers)[0]\n",
    "    down_state_times = np.where(triggers == down_state)\n",
    "    Triggers_temp = np.ones(len(triggers))\n",
    "    for index in down_state_times:\n",
    "        Triggers_temp[index] = 0\n",
    "    trigger_state = Triggers_temp\n",
    "    return trigger_state\n",
    "    "
   ]
  },
  {
   "cell_type": "code",
   "execution_count": 42,
   "metadata": {},
   "outputs": [
    {
     "name": "stdout",
     "output_type": "stream",
     "text": [
      "Z:\\projects\\sequence_squad\\revision_data\\lars_recordings\\video\\\\seq006\\seq006__20241114\\seq006__20241114__timestamp_02024-11-14T09_26_38.csv\n",
      "Z:\\projects\\sequence_squad\\revision_data\\lars_recordings\\video\\\\seq006\\seq006__20241114\\seq006__20241114__timestamp_22024-11-14T09_26_38.csv\n",
      "Z:\\projects\\sequence_squad\\revision_data\\lars_recordings\\video\\\\seq006\\seq006__20241115\\seq006__20241115__timestamp_02024-11-15T09_43_02.csv\n",
      "Z:\\projects\\sequence_squad\\revision_data\\lars_recordings\\video\\\\seq006\\seq006__20241115\\seq006__20241115__timestamp_22024-11-15T09_43_02.csv\n",
      "Z:\\projects\\sequence_squad\\revision_data\\lars_recordings\\video\\\\seq006\\seq006__20241116\\seq006__20241116__timestamp_02024-11-16T12_19_05.csv\n",
      "Z:\\projects\\sequence_squad\\revision_data\\lars_recordings\\video\\\\seq006\\seq006__20241116\\seq006__20241116__timestamp_22024-11-16T12_19_05.csv\n",
      "Z:\\projects\\sequence_squad\\revision_data\\lars_recordings\\video\\\\seq006\\seq006__20241118\\seq006__20241118__timestamp_02024-11-18T13_11_58.csv\n",
      "Z:\\projects\\sequence_squad\\revision_data\\lars_recordings\\video\\\\seq006\\seq006__20241118\\seq006__20241118__timestamp_22024-11-18T13_11_58.csv\n",
      "Z:\\projects\\sequence_squad\\revision_data\\lars_recordings\\video\\\\seq006\\seq006__20241119\\seq006__20241119__timestamp_02024-11-19T09_53_49.csv\n",
      "Z:\\projects\\sequence_squad\\revision_data\\lars_recordings\\video\\\\seq006\\seq006__20241119\\seq006__20241119__timestamp_22024-11-19T09_53_49.csv\n",
      "Z:\\projects\\sequence_squad\\revision_data\\lars_recordings\\video\\\\seq006\\seq006__20241120\\seq006__20241120__timestamp_02024-11-20T09_05_35.csv\n",
      "Z:\\projects\\sequence_squad\\revision_data\\lars_recordings\\video\\\\seq006\\seq006__20241120\\seq006__20241120__timestamp_22024-11-20T09_05_35.csv\n",
      "Z:\\projects\\sequence_squad\\revision_data\\lars_recordings\\video\\\\seq006\\seq006__20241121\\seq006__20241121__timestamp_02024-11-21T09_26_45.csv\n",
      "Z:\\projects\\sequence_squad\\revision_data\\lars_recordings\\video\\\\seq006\\seq006__20241121\\seq006__20241121__timestamp_22024-11-21T09_26_45.csv\n",
      "Z:\\projects\\sequence_squad\\revision_data\\lars_recordings\\video\\\\seq007\\seq007__20241118\\seq007__20241118__timestamp_02024-11-18T08_53_07.csv\n",
      "Z:\\projects\\sequence_squad\\revision_data\\lars_recordings\\video\\\\seq007\\seq007__20241118\\seq007__20241118__timestamp_22024-11-18T08_53_07.csv\n",
      "Z:\\projects\\sequence_squad\\revision_data\\lars_recordings\\video\\\\seq007\\seq007__20241119\\seq007__20241119__timestamp_02024-11-19T14_15_48.csv\n",
      "Z:\\projects\\sequence_squad\\revision_data\\lars_recordings\\video\\\\seq007\\seq007__20241119\\seq007__20241119__timestamp_22024-11-19T14_15_48.csv\n",
      "Z:\\projects\\sequence_squad\\revision_data\\lars_recordings\\video\\\\seq007\\seq007__20241120\\seq007__20241120__timestamp_02024-11-20T13_27_56.csv\n",
      "Z:\\projects\\sequence_squad\\revision_data\\lars_recordings\\video\\\\seq007\\seq007__20241120\\seq007__20241120__timestamp_22024-11-20T13_27_56.csv\n",
      "Z:\\projects\\sequence_squad\\revision_data\\lars_recordings\\video\\\\seq008\\seq008__20241111\\timestamp_02024-11-11T15_02_12.csv\n",
      "Z:\\projects\\sequence_squad\\revision_data\\lars_recordings\\video\\\\seq008\\seq008__20241111\\timestamp_22024-11-11T15_02_12.csv\n",
      "Z:\\projects\\sequence_squad\\revision_data\\lars_recordings\\video\\\\seq008\\seq008__20241112\\timestamp_02024-11-12T12_58_41.csv\n",
      "Z:\\projects\\sequence_squad\\revision_data\\lars_recordings\\video\\\\seq008\\seq008__20241112\\timestamp_22024-11-12T12_58_41.csv\n",
      "Z:\\projects\\sequence_squad\\revision_data\\lars_recordings\\video\\\\seq008\\seq008__20241113\\seq008__20241113__timestamp_02024-11-13T09_12_52.csv\n",
      "Z:\\projects\\sequence_squad\\revision_data\\lars_recordings\\video\\\\seq008\\seq008__20241113\\seq008__20241113__timestamp_22024-11-13T09_12_52.csv\n",
      "Z:\\projects\\sequence_squad\\revision_data\\lars_recordings\\video\\\\seq008\\seq008__20241115\\seq008__20241115__timestamp_02024-11-15T14_07_23.csv\n",
      "Z:\\projects\\sequence_squad\\revision_data\\lars_recordings\\video\\\\seq008\\seq008__20241115\\seq008__20241115__timestamp_22024-11-15T14_07_23.csv\n"
     ]
    }
   ],
   "source": [
    "base_path = r\"Z:\\projects\\sequence_squad\\revision_data\\lars_recordings\\video\\\\\"\n",
    "\n",
    "for mouse_file in os.listdir(base_path)[3::]:\n",
    "    mouse_base = os.path.join(base_path, mouse_file)\n",
    "    for recording in os.listdir(mouse_base):\n",
    "        full_file = os.path.join(mouse_base, recording)\n",
    "        for file in os.listdir(full_file):\n",
    "            if '.csv' in file:\n",
    "                print(os.path.join(full_file, file))\n",
    "\n",
    "                Camera_timestamps = pd.read_csv(os.path.join(full_file, file))\n",
    "                \n",
    "                if len(Camera_timestamps.columns) > 1:\n",
    "                    Camera_timestamps.columns = ['trigger', 'timestamps', 'blank']\n",
    "                    Camera_timestamps.trigger = Camera_timestamps.trigger.astype(float)\n",
    "                else:\n",
    "                    Camera_timestamps[['trigger', 'timestamps', 'blank']] = Camera_timestamps.iloc[:, 0].str.split(expand=True)\n",
    "                    Camera_timestamps.drop(Camera_timestamps.columns[0], axis=1, inplace=True)\n",
    "                    Camera_timestamps.trigger = Camera_timestamps.trigger.astype(float)\n",
    "                    \n",
    "                #check if timestmaps are reversed\n",
    "                if int(Camera_timestamps.timestamps.astype(float)[1] - Camera_timestamps.timestamps.astype(float)[0]) == 1:\n",
    "                    Camera_timestamps = Camera_timestamps.rename(columns={'timestamps': 'blank', 'blank': 'timestamps'})\n",
    "                    \n",
    "                    # Convert timestamps to datetime\n",
    "                    Camera_timestamps['datetime'] = pd.to_datetime(Camera_timestamps['timestamps'], unit='ns')\n",
    "                \n",
    "                    Camera_dataframe = pd.DataFrame({})\n",
    "                    Camera_dataframe['Trigger State'] = find_trigger_states(Camera_timestamps)\n",
    "                    Camera_dataframe['Time Stamps'] = (Camera_timestamps.datetime - Camera_timestamps.datetime[0]).dt.total_seconds()\n",
    "\n",
    "                else:\n",
    "                    Camera_dataframe = process_camera_data(Camera_timestamps)\n",
    "    \n",
    "## check frames\n",
    "\n",
    "## find each time period and split the triggers \n",
    "# load videos frames7# decided automatically if its above or back...\n",
    "# split the videos and save new names\n",
    "\n",
    "## save all out to nice new clean place... \n",
    "\n",
    "                    \n"
   ]
  },
  {
   "cell_type": "code",
   "execution_count": 45,
   "metadata": {},
   "outputs": [
    {
     "data": {
      "text/html": [
       "<div>\n",
       "<style scoped>\n",
       "    .dataframe tbody tr th:only-of-type {\n",
       "        vertical-align: middle;\n",
       "    }\n",
       "\n",
       "    .dataframe tbody tr th {\n",
       "        vertical-align: top;\n",
       "    }\n",
       "\n",
       "    .dataframe thead th {\n",
       "        text-align: right;\n",
       "    }\n",
       "</style>\n",
       "<table border=\"1\" class=\"dataframe\">\n",
       "  <thead>\n",
       "    <tr style=\"text-align: right;\">\n",
       "      <th></th>\n",
       "      <th>Trigger State</th>\n",
       "      <th>Time Stamps</th>\n",
       "    </tr>\n",
       "  </thead>\n",
       "  <tbody>\n",
       "    <tr>\n",
       "      <th>0</th>\n",
       "      <td>0.0</td>\n",
       "      <td>0.000000</td>\n",
       "    </tr>\n",
       "    <tr>\n",
       "      <th>1</th>\n",
       "      <td>0.0</td>\n",
       "      <td>0.015966</td>\n",
       "    </tr>\n",
       "    <tr>\n",
       "      <th>2</th>\n",
       "      <td>0.0</td>\n",
       "      <td>0.031932</td>\n",
       "    </tr>\n",
       "    <tr>\n",
       "      <th>3</th>\n",
       "      <td>0.0</td>\n",
       "      <td>0.047898</td>\n",
       "    </tr>\n",
       "    <tr>\n",
       "      <th>4</th>\n",
       "      <td>0.0</td>\n",
       "      <td>0.063864</td>\n",
       "    </tr>\n",
       "    <tr>\n",
       "      <th>...</th>\n",
       "      <td>...</td>\n",
       "      <td>...</td>\n",
       "    </tr>\n",
       "    <tr>\n",
       "      <th>837975</th>\n",
       "      <td>0.0</td>\n",
       "      <td>13379.242926</td>\n",
       "    </tr>\n",
       "    <tr>\n",
       "      <th>837976</th>\n",
       "      <td>0.0</td>\n",
       "      <td>13379.258892</td>\n",
       "    </tr>\n",
       "    <tr>\n",
       "      <th>837977</th>\n",
       "      <td>0.0</td>\n",
       "      <td>13379.274858</td>\n",
       "    </tr>\n",
       "    <tr>\n",
       "      <th>837978</th>\n",
       "      <td>0.0</td>\n",
       "      <td>13379.290824</td>\n",
       "    </tr>\n",
       "    <tr>\n",
       "      <th>837979</th>\n",
       "      <td>0.0</td>\n",
       "      <td>13379.306791</td>\n",
       "    </tr>\n",
       "  </tbody>\n",
       "</table>\n",
       "<p>837980 rows × 2 columns</p>\n",
       "</div>"
      ],
      "text/plain": [
       "        Trigger State   Time Stamps\n",
       "0                 0.0      0.000000\n",
       "1                 0.0      0.015966\n",
       "2                 0.0      0.031932\n",
       "3                 0.0      0.047898\n",
       "4                 0.0      0.063864\n",
       "...               ...           ...\n",
       "837975            0.0  13379.242926\n",
       "837976            0.0  13379.258892\n",
       "837977            0.0  13379.274858\n",
       "837978            0.0  13379.290824\n",
       "837979            0.0  13379.306791\n",
       "\n",
       "[837980 rows x 2 columns]"
      ]
     },
     "execution_count": 45,
     "metadata": {},
     "output_type": "execute_result"
    }
   ],
   "source": [
    "Camera_dataframe"
   ]
  },
  {
   "cell_type": "code",
   "execution_count": 25,
   "metadata": {},
   "outputs": [
    {
     "name": "stdout",
     "output_type": "stream",
     "text": [
      "Frames dropped = 10\n"
     ]
    },
    {
     "data": {
      "image/png": "[encoded data removed]",
      "text/plain": [
       "<Figure size 640x480 with 1 Axes>"
      ]
     },
     "metadata": {},
     "output_type": "display_data"
    }
   ],
   "source": [
    "\n",
    "\n"
   ]
  },
  {
   "cell_type": "code",
   "execution_count": 17,
   "metadata": {},
   "outputs": [
    {
     "data": {
      "text/plain": [
       "834835"
      ]
     },
     "execution_count": 17,
     "metadata": {},
     "output_type": "execute_result"
    }
   ],
   "source": [
    "len(Camera_trig_states)"
   ]
  },
  {
   "cell_type": "code",
   "execution_count": 14,
   "metadata": {},
   "outputs": [
    {
     "data": {
      "text/plain": [
       "[<matplotlib.lines.Line2D at 0x22726462f50>]"
      ]
     },
     "execution_count": 14,
     "metadata": {},
     "output_type": "execute_result"
    },
    {
     "data": {
      "image/png": "[encoded data removed]",
      "text/plain": [
       "<Figure size 640x480 with 1 Axes>"
      ]
     },
     "metadata": {},
     "output_type": "display_data"
    }
   ],
   "source": [
    "plt.plot(Camera_trig_states)"
   ]
  },
  {
   "cell_type": "code",
   "execution_count": 23,
   "metadata": {},
   "outputs": [],
   "source": []
  },
  {
   "cell_type": "code",
   "execution_count": 58,
   "metadata": {},
   "outputs": [
    {
     "data": {
      "text/plain": [
       "['seq008__20241115__camera_02024-11-15T14_07_23.avi',\n",
       " 'seq008__20241115__camera_22024-11-15T14_07_23.avi',\n",
       " 'seq008__20241115__timestamp_02024-11-15T14_07_23.csv',\n",
       " 'seq008__20241115__timestamp_22024-11-15T14_07_23.csv']"
      ]
     },
     "execution_count": 58,
     "metadata": {},
     "output_type": "execute_result"
    }
   ],
   "source": [
    "os.listdir(full_file)"
   ]
  },
  {
   "cell_type": "code",
   "execution_count": 67,
   "metadata": {},
   "outputs": [
    {
     "data": {
      "text/plain": [
       "'seq008__20241115__timestamp_22024-11-15T14_07_23.csv'"
      ]
     },
     "execution_count": 67,
     "metadata": {},
     "output_type": "execute_result"
    }
   ],
   "source": [
    "file\n"
   ]
  },
  {
   "cell_type": "code",
   "execution_count": 65,
   "metadata": {},
   "outputs": [],
   "source": []
  },
  {
   "cell_type": "code",
   "execution_count": 68,
   "metadata": {},
   "outputs": [
    {
     "ename": "KeyboardInterrupt",
     "evalue": "",
     "output_type": "error",
     "traceback": [
      "\u001b[1;31m---------------------------------------------------------------------------\u001b[0m",
      "\u001b[1;31mKeyboardInterrupt\u001b[0m                         Traceback (most recent call last)",
      "Cell \u001b[1;32mIn[68], line 21\u001b[0m\n\u001b[0;32m     18\u001b[0m \u001b[38;5;28;01mif\u001b[39;00m ret:\n\u001b[0;32m     19\u001b[0m     \u001b[38;5;66;03m# Display the first frame\u001b[39;00m\n\u001b[0;32m     20\u001b[0m     cv2\u001b[38;5;241m.\u001b[39mimshow(\u001b[38;5;124m'\u001b[39m\u001b[38;5;124mFirst Frame\u001b[39m\u001b[38;5;124m'\u001b[39m, frame)\n\u001b[1;32m---> 21\u001b[0m     \u001b[43mcv2\u001b[49m\u001b[38;5;241;43m.\u001b[39;49m\u001b[43mwaitKey\u001b[49m\u001b[43m(\u001b[49m\u001b[38;5;241;43m0\u001b[39;49m\u001b[43m)\u001b[49m  \u001b[38;5;66;03m# Wait for a key press to close the window\u001b[39;00m\n\u001b[0;32m     22\u001b[0m     cv2\u001b[38;5;241m.\u001b[39mdestroyAllWindows()\n\u001b[0;32m     23\u001b[0m \u001b[38;5;28;01melse\u001b[39;00m:\n",
      "\u001b[1;31mKeyboardInterrupt\u001b[0m: "
     ]
    }
   ],
   "source": [
    "import cv2\n",
    "\n",
    "for cam_file in os.listdir(full_file):\n",
    "    if file.split('.csv')[0].split('__')[-1].split('_')[1] in cam_file:\n",
    "        if '.avi' in cam_file:\n",
    "            cam_path = os.path.join(full_file,cam_file)\n",
    "\n",
    "cam_path\n",
    "# Load the .avi file\n",
    "cap = cv2.VideoCapture(cam_path)\n",
    "\n",
    "# Check if the video opened successfully\n",
    "if not cap.isOpened():\n",
    "    print(\"Error: Could not open video.\")\n",
    "else:\n",
    "    # Read the first frame\n",
    "    ret, frame = cap.read()\n",
    "    if ret:\n",
    "        # Display the first frame\n",
    "        cv2.imshow('First Frame', frame)\n",
    "        cv2.waitKey(0)  # Wait for a key press to close the window\n",
    "        cv2.destroyAllWindows()\n",
    "    else:\n",
    "        print(\"Error: Could not read the first frame.\")\n",
    "\n",
    "# Release the video capture object\n",
    "cap.release()"
   ]
  },
  {
   "cell_type": "code",
   "execution_count": null,
   "metadata": {},
   "outputs": [],
   "source": [
    "ret"
   ]
  },
  {
   "cell_type": "code",
   "execution_count": null,
   "metadata": {},
   "outputs": [],
   "source": []
  },
  {
   "cell_type": "code",
   "execution_count": 36,
   "metadata": {},
   "outputs": [
    {
     "data": {
      "text/plain": [
       "'Z:\\\\projects\\\\sequence_squad\\\\revision_data\\\\lars_recordings\\\\video\\\\\\\\AP5L\\\\AP5_2_L__20241118'"
      ]
     },
     "execution_count": 36,
     "metadata": {},
     "output_type": "execute_result"
    }
   ],
   "source": [
    "full_file"
   ]
  },
  {
   "cell_type": "code",
   "execution_count": 23,
   "metadata": {},
   "outputs": [
    {
     "data": {
      "text/plain": [
       "0         7.869948e+08\n",
       "1         7.875404e+08\n",
       "2         7.880870e+08\n",
       "3         7.886326e+08\n",
       "4         7.891782e+08\n",
       "              ...     \n",
       "834830    3.908416e+09\n",
       "834831    3.908961e+09\n",
       "834832    3.909507e+09\n",
       "834833    3.910053e+09\n",
       "834834    3.910599e+09\n",
       "Name: timestamps, Length: 834835, dtype: float64"
      ]
     },
     "execution_count": 23,
     "metadata": {},
     "output_type": "execute_result"
    }
   ],
   "source": [
    "Camera_timestamps.timestamps.astype(float)"
   ]
  },
  {
   "cell_type": "code",
   "execution_count": null,
   "metadata": {},
   "outputs": [],
   "source": [
    "Camera_timestamps = pd.read_csv(os.path.join(full_file, file))\n",
    "\n",
    "if len(Camera_timestamps.columns) > 1:\n",
    "    Camera_timestamps.columns = ['trigger', 'timestamps', 'blank']\n",
    "    Camera_timestamps.trigger = Camera_timestamps.trigger.astype(float)\n",
    "else:\n",
    "    Camera_timestamps[['trigger', 'timestamps', 'blank']] = Camera_timestamps.iloc[:, 0].str.split(expand=True)\n",
    "    Camera_timestamps.drop(Camera_timestamps.columns[0], axis=1, inplace=True)\n",
    "    Camera_timestamps.trigger = Camera_timestamps.trigger.astype(float)\n",
    "    \n",
    "#check if timestmaps are reversed\n",
    "if Camera_timestamps.timestamps[1] - Camera_timestamps.timestamps[0] == 1:\n",
    "    Camera_timestamps = Camera_timestamps.rename(columns={'timestamps': 'blank', 'blank': 'timestamps'})\n",
    "    \n",
    "    # Convert timestamps to datetime\n",
    "    Camera_timestamps['datetime'] = pd.to_datetime(Camera_timestamps['timestamps'], unit='ns')\n",
    "\n",
    "    Camera_timestamps['timestamps_s'] = (Camera_timestamps.datetime - Camera_timestamps.datetime[0]).dt.total_seconds()\n",
    "    "
   ]
  },
  {
   "cell_type": "code",
   "execution_count": 19,
   "metadata": {},
   "outputs": [
    {
     "data": {
      "text/html": [
       "<div>\n",
       "<style scoped>\n",
       "    .dataframe tbody tr th:only-of-type {\n",
       "        vertical-align: middle;\n",
       "    }\n",
       "\n",
       "    .dataframe tbody tr th {\n",
       "        vertical-align: top;\n",
       "    }\n",
       "\n",
       "    .dataframe thead th {\n",
       "        text-align: right;\n",
       "    }\n",
       "</style>\n",
       "<table border=\"1\" class=\"dataframe\">\n",
       "  <thead>\n",
       "    <tr style=\"text-align: right;\">\n",
       "      <th></th>\n",
       "      <th>trigger</th>\n",
       "      <th>blank</th>\n",
       "      <th>timestamps</th>\n",
       "      <th>datetime</th>\n",
       "      <th>timestamps_s</th>\n",
       "    </tr>\n",
       "  </thead>\n",
       "  <tbody>\n",
       "    <tr>\n",
       "      <th>0</th>\n",
       "      <td>12.0</td>\n",
       "      <td>22967361</td>\n",
       "      <td>347450753384920</td>\n",
       "      <td>1970-01-05 00:30:50.753384920</td>\n",
       "      <td>0.000000</td>\n",
       "    </tr>\n",
       "    <tr>\n",
       "      <th>1</th>\n",
       "      <td>12.0</td>\n",
       "      <td>22967362</td>\n",
       "      <td>347450759343208</td>\n",
       "      <td>1970-01-05 00:30:50.759343208</td>\n",
       "      <td>0.005958</td>\n",
       "    </tr>\n",
       "    <tr>\n",
       "      <th>2</th>\n",
       "      <td>12.0</td>\n",
       "      <td>22967363</td>\n",
       "      <td>347450765302400</td>\n",
       "      <td>1970-01-05 00:30:50.765302400</td>\n",
       "      <td>0.011917</td>\n",
       "    </tr>\n",
       "    <tr>\n",
       "      <th>3</th>\n",
       "      <td>12.0</td>\n",
       "      <td>22967364</td>\n",
       "      <td>347450771261264</td>\n",
       "      <td>1970-01-05 00:30:50.771261264</td>\n",
       "      <td>0.017876</td>\n",
       "    </tr>\n",
       "    <tr>\n",
       "      <th>4</th>\n",
       "      <td>12.0</td>\n",
       "      <td>22967365</td>\n",
       "      <td>347450777220448</td>\n",
       "      <td>1970-01-05 00:30:50.777220448</td>\n",
       "      <td>0.023836</td>\n",
       "    </tr>\n",
       "    <tr>\n",
       "      <th>...</th>\n",
       "      <td>...</td>\n",
       "      <td>...</td>\n",
       "      <td>...</td>\n",
       "      <td>...</td>\n",
       "      <td>...</td>\n",
       "    </tr>\n",
       "    <tr>\n",
       "      <th>2037999</th>\n",
       "      <td>12.0</td>\n",
       "      <td>25005360</td>\n",
       "      <td>360830060472448</td>\n",
       "      <td>1970-01-05 04:13:50.060472448</td>\n",
       "      <td>13379.307088</td>\n",
       "    </tr>\n",
       "    <tr>\n",
       "      <th>2038000</th>\n",
       "      <td>12.0</td>\n",
       "      <td>25005361</td>\n",
       "      <td>360830066715920</td>\n",
       "      <td>1970-01-05 04:13:50.066715920</td>\n",
       "      <td>13379.313331</td>\n",
       "    </tr>\n",
       "    <tr>\n",
       "      <th>2038001</th>\n",
       "      <td>12.0</td>\n",
       "      <td>25005362</td>\n",
       "      <td>360830072959048</td>\n",
       "      <td>1970-01-05 04:13:50.072959048</td>\n",
       "      <td>13379.319574</td>\n",
       "    </tr>\n",
       "    <tr>\n",
       "      <th>2038002</th>\n",
       "      <td>12.0</td>\n",
       "      <td>25005363</td>\n",
       "      <td>360830079202120</td>\n",
       "      <td>1970-01-05 04:13:50.079202120</td>\n",
       "      <td>13379.325817</td>\n",
       "    </tr>\n",
       "    <tr>\n",
       "      <th>2038003</th>\n",
       "      <td>12.0</td>\n",
       "      <td>25005364</td>\n",
       "      <td>360830085444640</td>\n",
       "      <td>1970-01-05 04:13:50.085444640</td>\n",
       "      <td>13379.332060</td>\n",
       "    </tr>\n",
       "  </tbody>\n",
       "</table>\n",
       "<p>2038004 rows × 5 columns</p>\n",
       "</div>"
      ],
      "text/plain": [
       "         trigger     blank       timestamps                      datetime  \\\n",
       "0           12.0  22967361  347450753384920 1970-01-05 00:30:50.753384920   \n",
       "1           12.0  22967362  347450759343208 1970-01-05 00:30:50.759343208   \n",
       "2           12.0  22967363  347450765302400 1970-01-05 00:30:50.765302400   \n",
       "3           12.0  22967364  347450771261264 1970-01-05 00:30:50.771261264   \n",
       "4           12.0  22967365  347450777220448 1970-01-05 00:30:50.777220448   \n",
       "...          ...       ...              ...                           ...   \n",
       "2037999     12.0  25005360  360830060472448 1970-01-05 04:13:50.060472448   \n",
       "2038000     12.0  25005361  360830066715920 1970-01-05 04:13:50.066715920   \n",
       "2038001     12.0  25005362  360830072959048 1970-01-05 04:13:50.072959048   \n",
       "2038002     12.0  25005363  360830079202120 1970-01-05 04:13:50.079202120   \n",
       "2038003     12.0  25005364  360830085444640 1970-01-05 04:13:50.085444640   \n",
       "\n",
       "         timestamps_s  \n",
       "0            0.000000  \n",
       "1            0.005958  \n",
       "2            0.011917  \n",
       "3            0.017876  \n",
       "4            0.023836  \n",
       "...               ...  \n",
       "2037999  13379.307088  \n",
       "2038000  13379.313331  \n",
       "2038001  13379.319574  \n",
       "2038002  13379.325817  \n",
       "2038003  13379.332060  \n",
       "\n",
       "[2038004 rows x 5 columns]"
      ]
     },
     "execution_count": 19,
     "metadata": {},
     "output_type": "execute_result"
    }
   ],
   "source": [
    "Camera_timestamps"
   ]
  },
  {
   "cell_type": "code",
   "execution_count": 15,
   "metadata": {},
   "outputs": [],
   "source": [
    "if len(Camera_timestamps.columns) > 1:\n",
    "    Camera_timestamps.columns = ['trigger', 'timestamps', 'blank']\n",
    "    Camera_timestamps.trigger = Camera_timestamps.trigger.astype(float)\n",
    "else:\n",
    "    Camera_timestamps[['trigger', 'timestamps', 'blank']] = Camera_timestamps.iloc[:, 0].str.split(expand=True)\n",
    "    Camera_timestamps.drop(Camera_timestamps.columns[0], axis=1, inplace=True)\n",
    "    Camera_timestamps.trigger = Camera_timestamps.trigger.astype(float)\n"
   ]
  },
  {
   "cell_type": "code",
   "execution_count": 16,
   "metadata": {},
   "outputs": [
    {
     "data": {
      "text/html": [
       "<div>\n",
       "<style scoped>\n",
       "    .dataframe tbody tr th:only-of-type {\n",
       "        vertical-align: middle;\n",
       "    }\n",
       "\n",
       "    .dataframe tbody tr th {\n",
       "        vertical-align: top;\n",
       "    }\n",
       "\n",
       "    .dataframe thead th {\n",
       "        text-align: right;\n",
       "    }\n",
       "</style>\n",
       "<table border=\"1\" class=\"dataframe\">\n",
       "  <thead>\n",
       "    <tr style=\"text-align: right;\">\n",
       "      <th></th>\n",
       "      <th>trigger</th>\n",
       "      <th>timestamps</th>\n",
       "      <th>blank</th>\n",
       "    </tr>\n",
       "  </thead>\n",
       "  <tbody>\n",
       "    <tr>\n",
       "      <th>0</th>\n",
       "      <td>12.0</td>\n",
       "      <td>22967361</td>\n",
       "      <td>347450753384920</td>\n",
       "    </tr>\n",
       "    <tr>\n",
       "      <th>1</th>\n",
       "      <td>12.0</td>\n",
       "      <td>22967362</td>\n",
       "      <td>347450759343208</td>\n",
       "    </tr>\n",
       "    <tr>\n",
       "      <th>2</th>\n",
       "      <td>12.0</td>\n",
       "      <td>22967363</td>\n",
       "      <td>347450765302400</td>\n",
       "    </tr>\n",
       "    <tr>\n",
       "      <th>3</th>\n",
       "      <td>12.0</td>\n",
       "      <td>22967364</td>\n",
       "      <td>347450771261264</td>\n",
       "    </tr>\n",
       "    <tr>\n",
       "      <th>4</th>\n",
       "      <td>12.0</td>\n",
       "      <td>22967365</td>\n",
       "      <td>347450777220448</td>\n",
       "    </tr>\n",
       "    <tr>\n",
       "      <th>...</th>\n",
       "      <td>...</td>\n",
       "      <td>...</td>\n",
       "      <td>...</td>\n",
       "    </tr>\n",
       "    <tr>\n",
       "      <th>2037999</th>\n",
       "      <td>12.0</td>\n",
       "      <td>25005360</td>\n",
       "      <td>360830060472448</td>\n",
       "    </tr>\n",
       "    <tr>\n",
       "      <th>2038000</th>\n",
       "      <td>12.0</td>\n",
       "      <td>25005361</td>\n",
       "      <td>360830066715920</td>\n",
       "    </tr>\n",
       "    <tr>\n",
       "      <th>2038001</th>\n",
       "      <td>12.0</td>\n",
       "      <td>25005362</td>\n",
       "      <td>360830072959048</td>\n",
       "    </tr>\n",
       "    <tr>\n",
       "      <th>2038002</th>\n",
       "      <td>12.0</td>\n",
       "      <td>25005363</td>\n",
       "      <td>360830079202120</td>\n",
       "    </tr>\n",
       "    <tr>\n",
       "      <th>2038003</th>\n",
       "      <td>12.0</td>\n",
       "      <td>25005364</td>\n",
       "      <td>360830085444640</td>\n",
       "    </tr>\n",
       "  </tbody>\n",
       "</table>\n",
       "<p>2038004 rows × 3 columns</p>\n",
       "</div>"
      ],
      "text/plain": [
       "         trigger  timestamps            blank\n",
       "0           12.0    22967361  347450753384920\n",
       "1           12.0    22967362  347450759343208\n",
       "2           12.0    22967363  347450765302400\n",
       "3           12.0    22967364  347450771261264\n",
       "4           12.0    22967365  347450777220448\n",
       "...          ...         ...              ...\n",
       "2037999     12.0    25005360  360830060472448\n",
       "2038000     12.0    25005361  360830066715920\n",
       "2038001     12.0    25005362  360830072959048\n",
       "2038002     12.0    25005363  360830079202120\n",
       "2038003     12.0    25005364  360830085444640\n",
       "\n",
       "[2038004 rows x 3 columns]"
      ]
     },
     "execution_count": 16,
     "metadata": {},
     "output_type": "execute_result"
    }
   ],
   "source": [
    "Camera_timestamps"
   ]
  },
  {
   "cell_type": "code",
   "execution_count": 394,
   "metadata": {},
   "outputs": [
    {
     "data": {
      "text/html": [
       "<div>\n",
       "<style scoped>\n",
       "    .dataframe tbody tr th:only-of-type {\n",
       "        vertical-align: middle;\n",
       "    }\n",
       "\n",
       "    .dataframe tbody tr th {\n",
       "        vertical-align: top;\n",
       "    }\n",
       "\n",
       "    .dataframe thead th {\n",
       "        text-align: right;\n",
       "    }\n",
       "</style>\n",
       "<table border=\"1\" class=\"dataframe\">\n",
       "  <thead>\n",
       "    <tr style=\"text-align: right;\">\n",
       "      <th></th>\n",
       "      <th>trigger</th>\n",
       "      <th>blank</th>\n",
       "      <th>timestamps</th>\n",
       "    </tr>\n",
       "  </thead>\n",
       "  <tbody>\n",
       "    <tr>\n",
       "      <th>0</th>\n",
       "      <td>12.0</td>\n",
       "      <td>118007421</td>\n",
       "      <td>1461975076160656</td>\n",
       "    </tr>\n",
       "    <tr>\n",
       "      <th>1</th>\n",
       "      <td>12.0</td>\n",
       "      <td>118007422</td>\n",
       "      <td>1461975092126600</td>\n",
       "    </tr>\n",
       "    <tr>\n",
       "      <th>2</th>\n",
       "      <td>12.0</td>\n",
       "      <td>118007423</td>\n",
       "      <td>1461975108092752</td>\n",
       "    </tr>\n",
       "    <tr>\n",
       "      <th>3</th>\n",
       "      <td>12.0</td>\n",
       "      <td>118007424</td>\n",
       "      <td>1461975124058392</td>\n",
       "    </tr>\n",
       "    <tr>\n",
       "      <th>4</th>\n",
       "      <td>12.0</td>\n",
       "      <td>118007425</td>\n",
       "      <td>1461975140024672</td>\n",
       "    </tr>\n",
       "    <tr>\n",
       "      <th>...</th>\n",
       "      <td>...</td>\n",
       "      <td>...</td>\n",
       "      <td>...</td>\n",
       "    </tr>\n",
       "    <tr>\n",
       "      <th>1013466</th>\n",
       "      <td>12.0</td>\n",
       "      <td>119020887</td>\n",
       "      <td>1478156236470696</td>\n",
       "    </tr>\n",
       "    <tr>\n",
       "      <th>1013467</th>\n",
       "      <td>12.0</td>\n",
       "      <td>119020888</td>\n",
       "      <td>1478156252436600</td>\n",
       "    </tr>\n",
       "    <tr>\n",
       "      <th>1013468</th>\n",
       "      <td>12.0</td>\n",
       "      <td>119020889</td>\n",
       "      <td>1478156268403720</td>\n",
       "    </tr>\n",
       "    <tr>\n",
       "      <th>1013469</th>\n",
       "      <td>12.0</td>\n",
       "      <td>119020890</td>\n",
       "      <td>1478156284369696</td>\n",
       "    </tr>\n",
       "    <tr>\n",
       "      <th>1013470</th>\n",
       "      <td>12.0</td>\n",
       "      <td>119020891</td>\n",
       "      <td>1478156300335672</td>\n",
       "    </tr>\n",
       "  </tbody>\n",
       "</table>\n",
       "<p>1013471 rows × 3 columns</p>\n",
       "</div>"
      ],
      "text/plain": [
       "         trigger      blank        timestamps\n",
       "0           12.0  118007421  1461975076160656\n",
       "1           12.0  118007422  1461975092126600\n",
       "2           12.0  118007423  1461975108092752\n",
       "3           12.0  118007424  1461975124058392\n",
       "4           12.0  118007425  1461975140024672\n",
       "...          ...        ...               ...\n",
       "1013466     12.0  119020887  1478156236470696\n",
       "1013467     12.0  119020888  1478156252436600\n",
       "1013468     12.0  119020889  1478156268403720\n",
       "1013469     12.0  119020890  1478156284369696\n",
       "1013470     12.0  119020891  1478156300335672\n",
       "\n",
       "[1013471 rows x 3 columns]"
      ]
     },
     "execution_count": 394,
     "metadata": {},
     "output_type": "execute_result"
    }
   ],
   "source": [
    "Camera_timestamps"
   ]
  },
  {
   "cell_type": "code",
   "execution_count": 400,
   "metadata": {},
   "outputs": [
    {
     "data": {
      "text/plain": [
       "0          1461975076160656\n",
       "1          1461975092126600\n",
       "2          1461975108092752\n",
       "3          1461975124058392\n",
       "4          1461975140024672\n",
       "                 ...       \n",
       "1013466    1478156236470696\n",
       "1013467    1478156252436600\n",
       "1013468    1478156268403720\n",
       "1013469    1478156284369696\n",
       "1013470    1478156300335672\n",
       "Name: timestamps, Length: 1013471, dtype: int64"
      ]
     },
     "execution_count": 400,
     "metadata": {},
     "output_type": "execute_result"
    }
   ],
   "source": [
    "Camera_timestamps['timestamps']"
   ]
  },
  {
   "cell_type": "code",
   "execution_count": null,
   "metadata": {},
   "outputs": [],
   "source": []
  },
  {
   "cell_type": "code",
   "execution_count": null,
   "metadata": {},
   "outputs": [
    {
     "data": {
      "text/plain": [
       "0.016666666666666666"
      ]
     },
     "execution_count": 412,
     "metadata": {},
     "output_type": "execute_result"
    }
   ],
   "source": [
    "1/60\n",
    "0.015966\n",
    "Camera_timestamps"
   ]
  },
  {
   "cell_type": "code",
   "execution_count": 385,
   "metadata": {},
   "outputs": [
    {
     "data": {
      "text/plain": [
       "array([15965944, 15966152, 15965640, ..., 15967120, 15965976, 15965976],\n",
       "      dtype=int64)"
      ]
     },
     "execution_count": 385,
     "metadata": {},
     "output_type": "execute_result"
    }
   ],
   "source": [
    "np.diff(Camera_timestamps.timestamps)"
   ]
  },
  {
   "cell_type": "code",
   "execution_count": 389,
   "metadata": {},
   "outputs": [
    {
     "data": {
      "text/plain": [
       "[<matplotlib.lines.Line2D at 0x27128ee0560>]"
      ]
     },
     "execution_count": 389,
     "metadata": {},
     "output_type": "execute_result"
    },
    {
     "data": {
      "image/png": "[encoded data removed]",
      "text/plain": [
       "<Figure size 640x480 with 1 Axes>"
      ]
     },
     "metadata": {},
     "output_type": "display_data"
    }
   ],
   "source": [
    "plt.plot(Camera_timestamps.timestamps)"
   ]
  },
  {
   "cell_type": "code",
   "execution_count": null,
   "metadata": {},
   "outputs": [
    {
     "data": {
      "text/plain": [
       "1543027.393936197"
      ]
     },
     "execution_count": 388,
     "metadata": {},
     "output_type": "execute_result"
    }
   ],
   "source": [
    "1478156300335672"
   ]
  },
  {
   "cell_type": "code",
   "execution_count": 386,
   "metadata": {},
   "outputs": [
    {
     "data": {
      "text/plain": [
       "957958560"
      ]
     },
     "execution_count": 386,
     "metadata": {},
     "output_type": "execute_result"
    }
   ],
   "source": [
    "15965976 * 60"
   ]
  },
  {
   "cell_type": "code",
   "execution_count": 369,
   "metadata": {},
   "outputs": [
    {
     "name": "stdout",
     "output_type": "stream",
     "text": [
      "Frames dropped = 1013470\n"
     ]
    },
    {
     "data": {
      "image/png": "[encoded data removed]",
      "text/plain": [
       "<Figure size 640x480 with 1 Axes>"
      ]
     },
     "metadata": {},
     "output_type": "display_data"
    }
   ],
   "source": [
    "Camera_ts = convert_uncycle_Timestamps(Camera_timestamps)\n",
    "\n",
    "#check for dropped frames:\n",
    "check_timestamps(Camera_ts, Frame_rate = 60)"
   ]
  },
  {
   "cell_type": "code",
   "execution_count": 371,
   "metadata": {},
   "outputs": [
    {
     "data": {
      "text/plain": [
       "array([0.46325, 0.48725, 0.48725, ..., 0.48725, 0.46325, 0.48725])"
      ]
     },
     "execution_count": 371,
     "metadata": {},
     "output_type": "execute_result"
    }
   ],
   "source": [
    "np.diff(Camera_ts)"
   ]
  },
  {
   "cell_type": "code",
   "execution_count": 373,
   "metadata": {},
   "outputs": [
    {
     "data": {
      "text/plain": [
       "2.1586616297895307"
      ]
     },
     "execution_count": 373,
     "metadata": {},
     "output_type": "execute_result"
    }
   ],
   "source": [
    "1/0.46325"
   ]
  },
  {
   "cell_type": "code",
   "execution_count": 341,
   "metadata": {},
   "outputs": [
    {
     "name": "stderr",
     "output_type": "stream",
     "text": [
      "C:\\Users\\Emmett Thompson\\AppData\\Local\\Temp\\ipykernel_42440\\1708563977.py:58: RuntimeWarning: divide by zero encountered in divide\n",
      "  Frame_gaps = 1/np.diff(t_stamps)\n"
     ]
    },
    {
     "name": "stdout",
     "output_type": "stream",
     "text": [
      "Frames dropped = 1013470\n"
     ]
    },
    {
     "ename": "ValueError",
     "evalue": "supplied range of [7999.999999990223, inf] is not finite",
     "output_type": "error",
     "traceback": [
      "\u001b[1;31m---------------------------------------------------------------------------\u001b[0m",
      "\u001b[1;31mValueError\u001b[0m                                Traceback (most recent call last)",
      "Cell \u001b[1;32mIn[341], line 1\u001b[0m\n\u001b[1;32m----> 1\u001b[0m \u001b[43mcheck_timestamps\u001b[49m\u001b[43m(\u001b[49m\u001b[43mCamera_ts\u001b[49m\u001b[43m,\u001b[49m\u001b[43m \u001b[49m\u001b[43mFrame_rate\u001b[49m\u001b[43m \u001b[49m\u001b[38;5;241;43m=\u001b[39;49m\u001b[43m \u001b[49m\u001b[38;5;241;43m60\u001b[39;49m\u001b[43m)\u001b[49m\n",
      "Cell \u001b[1;32mIn[334], line 66\u001b[0m, in \u001b[0;36mcheck_timestamps\u001b[1;34m(t_stamps, Frame_rate)\u001b[0m\n\u001b[0;32m     63\u001b[0m \u001b[38;5;28mprint\u001b[39m(\u001b[38;5;124m'\u001b[39m\u001b[38;5;124mFrames dropped = \u001b[39m\u001b[38;5;124m'\u001b[39m \u001b[38;5;241m+\u001b[39m \u001b[38;5;28mstr\u001b[39m(Frames_dropped))\n\u001b[0;32m     65\u001b[0m plt\u001b[38;5;241m.\u001b[39msuptitle(\u001b[38;5;124m'\u001b[39m\u001b[38;5;124mFrame rate = \u001b[39m\u001b[38;5;124m'\u001b[39m \u001b[38;5;241m+\u001b[39m \u001b[38;5;28mstr\u001b[39m(Frame_rate) \u001b[38;5;241m+\u001b[39m \u001b[38;5;124m'\u001b[39m\u001b[38;5;124mfps\u001b[39m\u001b[38;5;124m'\u001b[39m, color \u001b[38;5;241m=\u001b[39m \u001b[38;5;124m'\u001b[39m\u001b[38;5;124mred\u001b[39m\u001b[38;5;124m'\u001b[39m)\n\u001b[1;32m---> 66\u001b[0m frame_gaps \u001b[38;5;241m=\u001b[39m \u001b[43mplt\u001b[49m\u001b[38;5;241;43m.\u001b[39;49m\u001b[43mhist\u001b[49m\u001b[43m(\u001b[49m\u001b[43mFrame_gaps\u001b[49m\u001b[43m,\u001b[49m\u001b[43m \u001b[49m\u001b[43mbins\u001b[49m\u001b[38;5;241;43m=\u001b[39;49m\u001b[38;5;241;43m100\u001b[39;49m\u001b[43m)\u001b[49m\n\u001b[0;32m     67\u001b[0m plt\u001b[38;5;241m.\u001b[39mxlabel(\u001b[38;5;124m'\u001b[39m\u001b[38;5;124mFrequency\u001b[39m\u001b[38;5;124m'\u001b[39m)\n\u001b[0;32m     68\u001b[0m plt\u001b[38;5;241m.\u001b[39mylabel(\u001b[38;5;124m'\u001b[39m\u001b[38;5;124mNumber of frames\u001b[39m\u001b[38;5;124m'\u001b[39m)\n",
      "File \u001b[1;32m~\\AppData\\Roaming\\Python\\Python312\\site-packages\\matplotlib\\pyplot.py:2645\u001b[0m, in \u001b[0;36mhist\u001b[1;34m(x, bins, range, density, weights, cumulative, bottom, histtype, align, orientation, rwidth, log, color, label, stacked, data, **kwargs)\u001b[0m\n\u001b[0;32m   2639\u001b[0m \u001b[38;5;129m@_copy_docstring_and_deprecators\u001b[39m(Axes\u001b[38;5;241m.\u001b[39mhist)\n\u001b[0;32m   2640\u001b[0m \u001b[38;5;28;01mdef\u001b[39;00m \u001b[38;5;21mhist\u001b[39m(\n\u001b[0;32m   2641\u001b[0m         x, bins\u001b[38;5;241m=\u001b[39m\u001b[38;5;28;01mNone\u001b[39;00m, \u001b[38;5;28mrange\u001b[39m\u001b[38;5;241m=\u001b[39m\u001b[38;5;28;01mNone\u001b[39;00m, density\u001b[38;5;241m=\u001b[39m\u001b[38;5;28;01mFalse\u001b[39;00m, weights\u001b[38;5;241m=\u001b[39m\u001b[38;5;28;01mNone\u001b[39;00m,\n\u001b[0;32m   2642\u001b[0m         cumulative\u001b[38;5;241m=\u001b[39m\u001b[38;5;28;01mFalse\u001b[39;00m, bottom\u001b[38;5;241m=\u001b[39m\u001b[38;5;28;01mNone\u001b[39;00m, histtype\u001b[38;5;241m=\u001b[39m\u001b[38;5;124m'\u001b[39m\u001b[38;5;124mbar\u001b[39m\u001b[38;5;124m'\u001b[39m, align\u001b[38;5;241m=\u001b[39m\u001b[38;5;124m'\u001b[39m\u001b[38;5;124mmid\u001b[39m\u001b[38;5;124m'\u001b[39m,\n\u001b[0;32m   2643\u001b[0m         orientation\u001b[38;5;241m=\u001b[39m\u001b[38;5;124m'\u001b[39m\u001b[38;5;124mvertical\u001b[39m\u001b[38;5;124m'\u001b[39m, rwidth\u001b[38;5;241m=\u001b[39m\u001b[38;5;28;01mNone\u001b[39;00m, log\u001b[38;5;241m=\u001b[39m\u001b[38;5;28;01mFalse\u001b[39;00m, color\u001b[38;5;241m=\u001b[39m\u001b[38;5;28;01mNone\u001b[39;00m,\n\u001b[0;32m   2644\u001b[0m         label\u001b[38;5;241m=\u001b[39m\u001b[38;5;28;01mNone\u001b[39;00m, stacked\u001b[38;5;241m=\u001b[39m\u001b[38;5;28;01mFalse\u001b[39;00m, \u001b[38;5;241m*\u001b[39m, data\u001b[38;5;241m=\u001b[39m\u001b[38;5;28;01mNone\u001b[39;00m, \u001b[38;5;241m*\u001b[39m\u001b[38;5;241m*\u001b[39mkwargs):\n\u001b[1;32m-> 2645\u001b[0m     \u001b[38;5;28;01mreturn\u001b[39;00m \u001b[43mgca\u001b[49m\u001b[43m(\u001b[49m\u001b[43m)\u001b[49m\u001b[38;5;241;43m.\u001b[39;49m\u001b[43mhist\u001b[49m\u001b[43m(\u001b[49m\n\u001b[0;32m   2646\u001b[0m \u001b[43m        \u001b[49m\u001b[43mx\u001b[49m\u001b[43m,\u001b[49m\u001b[43m \u001b[49m\u001b[43mbins\u001b[49m\u001b[38;5;241;43m=\u001b[39;49m\u001b[43mbins\u001b[49m\u001b[43m,\u001b[49m\u001b[43m \u001b[49m\u001b[38;5;28;43mrange\u001b[39;49m\u001b[38;5;241;43m=\u001b[39;49m\u001b[38;5;28;43mrange\u001b[39;49m\u001b[43m,\u001b[49m\u001b[43m \u001b[49m\u001b[43mdensity\u001b[49m\u001b[38;5;241;43m=\u001b[39;49m\u001b[43mdensity\u001b[49m\u001b[43m,\u001b[49m\u001b[43m \u001b[49m\u001b[43mweights\u001b[49m\u001b[38;5;241;43m=\u001b[39;49m\u001b[43mweights\u001b[49m\u001b[43m,\u001b[49m\n\u001b[0;32m   2647\u001b[0m \u001b[43m        \u001b[49m\u001b[43mcumulative\u001b[49m\u001b[38;5;241;43m=\u001b[39;49m\u001b[43mcumulative\u001b[49m\u001b[43m,\u001b[49m\u001b[43m \u001b[49m\u001b[43mbottom\u001b[49m\u001b[38;5;241;43m=\u001b[39;49m\u001b[43mbottom\u001b[49m\u001b[43m,\u001b[49m\u001b[43m \u001b[49m\u001b[43mhisttype\u001b[49m\u001b[38;5;241;43m=\u001b[39;49m\u001b[43mhisttype\u001b[49m\u001b[43m,\u001b[49m\n\u001b[0;32m   2648\u001b[0m \u001b[43m        \u001b[49m\u001b[43malign\u001b[49m\u001b[38;5;241;43m=\u001b[39;49m\u001b[43malign\u001b[49m\u001b[43m,\u001b[49m\u001b[43m \u001b[49m\u001b[43morientation\u001b[49m\u001b[38;5;241;43m=\u001b[39;49m\u001b[43morientation\u001b[49m\u001b[43m,\u001b[49m\u001b[43m \u001b[49m\u001b[43mrwidth\u001b[49m\u001b[38;5;241;43m=\u001b[39;49m\u001b[43mrwidth\u001b[49m\u001b[43m,\u001b[49m\u001b[43m \u001b[49m\u001b[43mlog\u001b[49m\u001b[38;5;241;43m=\u001b[39;49m\u001b[43mlog\u001b[49m\u001b[43m,\u001b[49m\n\u001b[0;32m   2649\u001b[0m \u001b[43m        \u001b[49m\u001b[43mcolor\u001b[49m\u001b[38;5;241;43m=\u001b[39;49m\u001b[43mcolor\u001b[49m\u001b[43m,\u001b[49m\u001b[43m \u001b[49m\u001b[43mlabel\u001b[49m\u001b[38;5;241;43m=\u001b[39;49m\u001b[43mlabel\u001b[49m\u001b[43m,\u001b[49m\u001b[43m \u001b[49m\u001b[43mstacked\u001b[49m\u001b[38;5;241;43m=\u001b[39;49m\u001b[43mstacked\u001b[49m\u001b[43m,\u001b[49m\n\u001b[0;32m   2650\u001b[0m \u001b[43m        \u001b[49m\u001b[38;5;241;43m*\u001b[39;49m\u001b[38;5;241;43m*\u001b[39;49m\u001b[43m(\u001b[49m\u001b[43m{\u001b[49m\u001b[38;5;124;43m\"\u001b[39;49m\u001b[38;5;124;43mdata\u001b[39;49m\u001b[38;5;124;43m\"\u001b[39;49m\u001b[43m:\u001b[49m\u001b[43m \u001b[49m\u001b[43mdata\u001b[49m\u001b[43m}\u001b[49m\u001b[43m \u001b[49m\u001b[38;5;28;43;01mif\u001b[39;49;00m\u001b[43m \u001b[49m\u001b[43mdata\u001b[49m\u001b[43m \u001b[49m\u001b[38;5;129;43;01mis\u001b[39;49;00m\u001b[43m \u001b[49m\u001b[38;5;129;43;01mnot\u001b[39;49;00m\u001b[43m \u001b[49m\u001b[38;5;28;43;01mNone\u001b[39;49;00m\u001b[43m \u001b[49m\u001b[38;5;28;43;01melse\u001b[39;49;00m\u001b[43m \u001b[49m\u001b[43m{\u001b[49m\u001b[43m}\u001b[49m\u001b[43m)\u001b[49m\u001b[43m,\u001b[49m\u001b[43m \u001b[49m\u001b[38;5;241;43m*\u001b[39;49m\u001b[38;5;241;43m*\u001b[39;49m\u001b[43mkwargs\u001b[49m\u001b[43m)\u001b[49m\n",
      "File \u001b[1;32m~\\AppData\\Roaming\\Python\\Python312\\site-packages\\matplotlib\\__init__.py:1459\u001b[0m, in \u001b[0;36m_preprocess_data.<locals>.inner\u001b[1;34m(ax, data, *args, **kwargs)\u001b[0m\n\u001b[0;32m   1456\u001b[0m \u001b[38;5;129m@functools\u001b[39m\u001b[38;5;241m.\u001b[39mwraps(func)\n\u001b[0;32m   1457\u001b[0m \u001b[38;5;28;01mdef\u001b[39;00m \u001b[38;5;21minner\u001b[39m(ax, \u001b[38;5;241m*\u001b[39margs, data\u001b[38;5;241m=\u001b[39m\u001b[38;5;28;01mNone\u001b[39;00m, \u001b[38;5;241m*\u001b[39m\u001b[38;5;241m*\u001b[39mkwargs):\n\u001b[0;32m   1458\u001b[0m     \u001b[38;5;28;01mif\u001b[39;00m data \u001b[38;5;129;01mis\u001b[39;00m \u001b[38;5;28;01mNone\u001b[39;00m:\n\u001b[1;32m-> 1459\u001b[0m         \u001b[38;5;28;01mreturn\u001b[39;00m \u001b[43mfunc\u001b[49m\u001b[43m(\u001b[49m\u001b[43max\u001b[49m\u001b[43m,\u001b[49m\u001b[43m \u001b[49m\u001b[38;5;241;43m*\u001b[39;49m\u001b[38;5;28;43mmap\u001b[39;49m\u001b[43m(\u001b[49m\u001b[43msanitize_sequence\u001b[49m\u001b[43m,\u001b[49m\u001b[43m \u001b[49m\u001b[43margs\u001b[49m\u001b[43m)\u001b[49m\u001b[43m,\u001b[49m\u001b[43m \u001b[49m\u001b[38;5;241;43m*\u001b[39;49m\u001b[38;5;241;43m*\u001b[39;49m\u001b[43mkwargs\u001b[49m\u001b[43m)\u001b[49m\n\u001b[0;32m   1461\u001b[0m     bound \u001b[38;5;241m=\u001b[39m new_sig\u001b[38;5;241m.\u001b[39mbind(ax, \u001b[38;5;241m*\u001b[39margs, \u001b[38;5;241m*\u001b[39m\u001b[38;5;241m*\u001b[39mkwargs)\n\u001b[0;32m   1462\u001b[0m     auto_label \u001b[38;5;241m=\u001b[39m (bound\u001b[38;5;241m.\u001b[39marguments\u001b[38;5;241m.\u001b[39mget(label_namer)\n\u001b[0;32m   1463\u001b[0m                   \u001b[38;5;129;01mor\u001b[39;00m bound\u001b[38;5;241m.\u001b[39mkwargs\u001b[38;5;241m.\u001b[39mget(label_namer))\n",
      "File \u001b[1;32m~\\AppData\\Roaming\\Python\\Python312\\site-packages\\matplotlib\\axes\\_axes.py:6791\u001b[0m, in \u001b[0;36mAxes.hist\u001b[1;34m(self, x, bins, range, density, weights, cumulative, bottom, histtype, align, orientation, rwidth, log, color, label, stacked, **kwargs)\u001b[0m\n\u001b[0;32m   6787\u001b[0m \u001b[38;5;66;03m# Loop through datasets\u001b[39;00m\n\u001b[0;32m   6788\u001b[0m \u001b[38;5;28;01mfor\u001b[39;00m i \u001b[38;5;129;01min\u001b[39;00m \u001b[38;5;28mrange\u001b[39m(nx):\n\u001b[0;32m   6789\u001b[0m     \u001b[38;5;66;03m# this will automatically overwrite bins,\u001b[39;00m\n\u001b[0;32m   6790\u001b[0m     \u001b[38;5;66;03m# so that each histogram uses the same bins\u001b[39;00m\n\u001b[1;32m-> 6791\u001b[0m     m, bins \u001b[38;5;241m=\u001b[39m \u001b[43mnp\u001b[49m\u001b[38;5;241;43m.\u001b[39;49m\u001b[43mhistogram\u001b[49m\u001b[43m(\u001b[49m\u001b[43mx\u001b[49m\u001b[43m[\u001b[49m\u001b[43mi\u001b[49m\u001b[43m]\u001b[49m\u001b[43m,\u001b[49m\u001b[43m \u001b[49m\u001b[43mbins\u001b[49m\u001b[43m,\u001b[49m\u001b[43m \u001b[49m\u001b[43mweights\u001b[49m\u001b[38;5;241;43m=\u001b[39;49m\u001b[43mw\u001b[49m\u001b[43m[\u001b[49m\u001b[43mi\u001b[49m\u001b[43m]\u001b[49m\u001b[43m,\u001b[49m\u001b[43m \u001b[49m\u001b[38;5;241;43m*\u001b[39;49m\u001b[38;5;241;43m*\u001b[39;49m\u001b[43mhist_kwargs\u001b[49m\u001b[43m)\u001b[49m\n\u001b[0;32m   6792\u001b[0m     tops\u001b[38;5;241m.\u001b[39mappend(m)\n\u001b[0;32m   6793\u001b[0m tops \u001b[38;5;241m=\u001b[39m np\u001b[38;5;241m.\u001b[39marray(tops, \u001b[38;5;28mfloat\u001b[39m)  \u001b[38;5;66;03m# causes problems later if it's an int\u001b[39;00m\n",
      "File \u001b[1;32mc:\\miniconda\\Lib\\site-packages\\numpy\\lib\\histograms.py:780\u001b[0m, in \u001b[0;36mhistogram\u001b[1;34m(a, bins, range, density, weights)\u001b[0m\n\u001b[0;32m    680\u001b[0m \u001b[38;5;250m\u001b[39m\u001b[38;5;124mr\u001b[39m\u001b[38;5;124;03m\"\"\"\u001b[39;00m\n\u001b[0;32m    681\u001b[0m \u001b[38;5;124;03mCompute the histogram of a dataset.\u001b[39;00m\n\u001b[0;32m    682\u001b[0m \n\u001b[1;32m   (...)\u001b[0m\n\u001b[0;32m    776\u001b[0m \n\u001b[0;32m    777\u001b[0m \u001b[38;5;124;03m\"\"\"\u001b[39;00m\n\u001b[0;32m    778\u001b[0m a, weights \u001b[38;5;241m=\u001b[39m _ravel_and_check_weights(a, weights)\n\u001b[1;32m--> 780\u001b[0m bin_edges, uniform_bins \u001b[38;5;241m=\u001b[39m \u001b[43m_get_bin_edges\u001b[49m\u001b[43m(\u001b[49m\u001b[43ma\u001b[49m\u001b[43m,\u001b[49m\u001b[43m \u001b[49m\u001b[43mbins\u001b[49m\u001b[43m,\u001b[49m\u001b[43m \u001b[49m\u001b[38;5;28;43mrange\u001b[39;49m\u001b[43m,\u001b[49m\u001b[43m \u001b[49m\u001b[43mweights\u001b[49m\u001b[43m)\u001b[49m\n\u001b[0;32m    782\u001b[0m \u001b[38;5;66;03m# Histogram is an integer or a float array depending on the weights.\u001b[39;00m\n\u001b[0;32m    783\u001b[0m \u001b[38;5;28;01mif\u001b[39;00m weights \u001b[38;5;129;01mis\u001b[39;00m \u001b[38;5;28;01mNone\u001b[39;00m:\n",
      "File \u001b[1;32mc:\\miniconda\\Lib\\site-packages\\numpy\\lib\\histograms.py:426\u001b[0m, in \u001b[0;36m_get_bin_edges\u001b[1;34m(a, bins, range, weights)\u001b[0m\n\u001b[0;32m    423\u001b[0m     \u001b[38;5;28;01mif\u001b[39;00m n_equal_bins \u001b[38;5;241m<\u001b[39m \u001b[38;5;241m1\u001b[39m:\n\u001b[0;32m    424\u001b[0m         \u001b[38;5;28;01mraise\u001b[39;00m \u001b[38;5;167;01mValueError\u001b[39;00m(\u001b[38;5;124m'\u001b[39m\u001b[38;5;124m`bins` must be positive, when an integer\u001b[39m\u001b[38;5;124m'\u001b[39m)\n\u001b[1;32m--> 426\u001b[0m     first_edge, last_edge \u001b[38;5;241m=\u001b[39m \u001b[43m_get_outer_edges\u001b[49m\u001b[43m(\u001b[49m\u001b[43ma\u001b[49m\u001b[43m,\u001b[49m\u001b[43m \u001b[49m\u001b[38;5;28;43mrange\u001b[39;49m\u001b[43m)\u001b[49m\n\u001b[0;32m    428\u001b[0m \u001b[38;5;28;01melif\u001b[39;00m np\u001b[38;5;241m.\u001b[39mndim(bins) \u001b[38;5;241m==\u001b[39m \u001b[38;5;241m1\u001b[39m:\n\u001b[0;32m    429\u001b[0m     bin_edges \u001b[38;5;241m=\u001b[39m np\u001b[38;5;241m.\u001b[39masarray(bins)\n",
      "File \u001b[1;32mc:\\miniconda\\Lib\\site-packages\\numpy\\lib\\histograms.py:315\u001b[0m, in \u001b[0;36m_get_outer_edges\u001b[1;34m(a, range)\u001b[0m\n\u001b[0;32m    312\u001b[0m         \u001b[38;5;28;01mraise\u001b[39;00m \u001b[38;5;167;01mValueError\u001b[39;00m(\n\u001b[0;32m    313\u001b[0m             \u001b[38;5;124m'\u001b[39m\u001b[38;5;124mmax must be larger than min in range parameter.\u001b[39m\u001b[38;5;124m'\u001b[39m)\n\u001b[0;32m    314\u001b[0m     \u001b[38;5;28;01mif\u001b[39;00m \u001b[38;5;129;01mnot\u001b[39;00m (np\u001b[38;5;241m.\u001b[39misfinite(first_edge) \u001b[38;5;129;01mand\u001b[39;00m np\u001b[38;5;241m.\u001b[39misfinite(last_edge)):\n\u001b[1;32m--> 315\u001b[0m         \u001b[38;5;28;01mraise\u001b[39;00m \u001b[38;5;167;01mValueError\u001b[39;00m(\n\u001b[0;32m    316\u001b[0m             \u001b[38;5;124m\"\u001b[39m\u001b[38;5;124msupplied range of [\u001b[39m\u001b[38;5;132;01m{}\u001b[39;00m\u001b[38;5;124m, \u001b[39m\u001b[38;5;132;01m{}\u001b[39;00m\u001b[38;5;124m] is not finite\u001b[39m\u001b[38;5;124m\"\u001b[39m\u001b[38;5;241m.\u001b[39mformat(first_edge, last_edge))\n\u001b[0;32m    317\u001b[0m \u001b[38;5;28;01melif\u001b[39;00m a\u001b[38;5;241m.\u001b[39msize \u001b[38;5;241m==\u001b[39m \u001b[38;5;241m0\u001b[39m:\n\u001b[0;32m    318\u001b[0m     \u001b[38;5;66;03m# handle empty arrays. Can't determine range, so use 0-1.\u001b[39;00m\n\u001b[0;32m    319\u001b[0m     first_edge, last_edge \u001b[38;5;241m=\u001b[39m \u001b[38;5;241m0\u001b[39m, \u001b[38;5;241m1\u001b[39m\n",
      "\u001b[1;31mValueError\u001b[0m: supplied range of [7999.999999990223, inf] is not finite"
     ]
    },
    {
     "data": {
      "image/png": "[encoded data removed]",
      "text/plain": [
       "<Figure size 640x480 with 1 Axes>"
      ]
     },
     "metadata": {},
     "output_type": "display_data"
    }
   ],
   "source": [
    "check_timestamps(Camera_ts, Frame_rate = 60)"
   ]
  },
  {
   "cell_type": "code",
   "execution_count": 372,
   "metadata": {},
   "outputs": [
    {
     "name": "stdout",
     "output_type": "stream",
     "text": [
      "Frames dropped = 1013470\n"
     ]
    },
    {
     "data": {
      "text/plain": [
       "Text(0, 0.5, 'Number of frames')"
      ]
     },
     "execution_count": 372,
     "metadata": {},
     "output_type": "execute_result"
    },
    {
     "data": {
      "image/png": "[encoded data removed]",
      "text/plain": [
       "<Figure size 640x480 with 1 Axes>"
      ]
     },
     "metadata": {},
     "output_type": "display_data"
    }
   ],
   "source": [
    "# plot 1/(diff between time stamps). This tells you roughly the frequency and if you've droppped frames.\n",
    "Frame_rate = 60\n",
    "Frame_gaps = 1/np.diff(Camera_ts)\n",
    "Frames_dropped = 0\n",
    "for gaps in Frame_gaps:\n",
    "    if gaps < (Frame_rate-5) or gaps > (Frame_rate+5):\n",
    "        Frames_dropped = Frames_dropped + 1\n",
    "print('Frames dropped = ' + str(Frames_dropped))\n",
    "\n",
    "plt.suptitle('Frame rate = ' + str(Frame_rate) + 'fps', color = 'red')\n",
    "frame_gaps = plt.hist(Frame_gaps, bins=100)\n",
    "plt.xlabel('Frequency')\n",
    "plt.ylabel('Number of frames')"
   ]
  },
  {
   "cell_type": "code",
   "execution_count": 345,
   "metadata": {},
   "outputs": [
    {
     "data": {
      "text/plain": [
       "array([0.      , 0.      , 0.      , ..., 0.030875, 0.030875, 0.030875])"
      ]
     },
     "execution_count": 345,
     "metadata": {},
     "output_type": "execute_result"
    }
   ],
   "source": [
    "Camera_ts"
   ]
  },
  {
   "cell_type": "code",
   "execution_count": 343,
   "metadata": {},
   "outputs": [
    {
     "data": {
      "text/plain": [
       "array([0.      , 0.      , 0.      , ..., 0.030875, 0.030875, 0.030875])"
      ]
     },
     "execution_count": 343,
     "metadata": {},
     "output_type": "execute_result"
    }
   ],
   "source": [
    "Camera_ts"
   ]
  },
  {
   "cell_type": "code",
   "execution_count": 321,
   "metadata": {},
   "outputs": [],
   "source": [
    "# def uncycle(time):\n",
    "#     cycles = np.insert(np.diff(time) < 0, 0, False)\n",
    "#     cycleindex = np.cumsum(cycles)\n",
    "#     return time + cycleindex * 128\n",
    "\n",
    "    ##################   Convert the timestamps into seconds and uncycle them:\n",
    "t_stamps = {}  \n",
    "stamps_s = []\n",
    "for indx, row in Camera_timestamps.iterrows():\n",
    "    if row.trigger > 0: \n",
    "        timestamp_new = converttime(int(row.timestamps))\n",
    "        stamps_s.append(timestamp_new)\n",
    "    # else:    \n",
    "    #     break\n",
    "    #     raise ValueError('Timestamps are broken')\n",
    "t_stamps = uncycle(stamps_s)\n",
    "t_stamps = t_stamps - t_stamps[0] # make first timestamp 0 and the others relative to this \n"
   ]
  },
  {
   "cell_type": "code",
   "execution_count": 324,
   "metadata": {},
   "outputs": [
    {
     "data": {
      "text/plain": [
       "[<matplotlib.lines.Line2D at 0x27120505ca0>]"
      ]
     },
     "execution_count": 324,
     "metadata": {},
     "output_type": "execute_result"
    },
    {
     "data": {
      "image/png": "[encoded data removed]",
      "text/plain": [
       "<Figure size 640x480 with 1 Axes>"
      ]
     },
     "metadata": {},
     "output_type": "display_data"
    }
   ],
   "source": [
    "plt.plot(t_stamps[311170:311218])"
   ]
  },
  {
   "cell_type": "code",
   "execution_count": 325,
   "metadata": {},
   "outputs": [
    {
     "data": {
      "text/plain": [
       "'Z:\\\\projects\\\\sequence_squad\\\\revision_data\\\\lars_recordings\\\\video\\\\\\\\AP5R\\\\AP5_2_R__20241116\\\\camera1_2024-11-16T12_24_50.csv'"
      ]
     },
     "execution_count": 325,
     "metadata": {},
     "output_type": "execute_result"
    }
   ],
   "source": [
    "os.path.join(full_file, file)"
   ]
  },
  {
   "cell_type": "code",
   "execution_count": 33,
   "metadata": {},
   "outputs": [
    {
     "data": {
      "text/plain": [
       "[<matplotlib.lines.Line2D at 0x19c5aee29f0>]"
      ]
     },
     "execution_count": 33,
     "metadata": {},
     "output_type": "execute_result"
    },
    {
     "data": {
      "image/png": "[encoded data removed]",
      "text/plain": [
       "<Figure size 640x480 with 1 Axes>"
      ]
     },
     "metadata": {},
     "output_type": "display_data"
    }
   ],
   "source": [
    "#above cam my setup \n",
    "path = r\"Z:\\projects\\sequence_squad\\revision_data\\lars_recordings\\video\\AP5L\\AP5_2_L__20241118\\camera1_2024-11-18T14_00_31.csv\"\n",
    "#back cam my setup \n",
    "path = r\"Z:\\projects\\sequence_squad\\revision_data\\lars_recordings\\video\\AP5L\\AP5_2_L__20241118\\camera2_2024-11-18T14_00_31.csv\"\n",
    "\n",
    "# above cam sthita setup:\n",
    "path = r\"Z:\\projects\\sequence_squad\\revision_data\\lars_recordings\\video\\seq006\\seq006__20241114\\seq006__20241114__timestamp_02024-11-14T09_26_38.csv\"\n",
    "\n",
    "# back cam sthita setup:\n",
    "path = r\"Z:\\projects\\sequence_squad\\revision_data\\lars_recordings\\video\\AP5R\\AP5_2_R__20241120\\camera1_2024-11-20T09_00_51.csv\"\n",
    "\n",
    "Camera_timestamps = pd.read_csv(path)\n",
    "\n",
    "if len(Camera_timestamps.columns) > 1:\n",
    "    Camera_timestamps.columns = ['trigger', 'timestamps', 'blank']\n",
    "    Camera_timestamps.trigger = Camera_timestamps.trigger.astype(float)\n",
    "else:\n",
    "    Camera_timestamps[['trigger', 'timestamps', 'blank']] = Camera_timestamps.iloc[:, 0].str.split(expand=True)\n",
    "    Camera_timestamps.drop(Camera_timestamps.columns[0], axis=1, inplace=True)\n",
    "    Camera_timestamps.trigger = Camera_timestamps.trigger.astype(float)\n",
    "\n",
    "\n",
    "plt.plot(Camera_timestamps.trigger)"
   ]
  },
  {
   "cell_type": "code",
   "execution_count": null,
   "metadata": {},
   "outputs": [],
   "source": []
  },
  {
   "cell_type": "code",
   "execution_count": null,
   "metadata": {},
   "outputs": [],
   "source": []
  },
  {
   "cell_type": "code",
   "execution_count": 320,
   "metadata": {},
   "outputs": [
    {
     "data": {
      "text/plain": [
       "[<matplotlib.lines.Line2D at 0x270071d1700>]"
      ]
     },
     "execution_count": 320,
     "metadata": {},
     "output_type": "execute_result"
    },
    {
     "data": {
      "image/png": "[encoded data removed]",
      "text/plain": [
       "<Figure size 640x480 with 1 Axes>"
      ]
     },
     "metadata": {},
     "output_type": "display_data"
    }
   ],
   "source": [
    "plt.plot(Camera_timestamps.trigger)"
   ]
  },
  {
   "cell_type": "code",
   "execution_count": 315,
   "metadata": {},
   "outputs": [
    {
     "data": {
      "text/html": [
       "<div>\n",
       "<style scoped>\n",
       "    .dataframe tbody tr th:only-of-type {\n",
       "        vertical-align: middle;\n",
       "    }\n",
       "\n",
       "    .dataframe tbody tr th {\n",
       "        vertical-align: top;\n",
       "    }\n",
       "\n",
       "    .dataframe thead th {\n",
       "        text-align: right;\n",
       "    }\n",
       "</style>\n",
       "<table border=\"1\" class=\"dataframe\">\n",
       "  <thead>\n",
       "    <tr style=\"text-align: right;\">\n",
       "      <th></th>\n",
       "      <th>trigger</th>\n",
       "      <th>timestamps</th>\n",
       "      <th>blank</th>\n",
       "    </tr>\n",
       "  </thead>\n",
       "  <tbody>\n",
       "    <tr>\n",
       "      <th>311180</th>\n",
       "      <td>805306368.0</td>\n",
       "      <td>65188907</td>\n",
       "      <td>16427718</td>\n",
       "    </tr>\n",
       "    <tr>\n",
       "      <th>311181</th>\n",
       "      <td>805306368.0</td>\n",
       "      <td>65734499</td>\n",
       "      <td>16427719</td>\n",
       "    </tr>\n",
       "    <tr>\n",
       "      <th>311182</th>\n",
       "      <td>805306368.0</td>\n",
       "      <td>66280099</td>\n",
       "      <td>16427720</td>\n",
       "    </tr>\n",
       "    <tr>\n",
       "      <th>311183</th>\n",
       "      <td>805306368.0</td>\n",
       "      <td>67613154</td>\n",
       "      <td>16427721</td>\n",
       "    </tr>\n",
       "    <tr>\n",
       "      <th>311184</th>\n",
       "      <td>805306368.0</td>\n",
       "      <td>68158746</td>\n",
       "      <td>16427722</td>\n",
       "    </tr>\n",
       "    <tr>\n",
       "      <th>311185</th>\n",
       "      <td>805306368.0</td>\n",
       "      <td>68704344</td>\n",
       "      <td>16427723</td>\n",
       "    </tr>\n",
       "    <tr>\n",
       "      <th>311186</th>\n",
       "      <td>805306368.0</td>\n",
       "      <td>69249944</td>\n",
       "      <td>16427724</td>\n",
       "    </tr>\n",
       "    <tr>\n",
       "      <th>311187</th>\n",
       "      <td>805306368.0</td>\n",
       "      <td>69796561</td>\n",
       "      <td>16427725</td>\n",
       "    </tr>\n",
       "    <tr>\n",
       "      <th>311188</th>\n",
       "      <td>0.0</td>\n",
       "      <td>0</td>\n",
       "      <td>0</td>\n",
       "    </tr>\n",
       "    <tr>\n",
       "      <th>311189</th>\n",
       "      <td>805306368.0</td>\n",
       "      <td>103880773</td>\n",
       "      <td>16427786</td>\n",
       "    </tr>\n",
       "    <tr>\n",
       "      <th>311190</th>\n",
       "      <td>805306368.0</td>\n",
       "      <td>104426373</td>\n",
       "      <td>16427787</td>\n",
       "    </tr>\n",
       "    <tr>\n",
       "      <th>311191</th>\n",
       "      <td>805306368.0</td>\n",
       "      <td>104972996</td>\n",
       "      <td>16427788</td>\n",
       "    </tr>\n",
       "    <tr>\n",
       "      <th>311192</th>\n",
       "      <td>805306368.0</td>\n",
       "      <td>105518588</td>\n",
       "      <td>16427789</td>\n",
       "    </tr>\n",
       "    <tr>\n",
       "      <th>311193</th>\n",
       "      <td>805306368.0</td>\n",
       "      <td>106064187</td>\n",
       "      <td>16427790</td>\n",
       "    </tr>\n",
       "    <tr>\n",
       "      <th>311194</th>\n",
       "      <td>805306368.0</td>\n",
       "      <td>106610811</td>\n",
       "      <td>16427791</td>\n",
       "    </tr>\n",
       "    <tr>\n",
       "      <th>311195</th>\n",
       "      <td>805306368.0</td>\n",
       "      <td>107156403</td>\n",
       "      <td>16427792</td>\n",
       "    </tr>\n",
       "    <tr>\n",
       "      <th>311196</th>\n",
       "      <td>805306368.0</td>\n",
       "      <td>107702002</td>\n",
       "      <td>16427793</td>\n",
       "    </tr>\n",
       "    <tr>\n",
       "      <th>311197</th>\n",
       "      <td>805306368.0</td>\n",
       "      <td>108247602</td>\n",
       "      <td>16427794</td>\n",
       "    </tr>\n",
       "  </tbody>\n",
       "</table>\n",
       "</div>"
      ],
      "text/plain": [
       "            trigger timestamps     blank\n",
       "311180  805306368.0   65188907  16427718\n",
       "311181  805306368.0   65734499  16427719\n",
       "311182  805306368.0   66280099  16427720\n",
       "311183  805306368.0   67613154  16427721\n",
       "311184  805306368.0   68158746  16427722\n",
       "311185  805306368.0   68704344  16427723\n",
       "311186  805306368.0   69249944  16427724\n",
       "311187  805306368.0   69796561  16427725\n",
       "311188          0.0          0         0\n",
       "311189  805306368.0  103880773  16427786\n",
       "311190  805306368.0  104426373  16427787\n",
       "311191  805306368.0  104972996  16427788\n",
       "311192  805306368.0  105518588  16427789\n",
       "311193  805306368.0  106064187  16427790\n",
       "311194  805306368.0  106610811  16427791\n",
       "311195  805306368.0  107156403  16427792\n",
       "311196  805306368.0  107702002  16427793\n",
       "311197  805306368.0  108247602  16427794"
      ]
     },
     "execution_count": 315,
     "metadata": {},
     "output_type": "execute_result"
    }
   ],
   "source": [
    "Camera_timestamps[311180:311198]"
   ]
  },
  {
   "cell_type": "code",
   "execution_count": 317,
   "metadata": {},
   "outputs": [
    {
     "name": "stdout",
     "output_type": "stream",
     "text": [
      "[1.9653749999999999, 1.982, 1.998625, 2.015375, 2.032, 2.048625, 2.06525, 2.082, 0.0, 3.098125, 3.11475, 3.1315, 3.148125, 3.16475, 3.1814999999999998, 3.198125, 3.21475, 3.231375]\n"
     ]
    },
    {
     "data": {
      "text/plain": [
       "1.0161250000000002"
      ]
     },
     "execution_count": 317,
     "metadata": {},
     "output_type": "execute_result"
    },
    {
     "data": {
      "image/png": "[encoded data removed]",
      "text/plain": [
       "<Figure size 640x480 with 1 Axes>"
      ]
     },
     "metadata": {},
     "output_type": "display_data"
    }
   ],
   "source": [
    "\n",
    "print(list((converttime(int(item))) for item in Camera_timestamps.timestamps[311180:311198]))\n",
    "\n",
    "plt.plot(np.diff(list((converttime(int(item))) for item in Camera_timestamps.timestamps[38480:38490])).astype(float))\n",
    "\n",
    "3.098125 - 2.082"
   ]
  },
  {
   "cell_type": "code",
   "execution_count": 304,
   "metadata": {},
   "outputs": [
    {
     "ename": "TypeError",
     "evalue": "'method' object is not subscriptable",
     "output_type": "error",
     "traceback": [
      "\u001b[1;31m---------------------------------------------------------------------------\u001b[0m",
      "\u001b[1;31mTypeError\u001b[0m                                 Traceback (most recent call last)",
      "Cell \u001b[1;32mIn[304], line 1\u001b[0m\n\u001b[1;32m----> 1\u001b[0m \u001b[43mCamera_timestamps\u001b[49m\u001b[38;5;241;43m.\u001b[39;49m\u001b[43mto_timestamp\u001b[49m\u001b[43m[\u001b[49m\u001b[38;5;241;43m38480\u001b[39;49m\u001b[43m:\u001b[49m\u001b[38;5;241;43m38490\u001b[39;49m\u001b[43m]\u001b[49m\n",
      "\u001b[1;31mTypeError\u001b[0m: 'method' object is not subscriptable"
     ]
    }
   ],
   "source": [
    "Camera_timestamps.to_timestamp[38480:38490]"
   ]
  },
  {
   "cell_type": "code",
   "execution_count": 292,
   "metadata": {},
   "outputs": [
    {
     "data": {
      "text/plain": [
       "67.248625"
      ]
     },
     "execution_count": 292,
     "metadata": {},
     "output_type": "execute_result"
    }
   ],
   "source": [
    "converttime(2256296592)"
   ]
  },
  {
   "cell_type": "code",
   "execution_count": 285,
   "metadata": {},
   "outputs": [
    {
     "data": {
      "text/plain": [
       "61"
      ]
     },
     "execution_count": 285,
     "metadata": {},
     "output_type": "execute_result"
    }
   ],
   "source": [
    "16155024 - 16154963"
   ]
  },
  {
   "cell_type": "code",
   "execution_count": 278,
   "metadata": {},
   "outputs": [
    {
     "data": {
      "text/plain": [
       "[<matplotlib.lines.Line2D at 0x270fe735cd0>]"
      ]
     },
     "execution_count": 278,
     "metadata": {},
     "output_type": "execute_result"
    },
    {
     "data": {
      "image/png": "[encoded data removed]",
      "text/plain": [
       "<Figure size 640x480 with 1 Axes>"
      ]
     },
     "metadata": {},
     "output_type": "display_data"
    }
   ],
   "source": [
    "plt.plot(stamps_s)"
   ]
  },
  {
   "cell_type": "code",
   "execution_count": 290,
   "metadata": {},
   "outputs": [
    {
     "data": {
      "text/plain": [
       "4.119036562500001"
      ]
     },
     "execution_count": 290,
     "metadata": {},
     "output_type": "execute_result"
    }
   ],
   "source": [
    "(t_stamps[-1]/60)/60"
   ]
  },
  {
   "cell_type": "code",
   "execution_count": 291,
   "metadata": {},
   "outputs": [
    {
     "data": {
      "text/plain": [
       "14828.531625000001"
      ]
     },
     "execution_count": 291,
     "metadata": {},
     "output_type": "execute_result"
    }
   ],
   "source": [
    "t_stamps[-1]"
   ]
  },
  {
   "cell_type": "code",
   "execution_count": 272,
   "metadata": {},
   "outputs": [
    {
     "data": {
      "text/plain": [
       "50.07552708333335"
      ]
     },
     "execution_count": 272,
     "metadata": {},
     "output_type": "execute_result"
    }
   ],
   "source": [
    "0.8345921180555558 * 60"
   ]
  },
  {
   "cell_type": "code",
   "execution_count": 146,
   "metadata": {},
   "outputs": [
    {
     "data": {
      "text/plain": [
       "[<matplotlib.lines.Line2D at 0x27015912cc0>]"
      ]
     },
     "execution_count": 146,
     "metadata": {},
     "output_type": "execute_result"
    },
    {
     "data": {
      "image/png": "[encoded data removed]",
      "text/plain": [
       "<Figure size 640x480 with 1 Axes>"
      ]
     },
     "metadata": {},
     "output_type": "display_data"
    }
   ],
   "source": [
    "plt.plot(Camera_timestamps.timestamps)\n"
   ]
  },
  {
   "cell_type": "code",
   "execution_count": 130,
   "metadata": {},
   "outputs": [
    {
     "ename": "ParserError",
     "evalue": "Too many columns specified: expected 3 and found 1",
     "output_type": "error",
     "traceback": [
      "\u001b[1;31m---------------------------------------------------------------------------\u001b[0m",
      "\u001b[1;31mParserError\u001b[0m                               Traceback (most recent call last)",
      "Cell \u001b[1;32mIn[130], line 2\u001b[0m\n\u001b[0;32m      1\u001b[0m \u001b[38;5;66;03m# Efficiently load the data\u001b[39;00m\n\u001b[1;32m----> 2\u001b[0m Camera_timestamps \u001b[38;5;241m=\u001b[39m \u001b[43mpd\u001b[49m\u001b[38;5;241;43m.\u001b[39;49m\u001b[43mread_csv\u001b[49m\u001b[43m(\u001b[49m\n\u001b[0;32m      3\u001b[0m \u001b[43m    \u001b[49m\u001b[38;5;124;43mr\u001b[39;49m\u001b[38;5;124;43m\"\u001b[39;49m\u001b[38;5;124;43mZ:\u001b[39;49m\u001b[38;5;124;43m\\\u001b[39;49m\u001b[38;5;124;43mprojects\u001b[39;49m\u001b[38;5;124;43m\\\u001b[39;49m\u001b[38;5;124;43msequence_squad\u001b[39;49m\u001b[38;5;124;43m\\\u001b[39;49m\u001b[38;5;124;43mrevision_data\u001b[39;49m\u001b[38;5;124;43m\\\u001b[39;49m\u001b[38;5;124;43mlars_recordings\u001b[39;49m\u001b[38;5;124;43m\\\u001b[39;49m\u001b[38;5;124;43mvideo\u001b[39;49m\u001b[38;5;124;43m\\\u001b[39;49m\u001b[38;5;124;43mseq008\u001b[39;49m\u001b[38;5;124;43m\\\u001b[39;49m\u001b[38;5;124;43mseq008__20241111\u001b[39;49m\u001b[38;5;124;43m\\\u001b[39;49m\u001b[38;5;124;43mtimestamp_02024-11-11T15_02_12.csv\u001b[39;49m\u001b[38;5;124;43m\"\u001b[39;49m\u001b[43m,\u001b[49m\n\u001b[0;32m      4\u001b[0m \u001b[43m    \u001b[49m\u001b[43msep\u001b[49m\u001b[38;5;241;43m=\u001b[39;49m\u001b[38;5;124;43m'\u001b[39;49m\u001b[38;5;124;43m \u001b[39;49m\u001b[38;5;124;43m'\u001b[39;49m\u001b[43m,\u001b[49m\u001b[43m  \u001b[49m\u001b[38;5;66;43;03m# Space-separated values\u001b[39;49;00m\n\u001b[0;32m      5\u001b[0m \u001b[43m    \u001b[49m\u001b[43mheader\u001b[49m\u001b[38;5;241;43m=\u001b[39;49m\u001b[38;5;28;43;01mNone\u001b[39;49;00m\u001b[43m,\u001b[49m\u001b[43m  \u001b[49m\u001b[38;5;66;43;03m# No headers in the file\u001b[39;49;00m\n\u001b[0;32m      6\u001b[0m \u001b[43m    \u001b[49m\u001b[43mnames\u001b[49m\u001b[38;5;241;43m=\u001b[39;49m\u001b[43m[\u001b[49m\u001b[38;5;124;43m'\u001b[39;49m\u001b[38;5;124;43mtriggers\u001b[39;49m\u001b[38;5;124;43m'\u001b[39;49m\u001b[43m,\u001b[49m\u001b[43m \u001b[49m\u001b[38;5;124;43m'\u001b[39;49m\u001b[38;5;124;43mtimestamps1\u001b[39;49m\u001b[38;5;124;43m'\u001b[39;49m\u001b[43m,\u001b[49m\u001b[43m \u001b[49m\u001b[38;5;124;43m'\u001b[39;49m\u001b[38;5;124;43mtimestamps2\u001b[39;49m\u001b[38;5;124;43m'\u001b[39;49m\u001b[43m]\u001b[49m\u001b[43m,\u001b[49m\u001b[43m  \u001b[49m\u001b[38;5;66;43;03m# Column names\u001b[39;49;00m\n\u001b[0;32m      7\u001b[0m \u001b[43m    \u001b[49m\u001b[43musecols\u001b[49m\u001b[38;5;241;43m=\u001b[39;49m\u001b[43m[\u001b[49m\u001b[38;5;241;43m0\u001b[39;49m\u001b[43m,\u001b[49m\u001b[43m \u001b[49m\u001b[38;5;241;43m1\u001b[39;49m\u001b[43m,\u001b[49m\u001b[43m \u001b[49m\u001b[38;5;241;43m2\u001b[39;49m\u001b[43m]\u001b[49m\u001b[43m  \u001b[49m\u001b[38;5;66;43;03m# Only load the three columns\u001b[39;49;00m\n\u001b[0;32m      8\u001b[0m \u001b[43m)\u001b[49m\n\u001b[0;32m     10\u001b[0m \u001b[38;5;66;03m# View the result\u001b[39;00m\n\u001b[0;32m     11\u001b[0m \u001b[38;5;28mprint\u001b[39m(Camera_timestamps\u001b[38;5;241m.\u001b[39mhead())\n",
      "File \u001b[1;32mc:\\miniconda\\Lib\\site-packages\\pandas\\io\\parsers\\readers.py:1026\u001b[0m, in \u001b[0;36mread_csv\u001b[1;34m(filepath_or_buffer, sep, delimiter, header, names, index_col, usecols, dtype, engine, converters, true_values, false_values, skipinitialspace, skiprows, skipfooter, nrows, na_values, keep_default_na, na_filter, verbose, skip_blank_lines, parse_dates, infer_datetime_format, keep_date_col, date_parser, date_format, dayfirst, cache_dates, iterator, chunksize, compression, thousands, decimal, lineterminator, quotechar, quoting, doublequote, escapechar, comment, encoding, encoding_errors, dialect, on_bad_lines, delim_whitespace, low_memory, memory_map, float_precision, storage_options, dtype_backend)\u001b[0m\n\u001b[0;32m   1013\u001b[0m kwds_defaults \u001b[38;5;241m=\u001b[39m _refine_defaults_read(\n\u001b[0;32m   1014\u001b[0m     dialect,\n\u001b[0;32m   1015\u001b[0m     delimiter,\n\u001b[1;32m   (...)\u001b[0m\n\u001b[0;32m   1022\u001b[0m     dtype_backend\u001b[38;5;241m=\u001b[39mdtype_backend,\n\u001b[0;32m   1023\u001b[0m )\n\u001b[0;32m   1024\u001b[0m kwds\u001b[38;5;241m.\u001b[39mupdate(kwds_defaults)\n\u001b[1;32m-> 1026\u001b[0m \u001b[38;5;28;01mreturn\u001b[39;00m \u001b[43m_read\u001b[49m\u001b[43m(\u001b[49m\u001b[43mfilepath_or_buffer\u001b[49m\u001b[43m,\u001b[49m\u001b[43m \u001b[49m\u001b[43mkwds\u001b[49m\u001b[43m)\u001b[49m\n",
      "File \u001b[1;32mc:\\miniconda\\Lib\\site-packages\\pandas\\io\\parsers\\readers.py:626\u001b[0m, in \u001b[0;36m_read\u001b[1;34m(filepath_or_buffer, kwds)\u001b[0m\n\u001b[0;32m    623\u001b[0m     \u001b[38;5;28;01mreturn\u001b[39;00m parser\n\u001b[0;32m    625\u001b[0m \u001b[38;5;28;01mwith\u001b[39;00m parser:\n\u001b[1;32m--> 626\u001b[0m     \u001b[38;5;28;01mreturn\u001b[39;00m \u001b[43mparser\u001b[49m\u001b[38;5;241;43m.\u001b[39;49m\u001b[43mread\u001b[49m\u001b[43m(\u001b[49m\u001b[43mnrows\u001b[49m\u001b[43m)\u001b[49m\n",
      "File \u001b[1;32mc:\\miniconda\\Lib\\site-packages\\pandas\\io\\parsers\\readers.py:1923\u001b[0m, in \u001b[0;36mTextFileReader.read\u001b[1;34m(self, nrows)\u001b[0m\n\u001b[0;32m   1916\u001b[0m nrows \u001b[38;5;241m=\u001b[39m validate_integer(\u001b[38;5;124m\"\u001b[39m\u001b[38;5;124mnrows\u001b[39m\u001b[38;5;124m\"\u001b[39m, nrows)\n\u001b[0;32m   1917\u001b[0m \u001b[38;5;28;01mtry\u001b[39;00m:\n\u001b[0;32m   1918\u001b[0m     \u001b[38;5;66;03m# error: \"ParserBase\" has no attribute \"read\"\u001b[39;00m\n\u001b[0;32m   1919\u001b[0m     (\n\u001b[0;32m   1920\u001b[0m         index,\n\u001b[0;32m   1921\u001b[0m         columns,\n\u001b[0;32m   1922\u001b[0m         col_dict,\n\u001b[1;32m-> 1923\u001b[0m     ) \u001b[38;5;241m=\u001b[39m \u001b[38;5;28;43mself\u001b[39;49m\u001b[38;5;241;43m.\u001b[39;49m\u001b[43m_engine\u001b[49m\u001b[38;5;241;43m.\u001b[39;49m\u001b[43mread\u001b[49m\u001b[43m(\u001b[49m\u001b[43m  \u001b[49m\u001b[38;5;66;43;03m# type: ignore[attr-defined]\u001b[39;49;00m\n\u001b[0;32m   1924\u001b[0m \u001b[43m        \u001b[49m\u001b[43mnrows\u001b[49m\n\u001b[0;32m   1925\u001b[0m \u001b[43m    \u001b[49m\u001b[43m)\u001b[49m\n\u001b[0;32m   1926\u001b[0m \u001b[38;5;28;01mexcept\u001b[39;00m \u001b[38;5;167;01mException\u001b[39;00m:\n\u001b[0;32m   1927\u001b[0m     \u001b[38;5;28mself\u001b[39m\u001b[38;5;241m.\u001b[39mclose()\n",
      "File \u001b[1;32mc:\\miniconda\\Lib\\site-packages\\pandas\\io\\parsers\\c_parser_wrapper.py:234\u001b[0m, in \u001b[0;36mCParserWrapper.read\u001b[1;34m(self, nrows)\u001b[0m\n\u001b[0;32m    232\u001b[0m \u001b[38;5;28;01mtry\u001b[39;00m:\n\u001b[0;32m    233\u001b[0m     \u001b[38;5;28;01mif\u001b[39;00m \u001b[38;5;28mself\u001b[39m\u001b[38;5;241m.\u001b[39mlow_memory:\n\u001b[1;32m--> 234\u001b[0m         chunks \u001b[38;5;241m=\u001b[39m \u001b[38;5;28;43mself\u001b[39;49m\u001b[38;5;241;43m.\u001b[39;49m\u001b[43m_reader\u001b[49m\u001b[38;5;241;43m.\u001b[39;49m\u001b[43mread_low_memory\u001b[49m\u001b[43m(\u001b[49m\u001b[43mnrows\u001b[49m\u001b[43m)\u001b[49m\n\u001b[0;32m    235\u001b[0m         \u001b[38;5;66;03m# destructive to chunks\u001b[39;00m\n\u001b[0;32m    236\u001b[0m         data \u001b[38;5;241m=\u001b[39m _concatenate_chunks(chunks)\n",
      "File \u001b[1;32mparsers.pyx:838\u001b[0m, in \u001b[0;36mpandas._libs.parsers.TextReader.read_low_memory\u001b[1;34m()\u001b[0m\n",
      "File \u001b[1;32mparsers.pyx:921\u001b[0m, in \u001b[0;36mpandas._libs.parsers.TextReader._read_rows\u001b[1;34m()\u001b[0m\n",
      "File \u001b[1;32mparsers.pyx:983\u001b[0m, in \u001b[0;36mpandas._libs.parsers.TextReader._convert_column_data\u001b[1;34m()\u001b[0m\n",
      "\u001b[1;31mParserError\u001b[0m: Too many columns specified: expected 3 and found 1"
     ]
    }
   ],
   "source": [
    "\n",
    "\n",
    "# Efficiently load the data\n",
    "Camera_timestamps = pd.read_csv(\n",
    "    r\"Z:\\projects\\sequence_squad\\revision_data\\lars_recordings\\video\\seq008\\seq008__20241111\\timestamp_02024-11-11T15_02_12.csv\",\n",
    "    sep=' ',  # Space-separated values\n",
    "    header=None,  # No headers in the file\n",
    "    names=['triggers', 'timestamps1', 'timestamps2'],  # Column names\n",
    "    usecols=[0, 1, 2]  # Only load the three columns\n",
    ")\n",
    "\n",
    "# View the result\n",
    "print(Camera_timestamps.head())"
   ]
  },
  {
   "cell_type": "code",
   "execution_count": null,
   "metadata": {},
   "outputs": [
    {
     "name": "stdout",
     "output_type": "stream",
     "text": [
      "    triggers  timestamps1  timestamps2\n",
      "0  805306368    786449218     26832687\n",
      "1  805306368    786994810     26832688\n",
      "2  805306368    787540410     26832689\n",
      "3  805306368    788087033     26832690\n",
      "4  805306368    788632625     26832691\n"
     ]
    }
   ],
   "source": [
    "# Efficiently load the data\n",
    "Camera_timestamps = pd.read_csv(\n",
    "    os.path.join(full_file, file),\n",
    "    sep=' ',  # Space-separated values\n",
    "    header=None,  # No headers in the file\n",
    "    names=['triggers', 'timestamps1', 'timestamps2'],  # Column names\n",
    "    usecols=[0, 1, 2]  # Only load the three columns\n",
    ")\n",
    "\n",
    "# View the result\n",
    "print(Camera_timestamps.head())"
   ]
  },
  {
   "cell_type": "code",
   "execution_count": 118,
   "metadata": {},
   "outputs": [],
   "source": [
    "##################   Convert the timestamps into seconds and uncycle them:\n",
    "t_stamps = {}  \n",
    "stamps_s = []\n",
    "for indx, row in Camera_timestamps.iterrows():\n",
    "    # if row.triggers > 0: \n",
    "    timestamp_new = converttime(Camera_timestamps.at[indx,'timestamps1'])\n",
    "    stamps_s.append(timestamp_new)\n",
    "    # else:    \n",
    "        # raise ValueError('Timestamps are broken')\n",
    "t_stamps = uncycle(stamps_s)\n",
    "t_stamps = t_stamps - t_stamps[0] # make first timestamp 0 and the others relative to this "
   ]
  },
  {
   "cell_type": "code",
   "execution_count": 114,
   "metadata": {},
   "outputs": [
    {
     "data": {
      "text/plain": [
       "835425"
      ]
     },
     "execution_count": 114,
     "metadata": {},
     "output_type": "execute_result"
    }
   ],
   "source": [
    "Camera_timestamps.timestamps2.values[-1] - Camera_timestamps.timestamps2.values[0]"
   ]
  },
  {
   "cell_type": "code",
   "execution_count": 119,
   "metadata": {},
   "outputs": [
    {
     "data": {
      "text/plain": [
       "[<matplotlib.lines.Line2D at 0x2701ab84a40>]"
      ]
     },
     "execution_count": 119,
     "metadata": {},
     "output_type": "execute_result"
    },
    {
     "data": {
      "image/png": "[encoded data removed]",
      "text/plain": [
       "<Figure size 640x480 with 1 Axes>"
      ]
     },
     "metadata": {},
     "output_type": "display_data"
    }
   ],
   "source": [
    "plt.plot(t_stamps)"
   ]
  },
  {
   "cell_type": "code",
   "execution_count": 121,
   "metadata": {},
   "outputs": [
    {
     "data": {
      "text/plain": [
       "15197.1095"
      ]
     },
     "execution_count": 121,
     "metadata": {},
     "output_type": "execute_result"
    }
   ],
   "source": [
    "t_stamps[-1] - t_stamps[0]"
   ]
  },
  {
   "cell_type": "code",
   "execution_count": 124,
   "metadata": {},
   "outputs": [
    {
     "data": {
      "text/plain": [
       "911826.5700000001"
      ]
     },
     "execution_count": 124,
     "metadata": {},
     "output_type": "execute_result"
    }
   ],
   "source": [
    "t_stamps[-1]/(1/60)"
   ]
  },
  {
   "cell_type": "code",
   "execution_count": 116,
   "metadata": {},
   "outputs": [
    {
     "data": {
      "text/plain": [
       "[<matplotlib.lines.Line2D at 0x27013e32510>]"
      ]
     },
     "execution_count": 116,
     "metadata": {},
     "output_type": "execute_result"
    },
    {
     "data": {
      "image/png": "[encoded data removed]",
      "text/plain": [
       "<Figure size 640x480 with 1 Axes>"
      ]
     },
     "metadata": {},
     "output_type": "display_data"
    }
   ],
   "source": [
    "plt.plot(Camera_timestamps.timestamps2)"
   ]
  },
  {
   "cell_type": "code",
   "execution_count": 115,
   "metadata": {},
   "outputs": [
    {
     "data": {
      "text/html": [
       "<div>\n",
       "<style scoped>\n",
       "    .dataframe tbody tr th:only-of-type {\n",
       "        vertical-align: middle;\n",
       "    }\n",
       "\n",
       "    .dataframe tbody tr th {\n",
       "        vertical-align: top;\n",
       "    }\n",
       "\n",
       "    .dataframe thead th {\n",
       "        text-align: right;\n",
       "    }\n",
       "</style>\n",
       "<table border=\"1\" class=\"dataframe\">\n",
       "  <thead>\n",
       "    <tr style=\"text-align: right;\">\n",
       "      <th></th>\n",
       "      <th>triggers</th>\n",
       "      <th>timestamps1</th>\n",
       "      <th>timestamps2</th>\n",
       "    </tr>\n",
       "  </thead>\n",
       "  <tbody>\n",
       "    <tr>\n",
       "      <th>0</th>\n",
       "      <td>805306368</td>\n",
       "      <td>786449218</td>\n",
       "      <td>26832687</td>\n",
       "    </tr>\n",
       "    <tr>\n",
       "      <th>1</th>\n",
       "      <td>805306368</td>\n",
       "      <td>786994810</td>\n",
       "      <td>26832688</td>\n",
       "    </tr>\n",
       "    <tr>\n",
       "      <th>2</th>\n",
       "      <td>805306368</td>\n",
       "      <td>787540410</td>\n",
       "      <td>26832689</td>\n",
       "    </tr>\n",
       "    <tr>\n",
       "      <th>3</th>\n",
       "      <td>805306368</td>\n",
       "      <td>788087033</td>\n",
       "      <td>26832690</td>\n",
       "    </tr>\n",
       "    <tr>\n",
       "      <th>4</th>\n",
       "      <td>805306368</td>\n",
       "      <td>788632625</td>\n",
       "      <td>26832691</td>\n",
       "    </tr>\n",
       "    <tr>\n",
       "      <th>...</th>\n",
       "      <td>...</td>\n",
       "      <td>...</td>\n",
       "      <td>...</td>\n",
       "    </tr>\n",
       "    <tr>\n",
       "      <th>834831</th>\n",
       "      <td>805306368</td>\n",
       "      <td>3908415963</td>\n",
       "      <td>27668108</td>\n",
       "    </tr>\n",
       "    <tr>\n",
       "      <th>834832</th>\n",
       "      <td>805306368</td>\n",
       "      <td>3908961435</td>\n",
       "      <td>27668109</td>\n",
       "    </tr>\n",
       "    <tr>\n",
       "      <th>834833</th>\n",
       "      <td>805306368</td>\n",
       "      <td>3909507148</td>\n",
       "      <td>27668110</td>\n",
       "    </tr>\n",
       "    <tr>\n",
       "      <th>834834</th>\n",
       "      <td>805306368</td>\n",
       "      <td>3910052754</td>\n",
       "      <td>27668111</td>\n",
       "    </tr>\n",
       "    <tr>\n",
       "      <th>834835</th>\n",
       "      <td>805306368</td>\n",
       "      <td>3910599370</td>\n",
       "      <td>27668112</td>\n",
       "    </tr>\n",
       "  </tbody>\n",
       "</table>\n",
       "<p>834836 rows × 3 columns</p>\n",
       "</div>"
      ],
      "text/plain": [
       "         triggers  timestamps1  timestamps2\n",
       "0       805306368    786449218     26832687\n",
       "1       805306368    786994810     26832688\n",
       "2       805306368    787540410     26832689\n",
       "3       805306368    788087033     26832690\n",
       "4       805306368    788632625     26832691\n",
       "...           ...          ...          ...\n",
       "834831  805306368   3908415963     27668108\n",
       "834832  805306368   3908961435     27668109\n",
       "834833  805306368   3909507148     27668110\n",
       "834834  805306368   3910052754     27668111\n",
       "834835  805306368   3910599370     27668112\n",
       "\n",
       "[834836 rows x 3 columns]"
      ]
     },
     "execution_count": 115,
     "metadata": {},
     "output_type": "execute_result"
    }
   ],
   "source": [
    "Camera_timestamps"
   ]
  },
  {
   "cell_type": "code",
   "execution_count": 107,
   "metadata": {},
   "outputs": [
    {
     "data": {
      "text/plain": [
       "[<matplotlib.lines.Line2D at 0x2700fdd5970>]"
      ]
     },
     "execution_count": 107,
     "metadata": {},
     "output_type": "execute_result"
    },
    {
     "data": {
      "image/png": "[encoded data removed]",
      "text/plain": [
       "<Figure size 640x480 with 1 Axes>"
      ]
     },
     "metadata": {},
     "output_type": "display_data"
    }
   ],
   "source": [
    "\n",
    "# plt.plot(Camera_timestamps.triggers)\n",
    "plt.plot(t_stamps)\n",
    "# plt.ylim(1500,1700)\n",
    "# plt.xlim(90000,102000)"
   ]
  },
  {
   "cell_type": "code",
   "execution_count": 101,
   "metadata": {},
   "outputs": [
    {
     "data": {
      "text/plain": [
       "834836"
      ]
     },
     "execution_count": 101,
     "metadata": {},
     "output_type": "execute_result"
    }
   ],
   "source": [
    "len(t_stamps)"
   ]
  },
  {
   "cell_type": "code",
   "execution_count": 79,
   "metadata": {},
   "outputs": [
    {
     "data": {
      "text/plain": [
       "[<matplotlib.lines.Line2D at 0x2701c8dd4c0>]"
      ]
     },
     "execution_count": 79,
     "metadata": {},
     "output_type": "execute_result"
    },
    {
     "data": {
      "image/png": "[encoded data removed]",
      "text/plain": [
       "<Figure size 640x480 with 1 Axes>"
      ]
     },
     "metadata": {},
     "output_type": "display_data"
    }
   ],
   "source": [
    "import matplotlib.pyplot as plt\n",
    "plt.plot(Camera_timestamps.triggers)"
   ]
  },
  {
   "cell_type": "code",
   "execution_count": 80,
   "metadata": {},
   "outputs": [
    {
     "data": {
      "text/plain": [
       "array([ 805306368, 2952790016,          0], dtype=int64)"
      ]
     },
     "execution_count": 80,
     "metadata": {},
     "output_type": "execute_result"
    }
   ],
   "source": [
    "Camera_timestamps.triggers.unique()"
   ]
  },
  {
   "cell_type": "code",
   "execution_count": 76,
   "metadata": {},
   "outputs": [
    {
     "data": {
      "text/plain": [
       "triggers       805306368\n",
       "timestamps1    786449218\n",
       "timestamps2     26832687\n",
       "Name: 0, dtype: int64"
      ]
     },
     "execution_count": 76,
     "metadata": {},
     "output_type": "execute_result"
    }
   ],
   "source": [
    "row"
   ]
  },
  {
   "cell_type": "code",
   "execution_count": 75,
   "metadata": {},
   "outputs": [],
   "source": [
    "for indx, row in Camera_timestamps.iterrows():\n",
    "    row\n",
    "    break"
   ]
  },
  {
   "cell_type": "code",
   "execution_count": 45,
   "metadata": {},
   "outputs": [
    {
     "data": {
      "text/plain": [
       "('Trigger', 'Timestamp', 'blank')"
      ]
     },
     "execution_count": 45,
     "metadata": {},
     "output_type": "execute_result"
    }
   ],
   "source": [
    "'Trigger', 'Timestamp', 'blank'"
   ]
  },
  {
   "cell_type": "code",
   "execution_count": 49,
   "metadata": {},
   "outputs": [
    {
     "data": {
      "text/plain": [
       "Index(['805306368 786449218 26832687 '], dtype='object')"
      ]
     },
     "execution_count": 49,
     "metadata": {},
     "output_type": "execute_result"
    }
   ],
   "source": [
    "Camera_timestamps.columns"
   ]
  },
  {
   "cell_type": "code",
   "execution_count": 44,
   "metadata": {},
   "outputs": [
    {
     "ename": "ValueError",
     "evalue": "Length mismatch: Expected axis has 1 elements, new values have 3 elements",
     "output_type": "error",
     "traceback": [
      "\u001b[1;31m---------------------------------------------------------------------------\u001b[0m",
      "\u001b[1;31mValueError\u001b[0m                                Traceback (most recent call last)",
      "Cell \u001b[1;32mIn[44], line 1\u001b[0m\n\u001b[1;32m----> 1\u001b[0m \u001b[43mCamera_timestamps\u001b[49m\u001b[38;5;241;43m.\u001b[39;49m\u001b[43mcolumns\u001b[49m \u001b[38;5;241m=\u001b[39m [\u001b[38;5;124m'\u001b[39m\u001b[38;5;124m1\u001b[39m\u001b[38;5;124m'\u001b[39m, \u001b[38;5;124m'\u001b[39m\u001b[38;5;124m2\u001b[39m\u001b[38;5;124m'\u001b[39m, \u001b[38;5;124m'\u001b[39m\u001b[38;5;124m3\u001b[39m\u001b[38;5;124m'\u001b[39m]\n\u001b[0;32m      2\u001b[0m Camera_timestamps\n",
      "File \u001b[1;32mc:\\miniconda\\Lib\\site-packages\\pandas\\core\\generic.py:6313\u001b[0m, in \u001b[0;36mNDFrame.__setattr__\u001b[1;34m(self, name, value)\u001b[0m\n\u001b[0;32m   6311\u001b[0m \u001b[38;5;28;01mtry\u001b[39;00m:\n\u001b[0;32m   6312\u001b[0m     \u001b[38;5;28mobject\u001b[39m\u001b[38;5;241m.\u001b[39m\u001b[38;5;21m__getattribute__\u001b[39m(\u001b[38;5;28mself\u001b[39m, name)\n\u001b[1;32m-> 6313\u001b[0m     \u001b[38;5;28;01mreturn\u001b[39;00m \u001b[38;5;28;43mobject\u001b[39;49m\u001b[38;5;241;43m.\u001b[39;49m\u001b[38;5;21;43m__setattr__\u001b[39;49m\u001b[43m(\u001b[49m\u001b[38;5;28;43mself\u001b[39;49m\u001b[43m,\u001b[49m\u001b[43m \u001b[49m\u001b[43mname\u001b[49m\u001b[43m,\u001b[49m\u001b[43m \u001b[49m\u001b[43mvalue\u001b[49m\u001b[43m)\u001b[49m\n\u001b[0;32m   6314\u001b[0m \u001b[38;5;28;01mexcept\u001b[39;00m \u001b[38;5;167;01mAttributeError\u001b[39;00m:\n\u001b[0;32m   6315\u001b[0m     \u001b[38;5;28;01mpass\u001b[39;00m\n",
      "File \u001b[1;32mproperties.pyx:69\u001b[0m, in \u001b[0;36mpandas._libs.properties.AxisProperty.__set__\u001b[1;34m()\u001b[0m\n",
      "File \u001b[1;32mc:\\miniconda\\Lib\\site-packages\\pandas\\core\\generic.py:814\u001b[0m, in \u001b[0;36mNDFrame._set_axis\u001b[1;34m(self, axis, labels)\u001b[0m\n\u001b[0;32m    809\u001b[0m \u001b[38;5;250m\u001b[39m\u001b[38;5;124;03m\"\"\"\u001b[39;00m\n\u001b[0;32m    810\u001b[0m \u001b[38;5;124;03mThis is called from the cython code when we set the `index` attribute\u001b[39;00m\n\u001b[0;32m    811\u001b[0m \u001b[38;5;124;03mdirectly, e.g. `series.index = [1, 2, 3]`.\u001b[39;00m\n\u001b[0;32m    812\u001b[0m \u001b[38;5;124;03m\"\"\"\u001b[39;00m\n\u001b[0;32m    813\u001b[0m labels \u001b[38;5;241m=\u001b[39m ensure_index(labels)\n\u001b[1;32m--> 814\u001b[0m \u001b[38;5;28;43mself\u001b[39;49m\u001b[38;5;241;43m.\u001b[39;49m\u001b[43m_mgr\u001b[49m\u001b[38;5;241;43m.\u001b[39;49m\u001b[43mset_axis\u001b[49m\u001b[43m(\u001b[49m\u001b[43maxis\u001b[49m\u001b[43m,\u001b[49m\u001b[43m \u001b[49m\u001b[43mlabels\u001b[49m\u001b[43m)\u001b[49m\n\u001b[0;32m    815\u001b[0m \u001b[38;5;28mself\u001b[39m\u001b[38;5;241m.\u001b[39m_clear_item_cache()\n",
      "File \u001b[1;32mc:\\miniconda\\Lib\\site-packages\\pandas\\core\\internals\\managers.py:238\u001b[0m, in \u001b[0;36mBaseBlockManager.set_axis\u001b[1;34m(self, axis, new_labels)\u001b[0m\n\u001b[0;32m    236\u001b[0m \u001b[38;5;28;01mdef\u001b[39;00m \u001b[38;5;21mset_axis\u001b[39m(\u001b[38;5;28mself\u001b[39m, axis: AxisInt, new_labels: Index) \u001b[38;5;241m-\u001b[39m\u001b[38;5;241m>\u001b[39m \u001b[38;5;28;01mNone\u001b[39;00m:\n\u001b[0;32m    237\u001b[0m     \u001b[38;5;66;03m# Caller is responsible for ensuring we have an Index object.\u001b[39;00m\n\u001b[1;32m--> 238\u001b[0m     \u001b[38;5;28;43mself\u001b[39;49m\u001b[38;5;241;43m.\u001b[39;49m\u001b[43m_validate_set_axis\u001b[49m\u001b[43m(\u001b[49m\u001b[43maxis\u001b[49m\u001b[43m,\u001b[49m\u001b[43m \u001b[49m\u001b[43mnew_labels\u001b[49m\u001b[43m)\u001b[49m\n\u001b[0;32m    239\u001b[0m     \u001b[38;5;28mself\u001b[39m\u001b[38;5;241m.\u001b[39maxes[axis] \u001b[38;5;241m=\u001b[39m new_labels\n",
      "File \u001b[1;32mc:\\miniconda\\Lib\\site-packages\\pandas\\core\\internals\\base.py:98\u001b[0m, in \u001b[0;36mDataManager._validate_set_axis\u001b[1;34m(self, axis, new_labels)\u001b[0m\n\u001b[0;32m     95\u001b[0m     \u001b[38;5;28;01mpass\u001b[39;00m\n\u001b[0;32m     97\u001b[0m \u001b[38;5;28;01melif\u001b[39;00m new_len \u001b[38;5;241m!=\u001b[39m old_len:\n\u001b[1;32m---> 98\u001b[0m     \u001b[38;5;28;01mraise\u001b[39;00m \u001b[38;5;167;01mValueError\u001b[39;00m(\n\u001b[0;32m     99\u001b[0m         \u001b[38;5;124mf\u001b[39m\u001b[38;5;124m\"\u001b[39m\u001b[38;5;124mLength mismatch: Expected axis has \u001b[39m\u001b[38;5;132;01m{\u001b[39;00mold_len\u001b[38;5;132;01m}\u001b[39;00m\u001b[38;5;124m elements, new \u001b[39m\u001b[38;5;124m\"\u001b[39m\n\u001b[0;32m    100\u001b[0m         \u001b[38;5;124mf\u001b[39m\u001b[38;5;124m\"\u001b[39m\u001b[38;5;124mvalues have \u001b[39m\u001b[38;5;132;01m{\u001b[39;00mnew_len\u001b[38;5;132;01m}\u001b[39;00m\u001b[38;5;124m elements\u001b[39m\u001b[38;5;124m\"\u001b[39m\n\u001b[0;32m    101\u001b[0m     )\n",
      "\u001b[1;31mValueError\u001b[0m: Length mismatch: Expected axis has 1 elements, new values have 3 elements"
     ]
    }
   ],
   "source": [
    "Camera_timestamps.columns = ['1', '2', '3']\n",
    "Camera_timestamps"
   ]
  },
  {
   "cell_type": "code",
   "execution_count": 36,
   "metadata": {},
   "outputs": [
    {
     "data": {
      "text/html": [
       "<div>\n",
       "<style scoped>\n",
       "    .dataframe tbody tr th:only-of-type {\n",
       "        vertical-align: middle;\n",
       "    }\n",
       "\n",
       "    .dataframe tbody tr th {\n",
       "        vertical-align: top;\n",
       "    }\n",
       "\n",
       "    .dataframe thead th {\n",
       "        text-align: right;\n",
       "    }\n",
       "</style>\n",
       "<table border=\"1\" class=\"dataframe\">\n",
       "  <thead>\n",
       "    <tr style=\"text-align: right;\">\n",
       "      <th></th>\n",
       "      <th>805306368 786449218 26832687</th>\n",
       "    </tr>\n",
       "  </thead>\n",
       "  <tbody>\n",
       "    <tr>\n",
       "      <th>0</th>\n",
       "      <td>805306368 786994810 26832688</td>\n",
       "    </tr>\n",
       "    <tr>\n",
       "      <th>1</th>\n",
       "      <td>805306368 787540410 26832689</td>\n",
       "    </tr>\n",
       "    <tr>\n",
       "      <th>2</th>\n",
       "      <td>805306368 788087033 26832690</td>\n",
       "    </tr>\n",
       "    <tr>\n",
       "      <th>3</th>\n",
       "      <td>805306368 788632625 26832691</td>\n",
       "    </tr>\n",
       "    <tr>\n",
       "      <th>4</th>\n",
       "      <td>805306368 789178217 26832692</td>\n",
       "    </tr>\n",
       "    <tr>\n",
       "      <th>...</th>\n",
       "      <td>...</td>\n",
       "    </tr>\n",
       "    <tr>\n",
       "      <th>834830</th>\n",
       "      <td>805306368 3908415963 27668108</td>\n",
       "    </tr>\n",
       "    <tr>\n",
       "      <th>834831</th>\n",
       "      <td>805306368 3908961435 27668109</td>\n",
       "    </tr>\n",
       "    <tr>\n",
       "      <th>834832</th>\n",
       "      <td>805306368 3909507148 27668110</td>\n",
       "    </tr>\n",
       "    <tr>\n",
       "      <th>834833</th>\n",
       "      <td>805306368 3910052754 27668111</td>\n",
       "    </tr>\n",
       "    <tr>\n",
       "      <th>834834</th>\n",
       "      <td>805306368 3910599370 27668112</td>\n",
       "    </tr>\n",
       "  </tbody>\n",
       "</table>\n",
       "<p>834835 rows × 1 columns</p>\n",
       "</div>"
      ],
      "text/plain": [
       "         805306368 786449218 26832687 \n",
       "0        805306368 786994810 26832688 \n",
       "1        805306368 787540410 26832689 \n",
       "2        805306368 788087033 26832690 \n",
       "3        805306368 788632625 26832691 \n",
       "4        805306368 789178217 26832692 \n",
       "...                                ...\n",
       "834830  805306368 3908415963 27668108 \n",
       "834831  805306368 3908961435 27668109 \n",
       "834832  805306368 3909507148 27668110 \n",
       "834833  805306368 3910052754 27668111 \n",
       "834834  805306368 3910599370 27668112 \n",
       "\n",
       "[834835 rows x 1 columns]"
      ]
     },
     "execution_count": 36,
     "metadata": {},
     "output_type": "execute_result"
    }
   ],
   "source": [
    "Camera_timestamps"
   ]
  },
  {
   "cell_type": "code",
   "execution_count": null,
   "metadata": {},
   "outputs": [
    {
     "data": {
      "text/html": [
       "<div>\n",
       "<style scoped>\n",
       "    .dataframe tbody tr th:only-of-type {\n",
       "        vertical-align: middle;\n",
       "    }\n",
       "\n",
       "    .dataframe tbody tr th {\n",
       "        vertical-align: top;\n",
       "    }\n",
       "\n",
       "    .dataframe thead th {\n",
       "        text-align: right;\n",
       "    }\n",
       "</style>\n",
       "<table border=\"1\" class=\"dataframe\">\n",
       "  <thead>\n",
       "    <tr style=\"text-align: right;\">\n",
       "      <th></th>\n",
       "      <th>Item1</th>\n",
       "      <th>Item2</th>\n",
       "      <th>Item3</th>\n",
       "    </tr>\n",
       "  </thead>\n",
       "  <tbody>\n",
       "    <tr>\n",
       "      <th>0</th>\n",
       "      <td>12</td>\n",
       "      <td>22967361</td>\n",
       "      <td>347450753384920</td>\n",
       "    </tr>\n",
       "    <tr>\n",
       "      <th>1</th>\n",
       "      <td>12</td>\n",
       "      <td>22967362</td>\n",
       "      <td>347450759343208</td>\n",
       "    </tr>\n",
       "    <tr>\n",
       "      <th>2</th>\n",
       "      <td>12</td>\n",
       "      <td>22967363</td>\n",
       "      <td>347450765302400</td>\n",
       "    </tr>\n",
       "    <tr>\n",
       "      <th>3</th>\n",
       "      <td>12</td>\n",
       "      <td>22967364</td>\n",
       "      <td>347450771261264</td>\n",
       "    </tr>\n",
       "    <tr>\n",
       "      <th>4</th>\n",
       "      <td>12</td>\n",
       "      <td>22967365</td>\n",
       "      <td>347450777220448</td>\n",
       "    </tr>\n",
       "    <tr>\n",
       "      <th>...</th>\n",
       "      <td>...</td>\n",
       "      <td>...</td>\n",
       "      <td>...</td>\n",
       "    </tr>\n",
       "    <tr>\n",
       "      <th>2037999</th>\n",
       "      <td>12</td>\n",
       "      <td>25005360</td>\n",
       "      <td>360830060472448</td>\n",
       "    </tr>\n",
       "    <tr>\n",
       "      <th>2038000</th>\n",
       "      <td>12</td>\n",
       "      <td>25005361</td>\n",
       "      <td>360830066715920</td>\n",
       "    </tr>\n",
       "    <tr>\n",
       "      <th>2038001</th>\n",
       "      <td>12</td>\n",
       "      <td>25005362</td>\n",
       "      <td>360830072959048</td>\n",
       "    </tr>\n",
       "    <tr>\n",
       "      <th>2038002</th>\n",
       "      <td>12</td>\n",
       "      <td>25005363</td>\n",
       "      <td>360830079202120</td>\n",
       "    </tr>\n",
       "    <tr>\n",
       "      <th>2038003</th>\n",
       "      <td>12</td>\n",
       "      <td>25005364</td>\n",
       "      <td>360830085444640</td>\n",
       "    </tr>\n",
       "  </tbody>\n",
       "</table>\n",
       "<p>2038004 rows × 3 columns</p>\n",
       "</div>"
      ],
      "text/plain": [
       "         Item1     Item2            Item3\n",
       "0           12  22967361  347450753384920\n",
       "1           12  22967362  347450759343208\n",
       "2           12  22967363  347450765302400\n",
       "3           12  22967364  347450771261264\n",
       "4           12  22967365  347450777220448\n",
       "...        ...       ...              ...\n",
       "2037999     12  25005360  360830060472448\n",
       "2038000     12  25005361  360830066715920\n",
       "2038001     12  25005362  360830072959048\n",
       "2038002     12  25005363  360830079202120\n",
       "2038003     12  25005364  360830085444640\n",
       "\n",
       "[2038004 rows x 3 columns]"
      ]
     },
     "execution_count": 23,
     "metadata": {},
     "output_type": "execute_result"
    }
   ],
   "source": [
    "process_camera_data(stamps) \n",
    "\n",
    "\n"
   ]
  },
  {
   "cell_type": "code",
   "execution_count": null,
   "metadata": {},
   "outputs": [],
   "source": [
    "## uncycle the stamps\n",
    "\n",
    "find the TTL trigs\n",
    "\n",
    "## load some camera frames and try to decide automatically if it is the above or back cam "
   ]
  },
  {
   "cell_type": "code",
   "execution_count": null,
   "metadata": {},
   "outputs": [
    {
     "name": "stdout",
     "output_type": "stream",
     "text": [
      "seq008__20241115__timestamp_02024-11-15T14_07_23.csv\n",
      "seq008__20241115__timestamp_22024-11-15T14_07_23.csv\n"
     ]
    }
   ],
   "source": []
  },
  {
   "cell_type": "code",
   "execution_count": null,
   "metadata": {},
   "outputs": [],
   "source": []
  }
 ],
 "metadata": {
  "kernelspec": {
   "display_name": "Python 3 (ipykernel)",
   "language": "python",
   "name": "python3"
  },
  "language_info": {
   "codemirror_mode": {
    "name": "ipython",
    "version": 3
   },
   "file_extension": ".py",
   "mimetype": "text/x-python",
   "name": "python",
   "nbconvert_exporter": "python",
   "pygments_lexer": "ipython3",
   "version": "3.11.10"
  }
 },
 "nbformat": 4,
 "nbformat_minor": 4
}
