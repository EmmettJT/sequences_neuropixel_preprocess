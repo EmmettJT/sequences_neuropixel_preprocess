{
 "cells": [
  {
   "cell_type": "markdown",
   "metadata": {},
   "source": [
    "# import"
   ]
  },
  {
   "cell_type": "code",
   "execution_count": 1,
   "metadata": {},
   "outputs": [],
   "source": [
    "## import functions from .py utils file: \n",
    "from Utilities.preprocessing import *\n",
    "import os\n",
    "from IPython.display import display, HTML\n",
    "from tqdm import tqdm \n",
    "from datetime import datetime\n"
   ]
  },
  {
   "cell_type": "markdown",
   "metadata": {},
   "source": [
    "# paths"
   ]
  },
  {
   "cell_type": "code",
   "execution_count": 9,
   "metadata": {},
   "outputs": [],
   "source": [
    "InputPath = r\"Z:\\projects\\sequence_squad\\revision_data\\lars_recordings\\bpod_data\\\\\"\n",
    "# InputPath = r\"D:\\EPHYS_BPOD_data_example\\\\\"\n",
    "\n",
    "out_path_base = r\"Z:\\projects\\sequence_squad\\revision_data\\organised_data\\animals\\\\\"\n",
    "\n",
    "Replace = True\n",
    "\n"
   ]
  },
  {
   "cell_type": "markdown",
   "metadata": {},
   "source": [
    "# set paths"
   ]
  },
  {
   "cell_type": "code",
   "execution_count": 40,
   "metadata": {},
   "outputs": [
    {
     "name": "stdout",
     "output_type": "stream",
     "text": [
      "making path\n",
      "Z:\\projects\\sequence_squad\\revision_data\\organised_data\\animals\\\\seq006_implant1\\recording11_28-11-2024\\behav_sync/2_task/\n"
     ]
    }
   ],
   "source": [
    "\n",
    "# find main paths for the animals\n",
    "main_paths = []\n",
    "Animal_ID = []\n",
    "Animal_save_paths = []\n",
    "Animal_bpod_save_paths = []\n",
    "Animal_ephys_dates = []\n",
    "\n",
    "# for each animal in the bpod dump path \n",
    "for mouse in os.listdir(InputPath):\n",
    "    if not mouse == 'FakeSubject':\n",
    "        Animal_ID += [mouse]\n",
    "        main_paths+=[os.path.join(InputPath,mouse,r'Sequence_Automated','Session Data//')]\n",
    "        save_paths = []\n",
    "        # find dates that match an ephys recording in teh organised folder\n",
    "        for animal_file in os.listdir(out_path_base):\n",
    "            # for seq00 animals\n",
    "            if mouse.lower() in animal_file:\n",
    "                recordings = os.listdir(os.path.join(out_path_base,animal_file))\n",
    "                # Sort by date\n",
    "                sorted_recordings = sorted(recordings, key=lambda x: datetime.strptime(x.split('_')[1], '%d-%m-%Y'))\n",
    "                ephys_dates = list(recording.split('_')[-1] for recording in sorted_recordings)\n",
    "                save_paths = list(os.path.join(out_path_base,animal_file,recording) for recording in sorted_recordings)\n",
    "                break\n",
    "                ## extract date from recordings\n",
    "           \n",
    "            elif 'ap5' in mouse.lower():\n",
    "                if 'lr' in mouse.lower():\n",
    "                    recordings = os.listdir(os.path.join(out_path_base,'ap5lr_implant1'))\n",
    "                    # Sort by date\n",
    "                    sorted_recordings = sorted(recordings, key=lambda x: datetime.strptime(x.split('_')[1], '%d-%m-%Y'))\n",
    "                    ephys_dates = list(recording.split('_')[-1] for recording in sorted_recordings)\n",
    "                    save_paths = list(os.path.join(out_path_base,'ap5lr_implant1',recording) for recording in sorted_recordings)\n",
    "                    break\n",
    "                elif 'L' in mouse:\n",
    "                    recordings = os.listdir(os.path.join(out_path_base,'ap5L_implant1'))\n",
    "                    # Sort by date\n",
    "                    sorted_recordings = sorted(recordings, key=lambda x: datetime.strptime(x.split('_')[1], '%d-%m-%Y'))\n",
    "                    ephys_dates = list(recording.split('_')[-1] for recording in sorted_recordings)\n",
    "                    save_paths = list(os.path.join(out_path_base,'ap5L_implant1',recording) for recording in sorted_recordings)\n",
    "                    break\n",
    "                elif 'R' in mouse:\n",
    "                    recordings = os.listdir(os.path.join(out_path_base,'ap5R_implant1'))\n",
    "                    # Sort by date\n",
    "                    sorted_recordings = sorted(recordings, key=lambda x: datetime.strptime(x.split('_')[1], '%d-%m-%Y'))\n",
    "                    ephys_dates = list(recording.split('_')[-1] for recording in sorted_recordings)\n",
    "                    save_paths = list(os.path.join(out_path_base,'ap5R_implant1',recording) for recording in sorted_recordings)\n",
    "                    break\n",
    "\n",
    "        if len(save_paths) > 0: # ignore for files that are not in ephys organised folder\n",
    "            # create full save paths \n",
    "            full_save_paths = []\n",
    "            for save_path in save_paths:\n",
    "                new_path = os.path.join(save_path,r'behav_sync/2_task/')\n",
    "                if not os.path.isdir(new_path):\n",
    "                    print('making path')\n",
    "                    print(new_path)\n",
    "                    os.makedirs(new_path)\n",
    "                full_save_paths+=[new_path]\n",
    "            Animal_bpod_save_paths += [full_save_paths]\n",
    "            Animal_save_paths += [save_paths]\n",
    "            Animal_ephys_dates += [ephys_dates]\n",
    "        \n",
    "      \n"
   ]
  },
  {
   "cell_type": "code",
   "execution_count": 41,
   "metadata": {},
   "outputs": [
    {
     "data": {
      "text/html": [
       "<b>Processing data for: SEQ006</b>"
      ],
      "text/plain": [
       "<IPython.core.display.HTML object>"
      ]
     },
     "metadata": {},
     "output_type": "display_data"
    },
    {
     "name": "stdout",
     "output_type": "stream",
     "text": [
      "SEQ006_Sequence_Automated_20241115_111239.mat\n",
      "SEQ006_Sequence_Automated_20241116_134904.mat\n",
      "SEQ006_Sequence_Automated_20241118_145435.mat\n",
      "SEQ006_Sequence_Automated_20241119_112407.mat\n",
      "SEQ006_Sequence_Automated_20241120_105129.mat\n",
      "SEQ006_Sequence_Automated_20241121_105847.mat\n"
     ]
    },
    {
     "name": "stderr",
     "output_type": "stream",
     "text": [
      "  0%|          | 0/6 [00:00<?, ?it/s]"
     ]
    },
    {
     "name": "stdout",
     "output_type": "stream",
     "text": [
      "0\n",
      "Z:\\projects\\sequence_squad\\revision_data\\organised_data\\animals\\\\seq006_implant1\\recording1_15-11-2024\\\\\\behav_sync\\2_task\\Preprocessed\\\\00_20241115_111239_Fri\n"
     ]
    },
    {
     "name": "stderr",
     "output_type": "stream",
     "text": [
      " 17%|█▋        | 1/6 [00:20<01:41, 20.38s/it]"
     ]
    },
    {
     "name": "stdout",
     "output_type": "stream",
     "text": [
      "1\n",
      "Z:\\projects\\sequence_squad\\revision_data\\organised_data\\animals\\\\seq006_implant1\\recording2_16-11-2024\\\\\\behav_sync\\2_task\\Preprocessed\\\\01_20241116_134904_Sat\n"
     ]
    },
    {
     "name": "stderr",
     "output_type": "stream",
     "text": [
      " 33%|███▎      | 2/6 [00:42<01:24, 21.24s/it]"
     ]
    },
    {
     "name": "stdout",
     "output_type": "stream",
     "text": [
      "2\n",
      "Z:\\projects\\sequence_squad\\revision_data\\organised_data\\animals\\\\seq006_implant1\\recording3_18-11-2024\\\\\\behav_sync\\2_task\\Preprocessed\\\\02_20241118_145435_Mon\n"
     ]
    },
    {
     "name": "stderr",
     "output_type": "stream",
     "text": [
      " 50%|█████     | 3/6 [01:14<01:18, 26.33s/it]"
     ]
    },
    {
     "name": "stdout",
     "output_type": "stream",
     "text": [
      "3\n",
      "Z:\\projects\\sequence_squad\\revision_data\\organised_data\\animals\\\\seq006_implant1\\recording4_19-11-2024\\\\\\behav_sync\\2_task\\Preprocessed\\\\03_20241119_112407_Tue\n"
     ]
    },
    {
     "name": "stderr",
     "output_type": "stream",
     "text": [
      " 67%|██████▋   | 4/6 [01:50<01:00, 30.06s/it]"
     ]
    },
    {
     "name": "stdout",
     "output_type": "stream",
     "text": [
      "4\n",
      "Z:\\projects\\sequence_squad\\revision_data\\organised_data\\animals\\\\seq006_implant1\\recording5_20-11-2024\\\\\\behav_sync\\2_task\\Preprocessed\\\\04_20241120_105129_Wed\n"
     ]
    },
    {
     "name": "stderr",
     "output_type": "stream",
     "text": [
      " 83%|████████▎ | 5/6 [02:22<00:30, 30.92s/it]"
     ]
    },
    {
     "name": "stdout",
     "output_type": "stream",
     "text": [
      "5\n",
      "Z:\\projects\\sequence_squad\\revision_data\\organised_data\\animals\\\\seq006_implant1\\recording6_21-11-2024\\\\\\behav_sync\\2_task\\Preprocessed\\\\05_20241121_105847_Thu\n"
     ]
    },
    {
     "name": "stderr",
     "output_type": "stream",
     "text": [
      "100%|██████████| 6/6 [02:53<00:00, 28.95s/it]\n"
     ]
    },
    {
     "data": {
      "text/html": [
       "<b>Processing data for: SEQ007</b>"
      ],
      "text/plain": [
       "<IPython.core.display.HTML object>"
      ]
     },
     "metadata": {},
     "output_type": "display_data"
    },
    {
     "name": "stdout",
     "output_type": "stream",
     "text": [
      "SEQ007_Sequence_Automated_20241118_102158.mat\n",
      "SEQ007_Sequence_Automated_20241119_161354.mat\n",
      "SEQ007_Sequence_Automated_20241120_151333.mat\n"
     ]
    },
    {
     "name": "stderr",
     "output_type": "stream",
     "text": [
      "  0%|          | 0/3 [00:00<?, ?it/s]"
     ]
    },
    {
     "name": "stdout",
     "output_type": "stream",
     "text": [
      "0\n",
      "Z:\\projects\\sequence_squad\\revision_data\\organised_data\\animals\\\\seq007_implant1\\recording1_18-11-2024\\\\\\behav_sync\\2_task\\Preprocessed\\\\00_20241118_102158_Mon\n"
     ]
    },
    {
     "name": "stderr",
     "output_type": "stream",
     "text": [
      " 33%|███▎      | 1/3 [00:29<00:58, 29.08s/it]"
     ]
    },
    {
     "name": "stdout",
     "output_type": "stream",
     "text": [
      "1\n",
      "Z:\\projects\\sequence_squad\\revision_data\\organised_data\\animals\\\\seq007_implant1\\recording2_19-11-2024\\\\\\behav_sync\\2_task\\Preprocessed\\\\01_20241119_161354_Tue\n"
     ]
    },
    {
     "name": "stderr",
     "output_type": "stream",
     "text": [
      " 67%|██████▋   | 2/3 [01:00<00:30, 30.19s/it]"
     ]
    },
    {
     "name": "stdout",
     "output_type": "stream",
     "text": [
      "2\n",
      "Z:\\projects\\sequence_squad\\revision_data\\organised_data\\animals\\\\seq007_implant1\\recording3_20-11-2024\\\\\\behav_sync\\2_task\\Preprocessed\\\\02_20241120_151333_Wed\n"
     ]
    },
    {
     "name": "stderr",
     "output_type": "stream",
     "text": [
      "100%|██████████| 3/3 [01:27<00:00, 29.32s/it]\n"
     ]
    },
    {
     "data": {
      "text/html": [
       "<b>Processing data for: SEQ008</b>"
      ],
      "text/plain": [
       "<IPython.core.display.HTML object>"
      ]
     },
     "metadata": {},
     "output_type": "display_data"
    },
    {
     "name": "stdout",
     "output_type": "stream",
     "text": [
      "SEQ008_Sequence_Automated_20241111_163209.mat\n",
      "SEQ008_Sequence_Automated_20241112_142902.mat\n",
      "SEQ008_Sequence_Automated_20241113_104324.mat\n",
      "SEQ008_Sequence_Automated_20241115_153541.mat\n"
     ]
    },
    {
     "name": "stderr",
     "output_type": "stream",
     "text": [
      "  0%|          | 0/4 [00:00<?, ?it/s]"
     ]
    },
    {
     "name": "stdout",
     "output_type": "stream",
     "text": [
      "0\n",
      "Z:\\projects\\sequence_squad\\revision_data\\organised_data\\animals\\\\seq008_implant1\\recording1_11-11-2024\\\\\\behav_sync\\2_task\\Preprocessed\\\\00_20241111_163209_Mon\n"
     ]
    },
    {
     "name": "stderr",
     "output_type": "stream",
     "text": [
      " 25%|██▌       | 1/4 [00:30<01:31, 30.45s/it]"
     ]
    },
    {
     "name": "stdout",
     "output_type": "stream",
     "text": [
      "1\n",
      "Z:\\projects\\sequence_squad\\revision_data\\organised_data\\animals\\\\seq008_implant1\\recording2_12-11-2024\\\\\\behav_sync\\2_task\\Preprocessed\\\\01_20241112_142902_Tue\n"
     ]
    },
    {
     "name": "stderr",
     "output_type": "stream",
     "text": [
      " 50%|█████     | 2/4 [00:59<00:59, 29.58s/it]"
     ]
    },
    {
     "name": "stdout",
     "output_type": "stream",
     "text": [
      "2\n",
      "Z:\\projects\\sequence_squad\\revision_data\\organised_data\\animals\\\\seq008_implant1\\recording3_13-11-2024\\\\\\behav_sync\\2_task\\Preprocessed\\\\02_20241113_104324_Wed\n"
     ]
    },
    {
     "name": "stderr",
     "output_type": "stream",
     "text": [
      " 75%|███████▌  | 3/4 [01:27<00:28, 28.97s/it]"
     ]
    },
    {
     "name": "stdout",
     "output_type": "stream",
     "text": [
      "3\n",
      "Z:\\projects\\sequence_squad\\revision_data\\organised_data\\animals\\\\seq008_implant1\\recording4_15-11-2024\\\\\\behav_sync\\2_task\\Preprocessed\\\\03_20241115_153541_Fri\n"
     ]
    },
    {
     "name": "stderr",
     "output_type": "stream",
     "text": [
      "100%|██████████| 4/4 [01:53<00:00, 28.27s/it]\n"
     ]
    },
    {
     "data": {
      "text/html": [
       "<b>Processing data for: SP156</b>"
      ],
      "text/plain": [
       "<IPython.core.display.HTML object>"
      ]
     },
     "metadata": {},
     "output_type": "display_data"
    },
    {
     "ename": "IndexError",
     "evalue": "list index out of range",
     "output_type": "error",
     "traceback": [
      "\u001b[1;31m---------------------------------------------------------------------------\u001b[0m",
      "\u001b[1;31mIndexError\u001b[0m                                Traceback (most recent call last)",
      "Cell \u001b[1;32mIn[41], line 8\u001b[0m\n\u001b[0;32m      5\u001b[0m display(HTML(\u001b[38;5;124mf\u001b[39m\u001b[38;5;124m\"\u001b[39m\u001b[38;5;124m<b>Processing data for: \u001b[39m\u001b[38;5;132;01m{\u001b[39;00mCurrentAnimal\u001b[38;5;132;01m}\u001b[39;00m\u001b[38;5;124m</b>\u001b[39m\u001b[38;5;124m\"\u001b[39m))\n\u001b[0;32m      7\u001b[0m \u001b[38;5;66;03m#Load Behavioural data:\u001b[39;00m\n\u001b[1;32m----> 8\u001b[0m Behav_data, Sessions,Path,FileDates \u001b[38;5;241m=\u001b[39m Import_EPHYS_Bpod_DataFiles(main_paths[Animal_index],\u001b[43mAnimal_ephys_dates\u001b[49m\u001b[43m[\u001b[49m\u001b[43mAnimal_index\u001b[49m\u001b[43m]\u001b[49m)\n\u001b[0;32m     10\u001b[0m Processed \u001b[38;5;241m=\u001b[39m (\u001b[38;5;124m'\u001b[39m\u001b[38;5;124m'\u001b[39m)\n\u001b[0;32m     11\u001b[0m Skipped \u001b[38;5;241m=\u001b[39m (\u001b[38;5;124m'\u001b[39m\u001b[38;5;124m'\u001b[39m)\n",
      "\u001b[1;31mIndexError\u001b[0m: list index out of range"
     ]
    }
   ],
   "source": [
    "        \n",
    "#### MAIN ####\n",
    "for Animal_index, CurrentAnimal in enumerate(Animal_ID):\n",
    "    if Animal_index > 2:\n",
    "            \n",
    "        display(HTML(f\"<b>Processing data for: {CurrentAnimal}</b>\"))\n",
    "        \n",
    "        #Load Behavioural data:\n",
    "        Behav_data, Sessions,Path,FileDates = Import_EPHYS_Bpod_DataFiles(main_paths[Animal_index],Animal_ephys_dates[Animal_index])\n",
    "        \n",
    "        Processed = ('')\n",
    "        Skipped = ('')\n",
    "\n",
    "\n",
    "        for Session in tqdm(range(0, Sessions)):\n",
    "\n",
    "            print(Session)\n",
    "\n",
    "            filedate = FileDates[Session] + '_' + str(Behav_data[Session]['__header__'])[-25:-22]\n",
    "\n",
    "            if Session < 10:\n",
    "                Save_path = (Animal_save_paths[Animal_index][Session] + r'\\\\'+ r'\\behav_sync\\2_task\\Preprocessed' + r'\\\\0' + str(Session) + '_' + filedate)\n",
    "            else:\n",
    "                Save_path = (Animal_save_paths[Animal_index][Session] + r'\\\\' + r'\\behav_sync\\2_task\\Preprocessed' + r'\\\\' + str(Session) + '_' + filedate)\n",
    "                \n",
    "                \n",
    "            print(Save_path)\n",
    "\n",
    "            # see if dir exists already then use bool logic to detemrine if it needs to be processed or not\n",
    "            Process = check_and_create_directory(Save_path, Replace)\n",
    "\n",
    "            if Process == True:\n",
    "            \n",
    "                #Convert to python friendly format:\n",
    "                convert_nested_structs(Behav_data[Session])\n",
    "\n",
    "            #    # Extract GUI info\n",
    "                Trial_settings = todict(Behav_data[Session]['SessionData']['TrialSettings'][0])\n",
    "                FinalRewardAmount = []\n",
    "                for item in Behav_data[Session]['SessionData']['SessionVariables']['TLevel']:\n",
    "                    TLevel = item\n",
    "                    FinalRewardAmount = FinalRewardAmount + [Behav_data[Session]['SessionData']['SessionVariables']['TrainingLevels'][TLevel-1][4]]\n",
    "\n",
    "                # save out training levels on their own\n",
    "                filename = 'Preprocessed_TrainingLevels' \n",
    "                with open(Save_path + r'\\\\'+ filename, 'wb') as fp:\n",
    "                    pickle.dump(Behav_data[Session]['SessionData']['SessionVariables']['TLevel'], fp)\n",
    "\n",
    "                # save out led intensites and reward amounts on their own:\n",
    "                LED_Intensities = pd.DataFrame({'Port1':Behav_data[Session]['SessionData']['SessionVariables']['LEDIntensitys']['port1'],\n",
    "                                                'Port2':Behav_data[Session]['SessionData']['SessionVariables']['LEDIntensitys']['port2'],\n",
    "                                                'Port3':Behav_data[Session]['SessionData']['SessionVariables']['LEDIntensitys']['port3'],\n",
    "                                                'Port4':Behav_data[Session]['SessionData']['SessionVariables']['LEDIntensitys']['port4'],\n",
    "                                                'Port5':Behav_data[Session]['SessionData']['SessionVariables']['LEDIntensitys']['port5']})\n",
    "                LED_Intensities.to_csv(Save_path + '/Preprocessed_LED_Intensities.csv')\n",
    "                RewardAmounts = pd.DataFrame({'Port1':Behav_data[Session]['SessionData']['SessionVariables']['RewardAmount']['port1'],\n",
    "                                            'Port2':Behav_data[Session]['SessionData']['SessionVariables']['RewardAmount']['port2'],\n",
    "                                            'Port3':Behav_data[Session]['SessionData']['SessionVariables']['RewardAmount']['port3'],\n",
    "                                            'Port4':Behav_data[Session]['SessionData']['SessionVariables']['RewardAmount']['port4'],\n",
    "                                            'Port5':Behav_data[Session]['SessionData']['SessionVariables']['RewardAmount']['port5']})\n",
    "                RewardAmounts.to_csv(Save_path + '/Preprocessed_RewardAmounts.csv')\n",
    "\n",
    "\n",
    "                #Extract PortIn times for each port and check for errors (inside this function):\n",
    "                All_PortIn_Times,All_PortOut_Times,All_Port_references = extract_poke_times(Behav_data[Session])\n",
    "\n",
    "                #remove nans (times when part [in or out poke] of the event was dropped for some reason by bpod)\n",
    "                All_PortIn_Times_fixed,All_PortOut_Times_fixed ,All_Port_references_fixed = remove_dropped_in_events(All_PortIn_Times,All_PortOut_Times,All_Port_references)\n",
    "                \n",
    "                # Resort these in time:\n",
    "                All_PortIn_Times_sorted,All_PortOut_Times_sorted,All_Port_references_sorted = time_sort(All_PortIn_Times,All_PortOut_Times,All_Port_references)\n",
    "\n",
    "                #extract reward times:\n",
    "                Reward_ts = extract_reward_times(Behav_data[Session])\n",
    "                \n",
    "                # find reward inds and align rewarded ts to poke events:\n",
    "                Rewarded_event_inds = find_reward_inds(All_PortIn_Times_sorted,All_Port_references_sorted,Reward_ts)\n",
    "                Reward_ts = np.asarray(Reward_ts)\n",
    "                Reward_ts = Reward_ts[np.logical_not(np.isnan(Reward_ts))]\n",
    "                Reward_ts = list(Reward_ts)\n",
    "                Reward_ts_aligned = align_trigger_to_index(Reward_ts,Rewarded_event_inds,All_Port_references_sorted)\n",
    "\n",
    "                #extract trial start time stamps\n",
    "                Trial_start_ts = extract_trial_timestamps(Behav_data[Session])\n",
    "\n",
    "                #extract trial end times:\n",
    "                Trial_end_ts = extract_trial_end_times(Behav_data[Session])\n",
    "\n",
    "                #determine trial IDs\n",
    "                trial_id = determine_trial_id(All_PortIn_Times_sorted,Trial_end_ts)\n",
    "\n",
    "                # align trial start and end times to poke events\n",
    "                trialstart_index = find_trialstart_index(trial_id)\n",
    "                trial_start_ts_aligned = align_trial_start_end_timestamps(trial_id,trialstart_index,Trial_start_ts)\n",
    "                trial_end_ts_aligned = align_trial_start_end_timestamps(trial_id,trialstart_index,Trial_end_ts)\n",
    "\n",
    "                #determine LED and reward states for each trial and align them to trials:\n",
    "                IntermediateRewards = []\n",
    "                LED_intensities = []\n",
    "                for item in Behav_data[Session]['SessionData']['SessionVariables']['TLevel']:\n",
    "                    TLevel = item\n",
    "                    IntermediateRewards = IntermediateRewards + [list(Behav_data[Session]['SessionData']['SessionVariables']['TrainingLevels'][TLevel-1][0:4])]\n",
    "                    LED_intensities = LED_intensities + [list(Behav_data[Session]['SessionData']['SessionVariables']['TrainingLevels'][TLevel-1][6:10])]\n",
    "                aligned_LED_intensities = align_trial_start_end_timestamps(trial_id,trialstart_index,LED_intensities)\n",
    "                aligned_IntermediateRewards = align_trial_start_end_timestamps(trial_id,trialstart_index,IntermediateRewards)\n",
    "\n",
    "\n",
    "                Trial_start_Camera_Ts_aligned = ['temporary_spacer'] * len(trial_id)\n",
    "                Trial_end_Camera_Ts_aligned = ['temporary_spacer'] * len(trial_id)\n",
    "                First_poke_Camera_Ts_aligned = ['temporary_spacer'] * len(trial_id)\n",
    "\n",
    "                ## align Training level for each trial:\n",
    "                Training_Levels = align_opto_trials_to_dataframe(trial_id,Behav_data[Session]['SessionData']['SessionVariables']['TLevel'])\n",
    "\n",
    "                # make portin dataframe:\n",
    "                PortIn_df = pd.DataFrame(\n",
    "                    {'Trial_id' : trial_id,\n",
    "                    'Trial_Start' : trial_start_ts_aligned,\n",
    "                    'Port': All_Port_references_sorted,\n",
    "                    'PokeIn_Time': All_PortIn_Times_sorted,\n",
    "                    'PokeOut_Time': All_PortOut_Times_sorted,\n",
    "                    'Reward_Times': Reward_ts_aligned,\n",
    "                    'Trial_End' : trial_end_ts_aligned,\n",
    "                    'Port 2,3,4,5 LED intensities': aligned_LED_intensities,\n",
    "                    'Port 1,2,3,4 RewardAmount':aligned_IntermediateRewards,\n",
    "                    'BACK_Trial_Start_Camera_Time' : Trial_start_Camera_Ts_aligned,\n",
    "                    'BACK_Trial_End_Camera_Time' : Trial_end_Camera_Ts_aligned,\n",
    "                    'BACK_First_poke_Camera_Time' : First_poke_Camera_Ts_aligned,\n",
    "                    'TrainingLevel': Training_Levels})\n",
    "\n",
    "                #Save Data\n",
    "                PortIn_df.to_csv(Save_path +'/PreProcessed_RawPokeData.csv')\n"
   ]
  }
 ],
 "metadata": {
  "kernelspec": {
   "display_name": "base",
   "language": "python",
   "name": "python3"
  },
  "language_info": {
   "codemirror_mode": {
    "name": "ipython",
    "version": 3
   },
   "file_extension": ".py",
   "mimetype": "text/x-python",
   "name": "python",
   "nbconvert_exporter": "python",
   "pygments_lexer": "ipython3",
   "version": "3.12.3"
  }
 },
 "nbformat": 4,
 "nbformat_minor": 4
}
