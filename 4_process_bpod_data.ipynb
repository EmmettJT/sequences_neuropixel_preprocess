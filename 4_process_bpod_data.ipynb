{
 "cells": [
  {
   "cell_type": "markdown",
   "metadata": {},
   "source": [
    "# import"
   ]
  },
  {
   "cell_type": "code",
   "execution_count": 1,
   "metadata": {},
   "outputs": [],
   "source": [
    "## import functions from .py utils file: \n",
    "from Utilities.preprocessing import *\n",
    "import os\n",
    "from IPython.display import display, HTML\n",
    "from tqdm import tqdm \n",
    "\n"
   ]
  },
  {
   "cell_type": "markdown",
   "metadata": {},
   "source": [
    "# paths"
   ]
  },
  {
   "cell_type": "code",
   "execution_count": 37,
   "metadata": {},
   "outputs": [
    {
     "data": {
      "text/plain": [
       "['ap5lr_implant1',\n",
       " 'ap5L_implant1',\n",
       " 'ap5R_implant1',\n",
       " 'seq006_implant1',\n",
       " 'seq007_implant1',\n",
       " 'seq008_implant1']"
      ]
     },
     "execution_count": 37,
     "metadata": {},
     "output_type": "execute_result"
    }
   ],
   "source": [
    "InputPath = r\"Z:\\projects\\sequence_squad\\revision_data\\lars_recordings\\bpod_data\\\\\"\n",
    "# InputPath = r\"D:\\EPHYS_BPOD_data_example\\\\\"\n",
    "\n",
    "out_path_base = r\"Z:\\projects\\sequence_squad\\revision_data\\organised_data\\animals\\\\\"\n",
    "\n",
    "Replace = True\n",
    "\n"
   ]
  },
  {
   "cell_type": "markdown",
   "metadata": {},
   "source": [
    "# set paths"
   ]
  },
  {
   "cell_type": "code",
   "execution_count": 98,
   "metadata": {},
   "outputs": [
    {
     "name": "stdout",
     "output_type": "stream",
     "text": [
      "ap5lr_implant1\n",
      "ap5lr_implant1\n",
      "ap5lr_implant1\n",
      "ap5lr_implant1\n",
      "ap5L_implant1\n",
      "ap5R_implant1\n",
      "seq006_implant1\n",
      "ap5lr_implant1\n",
      "ap5L_implant1\n",
      "ap5R_implant1\n",
      "seq006_implant1\n",
      "seq007_implant1\n",
      "ap5lr_implant1\n",
      "ap5L_implant1\n",
      "ap5R_implant1\n",
      "seq006_implant1\n",
      "seq007_implant1\n",
      "seq008_implant1\n",
      "ap5lr_implant1\n",
      "ap5L_implant1\n",
      "ap5R_implant1\n",
      "seq006_implant1\n",
      "seq007_implant1\n",
      "seq008_implant1\n"
     ]
    }
   ],
   "source": [
    "\n",
    "# find main paths for the animals\n",
    "main_paths = []\n",
    "Animal_ID = []\n",
    "Animal_save_paths = []\n",
    "Animal_bpod_save_paths = []\n",
    "Animal_ephys_dates = []\n",
    "for mouse in os.listdir(InputPath):\n",
    "    if not mouse == 'FakeSubject':\n",
    "        Animal_ID += [mouse]\n",
    "        main_paths+=[os.path.join(InputPath,mouse,r'Sequence_Automated','Session Data//')]\n",
    "        # find dates that match an ephys recording \n",
    "        for animal_file in os.listdir(out_path_base):\n",
    "            print(animal_file)\n",
    "            # for seq00 animals\n",
    "            if mouse.lower() in animal_file:\n",
    "                recordings = os.listdir(os.path.join(out_path_base,animal_file))\n",
    "                ephys_dates = list(recording.split('_')[-1] for recording in recordings)\n",
    "                save_paths = list(os.path.join(out_path_base,animal_file,recording) for recording in recordings)\n",
    "                break\n",
    "                ## extract date from recordings\n",
    "           \n",
    "            elif 'ap5' in mouse.lower():\n",
    "                if 'lr' in mouse.lower():\n",
    "                    recordings = os.listdir(os.path.join(out_path_base,'ap5lr_implant1'))\n",
    "                    ephys_dates = list(recording.split('_')[-1] for recording in recordings)\n",
    "                    save_paths = list(os.path.join(out_path_base,animal_file,recording) for recording in recordings)\n",
    "                    break\n",
    "                elif 'L' in mouse:\n",
    "                    recordings = os.listdir(os.path.join(out_path_base,'ap5L_implant1'))\n",
    "                    ephys_dates = list(recording.split('_')[-1] for recording in recordings)\n",
    "                    save_paths = list(os.path.join(out_path_base,animal_file,recording) for recording in recordings)\n",
    "                    break\n",
    "                elif 'R' in mouse:\n",
    "                    recordings = os.listdir(os.path.join(out_path_base,'ap5R_implant1'))\n",
    "                    ephys_dates = list(recording.split('_')[-1] for recording in recordings)\n",
    "                    save_paths = list(os.path.join(out_path_base,animal_file,recording) for recording in recordings)\n",
    "                    break\n",
    "\n",
    "       \n",
    "        # create full save paths    \n",
    "        full_save_paths = []\n",
    "        for save_path in save_paths:\n",
    "            new_path = os.path.join(save_path,r'behav_sync/2_task/')\n",
    "            # if not os.path.isdir(new_path):\n",
    "            #     os.makedirs(new_path)\n",
    "            full_save_paths+=[new_path]\n",
    "        Animal_bpod_save_paths += [full_save_paths]\n",
    "        Animal_save_paths += [save_paths]\n",
    "        Animal_ephys_dates += [ephys_dates]\n",
    "    \n",
    "      \n"
   ]
  },
  {
   "cell_type": "code",
   "execution_count": 99,
   "metadata": {},
   "outputs": [
    {
     "data": {
      "text/plain": [
       "['ap5lr_implant1',\n",
       " 'ap5L_implant1',\n",
       " 'ap5R_implant1',\n",
       " 'seq006_implant1',\n",
       " 'seq007_implant1',\n",
       " 'seq008_implant1']"
      ]
     },
     "execution_count": 99,
     "metadata": {},
     "output_type": "execute_result"
    }
   ],
   "source": [
    "os.listdir(out_path_base)"
   ]
  },
  {
   "cell_type": "code",
   "execution_count": 95,
   "metadata": {},
   "outputs": [
    {
     "data": {
      "text/plain": [
       "'seq008_implant1'"
      ]
     },
     "execution_count": 95,
     "metadata": {},
     "output_type": "execute_result"
    }
   ],
   "source": [
    "animal_file"
   ]
  },
  {
   "cell_type": "code",
   "execution_count": 94,
   "metadata": {},
   "outputs": [
    {
     "data": {
      "text/plain": [
       "[['Z:\\\\projects\\\\sequence_squad\\\\revision_data\\\\organised_data\\\\animals\\\\\\\\ap5lr_implant1\\\\recording1_18-11-2024',\n",
       "  'Z:\\\\projects\\\\sequence_squad\\\\revision_data\\\\organised_data\\\\animals\\\\\\\\ap5lr_implant1\\\\recording2_19-11-2024'],\n",
       " ['Z:\\\\projects\\\\sequence_squad\\\\revision_data\\\\organised_data\\\\animals\\\\\\\\ap5lr_implant1\\\\recording1_16-11-2024',\n",
       "  'Z:\\\\projects\\\\sequence_squad\\\\revision_data\\\\organised_data\\\\animals\\\\\\\\ap5lr_implant1\\\\recording2_18-11-2024',\n",
       "  'Z:\\\\projects\\\\sequence_squad\\\\revision_data\\\\organised_data\\\\animals\\\\\\\\ap5lr_implant1\\\\recording3_19-11-2024',\n",
       "  'Z:\\\\projects\\\\sequence_squad\\\\revision_data\\\\organised_data\\\\animals\\\\\\\\ap5lr_implant1\\\\recording4_20-11-2024',\n",
       "  'Z:\\\\projects\\\\sequence_squad\\\\revision_data\\\\organised_data\\\\animals\\\\\\\\ap5lr_implant1\\\\recording5_21-11-2024',\n",
       "  'Z:\\\\projects\\\\sequence_squad\\\\revision_data\\\\organised_data\\\\animals\\\\\\\\ap5lr_implant1\\\\recording6_25-11-2024',\n",
       "  'Z:\\\\projects\\\\sequence_squad\\\\revision_data\\\\organised_data\\\\animals\\\\\\\\ap5lr_implant1\\\\recording7_26-11-2024'],\n",
       " ['Z:\\\\projects\\\\sequence_squad\\\\revision_data\\\\organised_data\\\\animals\\\\\\\\ap5lr_implant1\\\\recording1_15-11-2024'],\n",
       " ['Z:\\\\projects\\\\sequence_squad\\\\revision_data\\\\organised_data\\\\animals\\\\\\\\seq006_implant1\\\\recording10_27-11-2024',\n",
       "  'Z:\\\\projects\\\\sequence_squad\\\\revision_data\\\\organised_data\\\\animals\\\\\\\\seq006_implant1\\\\recording11_28-11-2024',\n",
       "  'Z:\\\\projects\\\\sequence_squad\\\\revision_data\\\\organised_data\\\\animals\\\\\\\\seq006_implant1\\\\recording1_15-11-2024',\n",
       "  'Z:\\\\projects\\\\sequence_squad\\\\revision_data\\\\organised_data\\\\animals\\\\\\\\seq006_implant1\\\\recording2_16-11-2024',\n",
       "  'Z:\\\\projects\\\\sequence_squad\\\\revision_data\\\\organised_data\\\\animals\\\\\\\\seq006_implant1\\\\recording3_18-11-2024',\n",
       "  'Z:\\\\projects\\\\sequence_squad\\\\revision_data\\\\organised_data\\\\animals\\\\\\\\seq006_implant1\\\\recording4_19-11-2024',\n",
       "  'Z:\\\\projects\\\\sequence_squad\\\\revision_data\\\\organised_data\\\\animals\\\\\\\\seq006_implant1\\\\recording5_20-11-2024',\n",
       "  'Z:\\\\projects\\\\sequence_squad\\\\revision_data\\\\organised_data\\\\animals\\\\\\\\seq006_implant1\\\\recording6_21-11-2024',\n",
       "  'Z:\\\\projects\\\\sequence_squad\\\\revision_data\\\\organised_data\\\\animals\\\\\\\\seq006_implant1\\\\recording7_22-11-2024',\n",
       "  'Z:\\\\projects\\\\sequence_squad\\\\revision_data\\\\organised_data\\\\animals\\\\\\\\seq006_implant1\\\\recording8_25-11-2024',\n",
       "  'Z:\\\\projects\\\\sequence_squad\\\\revision_data\\\\organised_data\\\\animals\\\\\\\\seq006_implant1\\\\recording9_26-11-2024'],\n",
       " ['Z:\\\\projects\\\\sequence_squad\\\\revision_data\\\\organised_data\\\\animals\\\\\\\\seq007_implant1\\\\recording1_18-11-2024',\n",
       "  'Z:\\\\projects\\\\sequence_squad\\\\revision_data\\\\organised_data\\\\animals\\\\\\\\seq007_implant1\\\\recording2_19-11-2024',\n",
       "  'Z:\\\\projects\\\\sequence_squad\\\\revision_data\\\\organised_data\\\\animals\\\\\\\\seq007_implant1\\\\recording3_20-11-2024',\n",
       "  'Z:\\\\projects\\\\sequence_squad\\\\revision_data\\\\organised_data\\\\animals\\\\\\\\seq007_implant1\\\\recording4_29-11-2024'],\n",
       " ['Z:\\\\projects\\\\sequence_squad\\\\revision_data\\\\organised_data\\\\animals\\\\\\\\seq008_implant1\\\\recording1_11-11-2024',\n",
       "  'Z:\\\\projects\\\\sequence_squad\\\\revision_data\\\\organised_data\\\\animals\\\\\\\\seq008_implant1\\\\recording2_12-11-2024',\n",
       "  'Z:\\\\projects\\\\sequence_squad\\\\revision_data\\\\organised_data\\\\animals\\\\\\\\seq008_implant1\\\\recording2_18-11-2024',\n",
       "  'Z:\\\\projects\\\\sequence_squad\\\\revision_data\\\\organised_data\\\\animals\\\\\\\\seq008_implant1\\\\recording3_13-11-2024',\n",
       "  'Z:\\\\projects\\\\sequence_squad\\\\revision_data\\\\organised_data\\\\animals\\\\\\\\seq008_implant1\\\\recording4_15-11-2024'],\n",
       " ['Z:\\\\projects\\\\sequence_squad\\\\revision_data\\\\organised_data\\\\animals\\\\\\\\seq008_implant1\\\\recording1_11-11-2024',\n",
       "  'Z:\\\\projects\\\\sequence_squad\\\\revision_data\\\\organised_data\\\\animals\\\\\\\\seq008_implant1\\\\recording2_12-11-2024',\n",
       "  'Z:\\\\projects\\\\sequence_squad\\\\revision_data\\\\organised_data\\\\animals\\\\\\\\seq008_implant1\\\\recording2_18-11-2024',\n",
       "  'Z:\\\\projects\\\\sequence_squad\\\\revision_data\\\\organised_data\\\\animals\\\\\\\\seq008_implant1\\\\recording3_13-11-2024',\n",
       "  'Z:\\\\projects\\\\sequence_squad\\\\revision_data\\\\organised_data\\\\animals\\\\\\\\seq008_implant1\\\\recording4_15-11-2024']]"
      ]
     },
     "execution_count": 94,
     "metadata": {},
     "output_type": "execute_result"
    }
   ],
   "source": [
    "Animal_save_paths"
   ]
  },
  {
   "cell_type": "code",
   "execution_count": 75,
   "metadata": {},
   "outputs": [
    {
     "data": {
      "text/plain": [
       "['recording1_15-11-2024']"
      ]
     },
     "execution_count": 75,
     "metadata": {},
     "output_type": "execute_result"
    }
   ],
   "source": [
    "os.listdir(os.path.join(out_path_base,'ap5lr_implant1'))"
   ]
  },
  {
   "cell_type": "code",
   "execution_count": 74,
   "metadata": {},
   "outputs": [
    {
     "data": {
      "text/plain": [
       "['recording1_18-11-2024', 'recording2_19-11-2024']"
      ]
     },
     "execution_count": 74,
     "metadata": {},
     "output_type": "execute_result"
    }
   ],
   "source": [
    "os.listdir(os.path.join(out_path_base,'ap5L_implant1'))"
   ]
  },
  {
   "cell_type": "code",
   "execution_count": 64,
   "metadata": {},
   "outputs": [
    {
     "data": {
      "text/plain": [
       "'seq008_implant1'"
      ]
     },
     "execution_count": 64,
     "metadata": {},
     "output_type": "execute_result"
    }
   ],
   "source": [
    "animal_file"
   ]
  },
  {
   "cell_type": "code",
   "execution_count": 59,
   "metadata": {},
   "outputs": [
    {
     "data": {
      "text/plain": [
       "'Z:\\\\projects\\\\sequence_squad\\\\revision_data\\\\organised_data\\\\animals\\\\\\\\seq008_implant1\\\\recording4_15-11-2024'"
      ]
     },
     "execution_count": 59,
     "metadata": {},
     "output_type": "execute_result"
    }
   ],
   "source": [
    "save_path"
   ]
  },
  {
   "cell_type": "code",
   "execution_count": 69,
   "metadata": {},
   "outputs": [
    {
     "data": {
      "text/plain": [
       "[['Z:\\\\projects\\\\sequence_squad\\\\revision_data\\\\organised_data\\\\animals\\\\\\\\ap5lr_implant1\\\\recording1_18-11-2024\\\\behav_sync/2_task/',\n",
       "  'Z:\\\\projects\\\\sequence_squad\\\\revision_data\\\\organised_data\\\\animals\\\\\\\\ap5lr_implant1\\\\recording2_19-11-2024\\\\behav_sync/2_task/'],\n",
       " ['Z:\\\\projects\\\\sequence_squad\\\\revision_data\\\\organised_data\\\\animals\\\\\\\\ap5lr_implant1\\\\recording1_16-11-2024\\\\behav_sync/2_task/',\n",
       "  'Z:\\\\projects\\\\sequence_squad\\\\revision_data\\\\organised_data\\\\animals\\\\\\\\ap5lr_implant1\\\\recording2_18-11-2024\\\\behav_sync/2_task/',\n",
       "  'Z:\\\\projects\\\\sequence_squad\\\\revision_data\\\\organised_data\\\\animals\\\\\\\\ap5lr_implant1\\\\recording3_19-11-2024\\\\behav_sync/2_task/',\n",
       "  'Z:\\\\projects\\\\sequence_squad\\\\revision_data\\\\organised_data\\\\animals\\\\\\\\ap5lr_implant1\\\\recording4_20-11-2024\\\\behav_sync/2_task/',\n",
       "  'Z:\\\\projects\\\\sequence_squad\\\\revision_data\\\\organised_data\\\\animals\\\\\\\\ap5lr_implant1\\\\recording5_21-11-2024\\\\behav_sync/2_task/',\n",
       "  'Z:\\\\projects\\\\sequence_squad\\\\revision_data\\\\organised_data\\\\animals\\\\\\\\ap5lr_implant1\\\\recording6_25-11-2024\\\\behav_sync/2_task/',\n",
       "  'Z:\\\\projects\\\\sequence_squad\\\\revision_data\\\\organised_data\\\\animals\\\\\\\\ap5lr_implant1\\\\recording7_26-11-2024\\\\behav_sync/2_task/'],\n",
       " ['Z:\\\\projects\\\\sequence_squad\\\\revision_data\\\\organised_data\\\\animals\\\\\\\\ap5lr_implant1\\\\recording1_15-11-2024\\\\behav_sync/2_task/'],\n",
       " ['Z:\\\\projects\\\\sequence_squad\\\\revision_data\\\\organised_data\\\\animals\\\\\\\\seq006_implant1\\\\recording10_27-11-2024\\\\behav_sync/2_task/',\n",
       "  'Z:\\\\projects\\\\sequence_squad\\\\revision_data\\\\organised_data\\\\animals\\\\\\\\seq006_implant1\\\\recording11_28-11-2024\\\\behav_sync/2_task/',\n",
       "  'Z:\\\\projects\\\\sequence_squad\\\\revision_data\\\\organised_data\\\\animals\\\\\\\\seq006_implant1\\\\recording1_15-11-2024\\\\behav_sync/2_task/',\n",
       "  'Z:\\\\projects\\\\sequence_squad\\\\revision_data\\\\organised_data\\\\animals\\\\\\\\seq006_implant1\\\\recording2_16-11-2024\\\\behav_sync/2_task/',\n",
       "  'Z:\\\\projects\\\\sequence_squad\\\\revision_data\\\\organised_data\\\\animals\\\\\\\\seq006_implant1\\\\recording3_18-11-2024\\\\behav_sync/2_task/',\n",
       "  'Z:\\\\projects\\\\sequence_squad\\\\revision_data\\\\organised_data\\\\animals\\\\\\\\seq006_implant1\\\\recording4_19-11-2024\\\\behav_sync/2_task/',\n",
       "  'Z:\\\\projects\\\\sequence_squad\\\\revision_data\\\\organised_data\\\\animals\\\\\\\\seq006_implant1\\\\recording5_20-11-2024\\\\behav_sync/2_task/',\n",
       "  'Z:\\\\projects\\\\sequence_squad\\\\revision_data\\\\organised_data\\\\animals\\\\\\\\seq006_implant1\\\\recording6_21-11-2024\\\\behav_sync/2_task/',\n",
       "  'Z:\\\\projects\\\\sequence_squad\\\\revision_data\\\\organised_data\\\\animals\\\\\\\\seq006_implant1\\\\recording7_22-11-2024\\\\behav_sync/2_task/',\n",
       "  'Z:\\\\projects\\\\sequence_squad\\\\revision_data\\\\organised_data\\\\animals\\\\\\\\seq006_implant1\\\\recording8_25-11-2024\\\\behav_sync/2_task/',\n",
       "  'Z:\\\\projects\\\\sequence_squad\\\\revision_data\\\\organised_data\\\\animals\\\\\\\\seq006_implant1\\\\recording9_26-11-2024\\\\behav_sync/2_task/'],\n",
       " ['Z:\\\\projects\\\\sequence_squad\\\\revision_data\\\\organised_data\\\\animals\\\\\\\\seq007_implant1\\\\recording1_18-11-2024\\\\behav_sync/2_task/',\n",
       "  'Z:\\\\projects\\\\sequence_squad\\\\revision_data\\\\organised_data\\\\animals\\\\\\\\seq007_implant1\\\\recording2_19-11-2024\\\\behav_sync/2_task/',\n",
       "  'Z:\\\\projects\\\\sequence_squad\\\\revision_data\\\\organised_data\\\\animals\\\\\\\\seq007_implant1\\\\recording3_20-11-2024\\\\behav_sync/2_task/',\n",
       "  'Z:\\\\projects\\\\sequence_squad\\\\revision_data\\\\organised_data\\\\animals\\\\\\\\seq007_implant1\\\\recording4_29-11-2024\\\\behav_sync/2_task/'],\n",
       " ['Z:\\\\projects\\\\sequence_squad\\\\revision_data\\\\organised_data\\\\animals\\\\\\\\seq008_implant1\\\\recording1_11-11-2024\\\\behav_sync/2_task/',\n",
       "  'Z:\\\\projects\\\\sequence_squad\\\\revision_data\\\\organised_data\\\\animals\\\\\\\\seq008_implant1\\\\recording2_12-11-2024\\\\behav_sync/2_task/',\n",
       "  'Z:\\\\projects\\\\sequence_squad\\\\revision_data\\\\organised_data\\\\animals\\\\\\\\seq008_implant1\\\\recording2_18-11-2024\\\\behav_sync/2_task/',\n",
       "  'Z:\\\\projects\\\\sequence_squad\\\\revision_data\\\\organised_data\\\\animals\\\\\\\\seq008_implant1\\\\recording3_13-11-2024\\\\behav_sync/2_task/',\n",
       "  'Z:\\\\projects\\\\sequence_squad\\\\revision_data\\\\organised_data\\\\animals\\\\\\\\seq008_implant1\\\\recording4_15-11-2024\\\\behav_sync/2_task/'],\n",
       " ['Z:\\\\projects\\\\sequence_squad\\\\revision_data\\\\organised_data\\\\animals\\\\\\\\seq008_implant1\\\\recording1_11-11-2024\\\\behav_sync/2_task/',\n",
       "  'Z:\\\\projects\\\\sequence_squad\\\\revision_data\\\\organised_data\\\\animals\\\\\\\\seq008_implant1\\\\recording2_12-11-2024\\\\behav_sync/2_task/',\n",
       "  'Z:\\\\projects\\\\sequence_squad\\\\revision_data\\\\organised_data\\\\animals\\\\\\\\seq008_implant1\\\\recording2_18-11-2024\\\\behav_sync/2_task/',\n",
       "  'Z:\\\\projects\\\\sequence_squad\\\\revision_data\\\\organised_data\\\\animals\\\\\\\\seq008_implant1\\\\recording3_13-11-2024\\\\behav_sync/2_task/',\n",
       "  'Z:\\\\projects\\\\sequence_squad\\\\revision_data\\\\organised_data\\\\animals\\\\\\\\seq008_implant1\\\\recording4_15-11-2024\\\\behav_sync/2_task/']]"
      ]
     },
     "execution_count": 69,
     "metadata": {},
     "output_type": "execute_result"
    }
   ],
   "source": [
    "Animal_bpod_save_paths"
   ]
  },
  {
   "cell_type": "code",
   "execution_count": 50,
   "metadata": {},
   "outputs": [
    {
     "data": {
      "text/plain": [
       "['AP5_1_L',\n",
       " 'AP5_2_R',\n",
       " 'AP5_3_LR',\n",
       " 'FakeSubject',\n",
       " 'SEQ006',\n",
       " 'SEQ007',\n",
       " 'SEQ008',\n",
       " 'SP156']"
      ]
     },
     "execution_count": 50,
     "metadata": {},
     "output_type": "execute_result"
    }
   ],
   "source": [
    " os.listdir(InputPath)"
   ]
  },
  {
   "cell_type": "code",
   "execution_count": 49,
   "metadata": {},
   "outputs": [
    {
     "data": {
      "text/plain": [
       "['ap5lr_implant1',\n",
       " 'ap5L_implant1',\n",
       " 'ap5R_implant1',\n",
       " 'seq006_implant1',\n",
       " 'seq007_implant1',\n",
       " 'seq008_implant1']"
      ]
     },
     "execution_count": 49,
     "metadata": {},
     "output_type": "execute_result"
    }
   ],
   "source": [
    "os.listdir(out_path_base)"
   ]
  },
  {
   "cell_type": "code",
   "execution_count": 48,
   "metadata": {},
   "outputs": [
    {
     "data": {
      "text/plain": [
       "['AP5_1_L',\n",
       " 'AP5_2_R',\n",
       " 'AP5_3_LR',\n",
       " 'FakeSubject',\n",
       " 'SEQ006',\n",
       " 'SEQ007',\n",
       " 'SEQ008',\n",
       " 'SP156']"
      ]
     },
     "execution_count": 48,
     "metadata": {},
     "output_type": "execute_result"
    }
   ],
   "source": [
    "os.listdir(InputPath)"
   ]
  },
  {
   "cell_type": "code",
   "execution_count": 43,
   "metadata": {},
   "outputs": [
    {
     "data": {
      "text/plain": [
       "['Z:\\\\projects\\\\sequence_squad\\\\revision_data\\\\organised_data\\\\animals\\\\\\\\seq008_implant1\\\\recording1_11-11-2024',\n",
       " 'Z:\\\\projects\\\\sequence_squad\\\\revision_data\\\\organised_data\\\\animals\\\\\\\\seq008_implant1\\\\recording2_12-11-2024',\n",
       " 'Z:\\\\projects\\\\sequence_squad\\\\revision_data\\\\organised_data\\\\animals\\\\\\\\seq008_implant1\\\\recording2_18-11-2024',\n",
       " 'Z:\\\\projects\\\\sequence_squad\\\\revision_data\\\\organised_data\\\\animals\\\\\\\\seq008_implant1\\\\recording3_13-11-2024',\n",
       " 'Z:\\\\projects\\\\sequence_squad\\\\revision_data\\\\organised_data\\\\animals\\\\\\\\seq008_implant1\\\\recording4_15-11-2024']"
      ]
     },
     "execution_count": 43,
     "metadata": {},
     "output_type": "execute_result"
    }
   ],
   "source": [
    "save_paths"
   ]
  },
  {
   "cell_type": "code",
   "execution_count": 40,
   "metadata": {},
   "outputs": [
    {
     "data": {
      "text/plain": [
       "[['18-11-2024', '19-11-2024'],\n",
       " ['16-11-2024',\n",
       "  '18-11-2024',\n",
       "  '19-11-2024',\n",
       "  '20-11-2024',\n",
       "  '21-11-2024',\n",
       "  '25-11-2024',\n",
       "  '26-11-2024'],\n",
       " ['15-11-2024'],\n",
       " ['27-11-2024',\n",
       "  '28-11-2024',\n",
       "  '15-11-2024',\n",
       "  '16-11-2024',\n",
       "  '18-11-2024',\n",
       "  '19-11-2024',\n",
       "  '20-11-2024',\n",
       "  '21-11-2024',\n",
       "  '22-11-2024',\n",
       "  '25-11-2024',\n",
       "  '26-11-2024'],\n",
       " ['18-11-2024', '19-11-2024', '20-11-2024', '29-11-2024'],\n",
       " ['11-11-2024',\n",
       "  '15-11-2024',\n",
       "  '16-11-2024',\n",
       "  '18-11-2024',\n",
       "  '12-11-2024',\n",
       "  '18-11-2024',\n",
       "  '19-11-2024',\n",
       "  '13-11-2024',\n",
       "  '19-11-2024',\n",
       "  '15-11-2024',\n",
       "  '20-11-2024',\n",
       "  '21-11-2024',\n",
       "  '25-11-2024',\n",
       "  '26-11-2024'],\n",
       " ['11-11-2024',\n",
       "  '15-11-2024',\n",
       "  '16-11-2024',\n",
       "  '18-11-2024',\n",
       "  '12-11-2024',\n",
       "  '18-11-2024',\n",
       "  '19-11-2024',\n",
       "  '13-11-2024',\n",
       "  '19-11-2024',\n",
       "  '15-11-2024',\n",
       "  '20-11-2024',\n",
       "  '21-11-2024',\n",
       "  '25-11-2024',\n",
       "  '26-11-2024']]"
      ]
     },
     "execution_count": 40,
     "metadata": {},
     "output_type": "execute_result"
    }
   ],
   "source": [
    "Animal_ephys_dates"
   ]
  },
  {
   "cell_type": "code",
   "execution_count": 7,
   "metadata": {},
   "outputs": [
    {
     "data": {
      "text/html": [
       "<b>Processing data for: AP5_1_L</b>"
      ],
      "text/plain": [
       "<IPython.core.display.HTML object>"
      ]
     },
     "metadata": {},
     "output_type": "display_data"
    },
    {
     "name": "stdout",
     "output_type": "stream",
     "text": [
      "AP5_1_L_Sequence_Automated_20241118_152808.mat\n",
      "AP5_1_L_Sequence_Automated_20241119_161252.mat\n",
      "duplicate date\n",
      "replacing with...\n",
      "AP5_1_L_Sequence_Automated_20241119_163545.mat\n"
     ]
    },
    {
     "name": "stderr",
     "output_type": "stream",
     "text": [
      "  0%|                                                                                                 | 0/2 [00:00<?, ?it/s]"
     ]
    },
    {
     "name": "stdout",
     "output_type": "stream",
     "text": [
      "0\n",
      "Z:\\projects\\sequence_squad\\revision_data\\organised_data\\animals\\\\seq008_implant1\\recording1_18-11-2024\\\\\\behav_sync\\2_task\\Preprocessed\\\\00_20241118_152808_Mon\n"
     ]
    },
    {
     "name": "stderr",
     "output_type": "stream",
     "text": [
      " 50%|████████████████████████████████████████████▌                                            | 1/2 [00:00<00:00,  4.33it/s]"
     ]
    },
    {
     "name": "stdout",
     "output_type": "stream",
     "text": [
      "1\n",
      "Z:\\projects\\sequence_squad\\revision_data\\organised_data\\animals\\\\seq008_implant1\\recording2_19-11-2024\\\\\\behav_sync\\2_task\\Preprocessed\\\\01_20241119_163545_Tue\n"
     ]
    },
    {
     "name": "stderr",
     "output_type": "stream",
     "text": [
      "100%|█████████████████████████████████████████████████████████████████████████████████████████| 2/2 [00:00<00:00,  3.92it/s]\n"
     ]
    },
    {
     "data": {
      "text/html": [
       "<b>Processing data for: AP5_2_R</b>"
      ],
      "text/plain": [
       "<IPython.core.display.HTML object>"
      ]
     },
     "metadata": {},
     "output_type": "display_data"
    },
    {
     "name": "stdout",
     "output_type": "stream",
     "text": [
      "AP5_2_R_Sequence_Automated_20241116_135315.mat\n",
      "AP5_2_R_Sequence_Automated_20241118_102301.mat\n",
      "AP5_2_R_Sequence_Automated_20241119_110321.mat\n",
      "AP5_2_R_Sequence_Automated_20241120_105055.mat\n",
      "AP5_2_R_Sequence_Automated_20241121_105518.mat\n",
      "AP5_2_R_Sequence_Automated_20241125_112101.mat\n",
      "AP5_2_R_Sequence_Automated_20241126_111955.mat\n"
     ]
    },
    {
     "ename": "KeyboardInterrupt",
     "evalue": "",
     "output_type": "error",
     "traceback": [
      "\u001b[1;31m---------------------------------------------------------------------------\u001b[0m",
      "\u001b[1;31mKeyboardInterrupt\u001b[0m                         Traceback (most recent call last)",
      "Cell \u001b[1;32mIn[7], line 6\u001b[0m\n\u001b[0;32m      3\u001b[0m display(HTML(\u001b[38;5;124mf\u001b[39m\u001b[38;5;124m\"\u001b[39m\u001b[38;5;124m<b>Processing data for: \u001b[39m\u001b[38;5;132;01m{\u001b[39;00mCurrentAnimal\u001b[38;5;132;01m}\u001b[39;00m\u001b[38;5;124m</b>\u001b[39m\u001b[38;5;124m\"\u001b[39m))\n\u001b[0;32m      5\u001b[0m \u001b[38;5;66;03m#Load Behavioural data:\u001b[39;00m\n\u001b[1;32m----> 6\u001b[0m Behav_data, Sessions,Path,FileDates \u001b[38;5;241m=\u001b[39m \u001b[43mImport_EPHYS_Bpod_DataFiles\u001b[49m\u001b[43m(\u001b[49m\u001b[43mmain_paths\u001b[49m\u001b[43m[\u001b[49m\u001b[43mAnimal_index\u001b[49m\u001b[43m]\u001b[49m\u001b[43m,\u001b[49m\u001b[43mAnimal_ephys_dates\u001b[49m\u001b[43m[\u001b[49m\u001b[43mAnimal_index\u001b[49m\u001b[43m]\u001b[49m\u001b[43m)\u001b[49m\n\u001b[0;32m      8\u001b[0m Processed \u001b[38;5;241m=\u001b[39m (\u001b[38;5;124m'\u001b[39m\u001b[38;5;124m'\u001b[39m)\n\u001b[0;32m      9\u001b[0m Skipped \u001b[38;5;241m=\u001b[39m (\u001b[38;5;124m'\u001b[39m\u001b[38;5;124m'\u001b[39m)\n",
      "File \u001b[1;32m~\\Documents\\neuropixel_preprocess_sequences\\Utilities\\preprocessing.py:648\u001b[0m, in \u001b[0;36mImport_EPHYS_Bpod_DataFiles\u001b[1;34m(InputPath, ephys_dates)\u001b[0m\n\u001b[0;32m    646\u001b[0m Sessions \u001b[38;5;241m=\u001b[39m \u001b[38;5;241m0\u001b[39m \n\u001b[0;32m    647\u001b[0m \u001b[38;5;28;01mfor\u001b[39;00m file \u001b[38;5;129;01min\u001b[39;00m to_process: \n\u001b[1;32m--> 648\u001b[0m     Current_file \u001b[38;5;241m=\u001b[39m \u001b[43mloadmat\u001b[49m\u001b[43m(\u001b[49m\u001b[43mInputPath\u001b[49m\u001b[43m \u001b[49m\u001b[38;5;241;43m+\u001b[39;49m\u001b[43m \u001b[49m\u001b[43mfile\u001b[49m\u001b[43m)\u001b[49m\n\u001b[0;32m    649\u001b[0m     Behav_Data[Sessions] \u001b[38;5;241m=\u001b[39m Current_file\n\u001b[0;32m    650\u001b[0m     Sessions \u001b[38;5;241m=\u001b[39m Sessions \u001b[38;5;241m+\u001b[39m \u001b[38;5;241m1\u001b[39m\n",
      "File \u001b[1;32m~\\Documents\\neuropixel_preprocess_sequences\\Utilities\\preprocessing.py:47\u001b[0m, in \u001b[0;36mloadmat\u001b[1;34m(filename)\u001b[0m\n\u001b[0;32m     40\u001b[0m \u001b[38;5;28;01mdef\u001b[39;00m \u001b[38;5;21mloadmat\u001b[39m(filename):\n\u001b[0;32m     41\u001b[0m \u001b[38;5;250m    \u001b[39m\u001b[38;5;124;03m'''\u001b[39;00m\n\u001b[0;32m     42\u001b[0m \u001b[38;5;124;03m    this function should be called instead of direct spio.loadmat\u001b[39;00m\n\u001b[0;32m     43\u001b[0m \u001b[38;5;124;03m    as it cures the problem of not properly recovering python dictionaries\u001b[39;00m\n\u001b[0;32m     44\u001b[0m \u001b[38;5;124;03m    from mat files. It calls the function check keys to cure all entries\u001b[39;00m\n\u001b[0;32m     45\u001b[0m \u001b[38;5;124;03m    which are still mat-objects\u001b[39;00m\n\u001b[0;32m     46\u001b[0m \u001b[38;5;124;03m    '''\u001b[39;00m\n\u001b[1;32m---> 47\u001b[0m     data \u001b[38;5;241m=\u001b[39m \u001b[43mscipy\u001b[49m\u001b[38;5;241;43m.\u001b[39;49m\u001b[43mio\u001b[49m\u001b[38;5;241;43m.\u001b[39;49m\u001b[43mloadmat\u001b[49m\u001b[43m(\u001b[49m\u001b[43mfilename\u001b[49m\u001b[43m,\u001b[49m\u001b[43m \u001b[49m\u001b[43mstruct_as_record\u001b[49m\u001b[38;5;241;43m=\u001b[39;49m\u001b[38;5;28;43;01mFalse\u001b[39;49;00m\u001b[43m,\u001b[49m\u001b[43m \u001b[49m\u001b[43msqueeze_me\u001b[49m\u001b[38;5;241;43m=\u001b[39;49m\u001b[38;5;28;43;01mTrue\u001b[39;49;00m\u001b[43m)\u001b[49m\n\u001b[0;32m     48\u001b[0m     \u001b[38;5;28;01mreturn\u001b[39;00m check_keys(data)\n",
      "File \u001b[1;32m~\\anaconda3\\envs\\si_env\\Lib\\site-packages\\scipy\\io\\matlab\\_mio.py:227\u001b[0m, in \u001b[0;36mloadmat\u001b[1;34m(file_name, mdict, appendmat, **kwargs)\u001b[0m\n\u001b[0;32m    225\u001b[0m \u001b[38;5;28;01mwith\u001b[39;00m _open_file_context(file_name, appendmat) \u001b[38;5;28;01mas\u001b[39;00m f:\n\u001b[0;32m    226\u001b[0m     MR, _ \u001b[38;5;241m=\u001b[39m mat_reader_factory(f, \u001b[38;5;241m*\u001b[39m\u001b[38;5;241m*\u001b[39mkwargs)\n\u001b[1;32m--> 227\u001b[0m     matfile_dict \u001b[38;5;241m=\u001b[39m \u001b[43mMR\u001b[49m\u001b[38;5;241;43m.\u001b[39;49m\u001b[43mget_variables\u001b[49m\u001b[43m(\u001b[49m\u001b[43mvariable_names\u001b[49m\u001b[43m)\u001b[49m\n\u001b[0;32m    229\u001b[0m \u001b[38;5;28;01mif\u001b[39;00m mdict \u001b[38;5;129;01mis\u001b[39;00m \u001b[38;5;129;01mnot\u001b[39;00m \u001b[38;5;28;01mNone\u001b[39;00m:\n\u001b[0;32m    230\u001b[0m     mdict\u001b[38;5;241m.\u001b[39mupdate(matfile_dict)\n",
      "File \u001b[1;32m~\\anaconda3\\envs\\si_env\\Lib\\site-packages\\scipy\\io\\matlab\\_mio5.py:333\u001b[0m, in \u001b[0;36mMatFile5Reader.get_variables\u001b[1;34m(self, variable_names)\u001b[0m\n\u001b[0;32m    331\u001b[0m     \u001b[38;5;28;01mcontinue\u001b[39;00m\n\u001b[0;32m    332\u001b[0m \u001b[38;5;28;01mtry\u001b[39;00m:\n\u001b[1;32m--> 333\u001b[0m     res \u001b[38;5;241m=\u001b[39m \u001b[38;5;28;43mself\u001b[39;49m\u001b[38;5;241;43m.\u001b[39;49m\u001b[43mread_var_array\u001b[49m\u001b[43m(\u001b[49m\u001b[43mhdr\u001b[49m\u001b[43m,\u001b[49m\u001b[43m \u001b[49m\u001b[43mprocess\u001b[49m\u001b[43m)\u001b[49m\n\u001b[0;32m    334\u001b[0m \u001b[38;5;28;01mexcept\u001b[39;00m MatReadError \u001b[38;5;28;01mas\u001b[39;00m err:\n\u001b[0;32m    335\u001b[0m     warnings\u001b[38;5;241m.\u001b[39mwarn(\n\u001b[0;32m    336\u001b[0m         \u001b[38;5;124mf\u001b[39m\u001b[38;5;124m'\u001b[39m\u001b[38;5;124mUnreadable variable \u001b[39m\u001b[38;5;124m\"\u001b[39m\u001b[38;5;132;01m{\u001b[39;00mname\u001b[38;5;132;01m}\u001b[39;00m\u001b[38;5;124m\"\u001b[39m\u001b[38;5;124m, because \u001b[39m\u001b[38;5;124m\"\u001b[39m\u001b[38;5;132;01m{\u001b[39;00merr\u001b[38;5;132;01m}\u001b[39;00m\u001b[38;5;124m\"\u001b[39m\u001b[38;5;124m'\u001b[39m,\n\u001b[0;32m    337\u001b[0m         \u001b[38;5;167;01mWarning\u001b[39;00m, stacklevel\u001b[38;5;241m=\u001b[39m\u001b[38;5;241m2\u001b[39m)\n",
      "File \u001b[1;32m~\\anaconda3\\envs\\si_env\\Lib\\site-packages\\scipy\\io\\matlab\\_mio5.py:291\u001b[0m, in \u001b[0;36mMatFile5Reader.read_var_array\u001b[1;34m(self, header, process)\u001b[0m\n\u001b[0;32m    274\u001b[0m \u001b[38;5;28;01mdef\u001b[39;00m \u001b[38;5;21mread_var_array\u001b[39m(\u001b[38;5;28mself\u001b[39m, header, process\u001b[38;5;241m=\u001b[39m\u001b[38;5;28;01mTrue\u001b[39;00m):\n\u001b[0;32m    275\u001b[0m \u001b[38;5;250m    \u001b[39m\u001b[38;5;124;03m''' Read array, given `header`\u001b[39;00m\n\u001b[0;32m    276\u001b[0m \n\u001b[0;32m    277\u001b[0m \u001b[38;5;124;03m    Parameters\u001b[39;00m\n\u001b[1;32m   (...)\u001b[0m\n\u001b[0;32m    289\u001b[0m \u001b[38;5;124;03m       `process`.\u001b[39;00m\n\u001b[0;32m    290\u001b[0m \u001b[38;5;124;03m    '''\u001b[39;00m\n\u001b[1;32m--> 291\u001b[0m     \u001b[38;5;28;01mreturn\u001b[39;00m \u001b[38;5;28;43mself\u001b[39;49m\u001b[38;5;241;43m.\u001b[39;49m\u001b[43m_matrix_reader\u001b[49m\u001b[38;5;241;43m.\u001b[39;49m\u001b[43marray_from_header\u001b[49m\u001b[43m(\u001b[49m\u001b[43mheader\u001b[49m\u001b[43m,\u001b[49m\u001b[43m \u001b[49m\u001b[43mprocess\u001b[49m\u001b[43m)\u001b[49m\n",
      "File \u001b[1;32m_mio5_utils.pyx:665\u001b[0m, in \u001b[0;36mscipy.io.matlab._mio5_utils.VarReader5.array_from_header\u001b[1;34m()\u001b[0m\n",
      "File \u001b[1;32m_mio5_utils.pyx:712\u001b[0m, in \u001b[0;36mscipy.io.matlab._mio5_utils.VarReader5.array_from_header\u001b[1;34m()\u001b[0m\n",
      "File \u001b[1;32m_mio5_utils.pyx:965\u001b[0m, in \u001b[0;36mscipy.io.matlab._mio5_utils.VarReader5.read_struct\u001b[1;34m()\u001b[0m\n",
      "File \u001b[1;32m_mio5_utils.pyx:663\u001b[0m, in \u001b[0;36mscipy.io.matlab._mio5_utils.VarReader5.read_mi_matrix\u001b[1;34m()\u001b[0m\n",
      "File \u001b[1;32m_mio5_utils.pyx:712\u001b[0m, in \u001b[0;36mscipy.io.matlab._mio5_utils.VarReader5.array_from_header\u001b[1;34m()\u001b[0m\n",
      "File \u001b[1;32m_mio5_utils.pyx:965\u001b[0m, in \u001b[0;36mscipy.io.matlab._mio5_utils.VarReader5.read_struct\u001b[1;34m()\u001b[0m\n",
      "File \u001b[1;32m_mio5_utils.pyx:663\u001b[0m, in \u001b[0;36mscipy.io.matlab._mio5_utils.VarReader5.read_mi_matrix\u001b[1;34m()\u001b[0m\n",
      "File \u001b[1;32m_mio5_utils.pyx:712\u001b[0m, in \u001b[0;36mscipy.io.matlab._mio5_utils.VarReader5.array_from_header\u001b[1;34m()\u001b[0m\n",
      "File \u001b[1;32m_mio5_utils.pyx:963\u001b[0m, in \u001b[0;36mscipy.io.matlab._mio5_utils.VarReader5.read_struct\u001b[1;34m()\u001b[0m\n",
      "File \u001b[1;32m~\\anaconda3\\envs\\si_env\\Lib\\copy.py:66\u001b[0m, in \u001b[0;36mcopy\u001b[1;34m(x)\u001b[0m\n\u001b[0;32m     62\u001b[0m     PyStringMap \u001b[38;5;241m=\u001b[39m \u001b[38;5;28;01mNone\u001b[39;00m\n\u001b[0;32m     64\u001b[0m __all__ \u001b[38;5;241m=\u001b[39m [\u001b[38;5;124m\"\u001b[39m\u001b[38;5;124mError\u001b[39m\u001b[38;5;124m\"\u001b[39m, \u001b[38;5;124m\"\u001b[39m\u001b[38;5;124mcopy\u001b[39m\u001b[38;5;124m\"\u001b[39m, \u001b[38;5;124m\"\u001b[39m\u001b[38;5;124mdeepcopy\u001b[39m\u001b[38;5;124m\"\u001b[39m]\n\u001b[1;32m---> 66\u001b[0m \u001b[38;5;28;01mdef\u001b[39;00m \u001b[38;5;21mcopy\u001b[39m(x):\n\u001b[0;32m     67\u001b[0m \u001b[38;5;250m    \u001b[39m\u001b[38;5;124;03m\"\"\"Shallow copy operation on arbitrary Python objects.\u001b[39;00m\n\u001b[0;32m     68\u001b[0m \n\u001b[0;32m     69\u001b[0m \u001b[38;5;124;03m    See the module's __doc__ string for more info.\u001b[39;00m\n\u001b[0;32m     70\u001b[0m \u001b[38;5;124;03m    \"\"\"\u001b[39;00m\n\u001b[0;32m     72\u001b[0m     \u001b[38;5;28mcls\u001b[39m \u001b[38;5;241m=\u001b[39m \u001b[38;5;28mtype\u001b[39m(x)\n",
      "\u001b[1;31mKeyboardInterrupt\u001b[0m: "
     ]
    }
   ],
   "source": [
    "        \n",
    "#### MAIN ####\n",
    "for Animal_index, CurrentAnimal in enumerate(Animal_ID):\n",
    "    display(HTML(f\"<b>Processing data for: {CurrentAnimal}</b>\"))\n",
    "    \n",
    "    #Load Behavioural data:\n",
    "    Behav_data, Sessions,Path,FileDates = Import_EPHYS_Bpod_DataFiles(main_paths[Animal_index],Animal_ephys_dates[Animal_index])\n",
    "    \n",
    "    Processed = ('')\n",
    "    Skipped = ('')\n",
    "\n",
    "    for Session in tqdm(range(0, Sessions)):\n",
    "\n",
    "        print(Session)\n",
    "\n",
    "        filedate = FileDates[Session] + '_' + str(Behav_data[Session]['__header__'])[-25:-22]\n",
    "\n",
    "        if Session < 10:\n",
    "            Save_path = (Animal_save_paths[Animal_index][Session] + r'\\\\'+ r'\\behav_sync\\2_task\\Preprocessed' + r'\\\\0' + str(Session) + '_' + filedate)\n",
    "        else:\n",
    "            Save_path = (Animal_save_paths[Animal_index][Session] + r'\\\\' + r'\\behav_sync\\2_task\\Preprocessed' + r'\\\\' + str(Session) + '_' + filedate)\n",
    "            \n",
    "            \n",
    "        print(Save_path)\n",
    "\n",
    "        # see if dir exists already then use bool logic to detemrine if it needs to be processed or not\n",
    "        Process = check_and_create_directory(Save_path, Replace)\n",
    "\n",
    "        if Process == True:\n",
    "        \n",
    "            #Convert to python friendly format:\n",
    "            convert_nested_structs(Behav_data[Session])\n",
    "\n",
    "        #    # Extract GUI info\n",
    "            Trial_settings = todict(Behav_data[Session]['SessionData']['TrialSettings'][0])\n",
    "            FinalRewardAmount = []\n",
    "            for item in Behav_data[Session]['SessionData']['SessionVariables']['TLevel']:\n",
    "                TLevel = item\n",
    "                FinalRewardAmount = FinalRewardAmount + [Behav_data[Session]['SessionData']['SessionVariables']['TrainingLevels'][TLevel-1][4]]\n",
    "\n",
    "            # save out training levels on their own\n",
    "            filename = 'Preprocessed_TrainingLevels' \n",
    "            with open(Save_path + r'\\\\'+ filename, 'wb') as fp:\n",
    "                pickle.dump(Behav_data[Session]['SessionData']['SessionVariables']['TLevel'], fp)\n",
    "\n",
    "            # save out led intensites and reward amounts on their own:\n",
    "            LED_Intensities = pd.DataFrame({'Port1':Behav_data[Session]['SessionData']['SessionVariables']['LEDIntensitys']['port1'],\n",
    "                                            'Port2':Behav_data[Session]['SessionData']['SessionVariables']['LEDIntensitys']['port2'],\n",
    "                                            'Port3':Behav_data[Session]['SessionData']['SessionVariables']['LEDIntensitys']['port3'],\n",
    "                                            'Port4':Behav_data[Session]['SessionData']['SessionVariables']['LEDIntensitys']['port4'],\n",
    "                                            'Port5':Behav_data[Session]['SessionData']['SessionVariables']['LEDIntensitys']['port5']})\n",
    "            LED_Intensities.to_csv(Save_path + '/Preprocessed_LED_Intensities.csv')\n",
    "            RewardAmounts = pd.DataFrame({'Port1':Behav_data[Session]['SessionData']['SessionVariables']['RewardAmount']['port1'],\n",
    "                                           'Port2':Behav_data[Session]['SessionData']['SessionVariables']['RewardAmount']['port2'],\n",
    "                                           'Port3':Behav_data[Session]['SessionData']['SessionVariables']['RewardAmount']['port3'],\n",
    "                                           'Port4':Behav_data[Session]['SessionData']['SessionVariables']['RewardAmount']['port4'],\n",
    "                                           'Port5':Behav_data[Session]['SessionData']['SessionVariables']['RewardAmount']['port5']})\n",
    "            RewardAmounts.to_csv(Save_path + '/Preprocessed_RewardAmounts.csv')\n",
    "\n",
    "\n",
    "            #Extract PortIn times for each port and check for errors (inside this function):\n",
    "            All_PortIn_Times,All_PortOut_Times,All_Port_references = extract_poke_times(Behav_data[Session])\n",
    "\n",
    "            #remove nans (times when part [in or out poke] of the event was dropped for some reason by bpod)\n",
    "            All_PortIn_Times_fixed,All_PortOut_Times_fixed ,All_Port_references_fixed = remove_dropped_in_events(All_PortIn_Times,All_PortOut_Times,All_Port_references)\n",
    "            \n",
    "            # Resort these in time:\n",
    "            All_PortIn_Times_sorted,All_PortOut_Times_sorted,All_Port_references_sorted = time_sort(All_PortIn_Times,All_PortOut_Times,All_Port_references)\n",
    "\n",
    "            #extract reward times:\n",
    "            Reward_ts = extract_reward_times(Behav_data[Session])\n",
    "            \n",
    "            # find reward inds and align rewarded ts to poke events:\n",
    "            Rewarded_event_inds = find_reward_inds(All_PortIn_Times_sorted,All_Port_references_sorted,Reward_ts)\n",
    "            Reward_ts = np.asarray(Reward_ts)\n",
    "            Reward_ts = Reward_ts[np.logical_not(np.isnan(Reward_ts))]\n",
    "            Reward_ts = list(Reward_ts)\n",
    "            Reward_ts_aligned = align_trigger_to_index(Reward_ts,Rewarded_event_inds,All_Port_references_sorted)\n",
    "\n",
    "            #extract trial start time stamps\n",
    "            Trial_start_ts = extract_trial_timestamps(Behav_data[Session])\n",
    "\n",
    "            #extract trial end times:\n",
    "            Trial_end_ts = extract_trial_end_times(Behav_data[Session])\n",
    "\n",
    "            #determine trial IDs\n",
    "            trial_id = determine_trial_id(All_PortIn_Times_sorted,Trial_end_ts)\n",
    "\n",
    "            # align trial start and end times to poke events\n",
    "            trialstart_index = find_trialstart_index(trial_id)\n",
    "            trial_start_ts_aligned = align_trial_start_end_timestamps(trial_id,trialstart_index,Trial_start_ts)\n",
    "            trial_end_ts_aligned = align_trial_start_end_timestamps(trial_id,trialstart_index,Trial_end_ts)\n",
    "\n",
    "            #determine LED and reward states for each trial and align them to trials:\n",
    "            IntermediateRewards = []\n",
    "            LED_intensities = []\n",
    "            for item in Behav_data[Session]['SessionData']['SessionVariables']['TLevel']:\n",
    "                TLevel = item\n",
    "                IntermediateRewards = IntermediateRewards + [list(Behav_data[Session]['SessionData']['SessionVariables']['TrainingLevels'][TLevel-1][0:4])]\n",
    "                LED_intensities = LED_intensities + [list(Behav_data[Session]['SessionData']['SessionVariables']['TrainingLevels'][TLevel-1][6:10])]\n",
    "            aligned_LED_intensities = align_trial_start_end_timestamps(trial_id,trialstart_index,LED_intensities)\n",
    "            aligned_IntermediateRewards = align_trial_start_end_timestamps(trial_id,trialstart_index,IntermediateRewards)\n",
    "\n",
    "\n",
    "            Trial_start_Camera_Ts_aligned = ['temporary_spacer'] * len(trial_id)\n",
    "            Trial_end_Camera_Ts_aligned = ['temporary_spacer'] * len(trial_id)\n",
    "            First_poke_Camera_Ts_aligned = ['temporary_spacer'] * len(trial_id)\n",
    "\n",
    "            ## align Training level for each trial:\n",
    "            Training_Levels = align_opto_trials_to_dataframe(trial_id,Behav_data[Session]['SessionData']['SessionVariables']['TLevel'])\n",
    "\n",
    "            # make portin dataframe:\n",
    "            PortIn_df = pd.DataFrame(\n",
    "                {'Trial_id' : trial_id,\n",
    "                 'Trial_Start' : trial_start_ts_aligned,\n",
    "                 'Port': All_Port_references_sorted,\n",
    "                 'PokeIn_Time': All_PortIn_Times_sorted,\n",
    "                 'PokeOut_Time': All_PortOut_Times_sorted,\n",
    "                 'Reward_Times': Reward_ts_aligned,\n",
    "                 'Trial_End' : trial_end_ts_aligned,\n",
    "                 'Port 2,3,4,5 LED intensities': aligned_LED_intensities,\n",
    "                 'Port 1,2,3,4 RewardAmount':aligned_IntermediateRewards,\n",
    "                 'BACK_Trial_Start_Camera_Time' : Trial_start_Camera_Ts_aligned,\n",
    "                 'BACK_Trial_End_Camera_Time' : Trial_end_Camera_Ts_aligned,\n",
    "                 'BACK_First_poke_Camera_Time' : First_poke_Camera_Ts_aligned,\n",
    "                'TrainingLevel': Training_Levels})\n",
    "\n",
    "            #Save Data\n",
    "            PortIn_df.to_csv(Save_path +'/PreProcessed_RawPokeData.csv')\n"
   ]
  },
  {
   "cell_type": "code",
   "execution_count": 6,
   "metadata": {},
   "outputs": [
    {
     "data": {
      "text/plain": [
       "True"
      ]
     },
     "execution_count": 6,
     "metadata": {},
     "output_type": "execute_result"
    }
   ],
   "source": [
    "Process"
   ]
  },
  {
   "cell_type": "code",
   "execution_count": null,
   "metadata": {},
   "outputs": [],
   "source": []
  }
 ],
 "metadata": {
  "kernelspec": {
   "display_name": "Python 3 (ipykernel)",
   "language": "python",
   "name": "python3"
  },
  "language_info": {
   "codemirror_mode": {
    "name": "ipython",
    "version": 3
   },
   "file_extension": ".py",
   "mimetype": "text/x-python",
   "name": "python",
   "nbconvert_exporter": "python",
   "pygments_lexer": "ipython3",
   "version": "3.11.10"
  }
 },
 "nbformat": 4,
 "nbformat_minor": 4
}
