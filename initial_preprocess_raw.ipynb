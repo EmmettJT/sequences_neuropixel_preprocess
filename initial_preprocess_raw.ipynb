{
 "cells": [
  {
   "cell_type": "markdown",
   "id": "ff1a79bd",
   "metadata": {},
   "source": [
    "# import"
   ]
  },
  {
   "cell_type": "code",
   "execution_count": 1,
   "id": "0fe388cc-bff8-4adb-86d1-72b919a9fbf5",
   "metadata": {},
   "outputs": [],
   "source": [
    "import spikeinterface.full as si\n",
    "import numpy as np\n",
    "import matplotlib.pyplot as plt\n",
    "from pathlib import Path\n",
    "from probeinterface.plotting import plot_probe\n",
    "import os"
   ]
  },
  {
   "cell_type": "markdown",
   "id": "c797d127",
   "metadata": {},
   "source": [
    "# set paths and choose probe "
   ]
  },
  {
   "cell_type": "code",
   "execution_count": 5,
   "id": "207cce56",
   "metadata": {},
   "outputs": [
    {
     "data": {
      "text/plain": [
       "['Z:\\\\projects\\\\sequence_squad\\\\revision_data\\\\lars_recordings\\\\ephys\\\\\\\\ap5\\\\ap5R_2024-11-20_09-00-27_saline',\n",
       " 'Z:\\\\projects\\\\sequence_squad\\\\revision_data\\\\lars_recordings\\\\ephys\\\\\\\\dual_strd_hpc\\\\seq008_2024-11-11_14-46-19',\n",
       " 'Z:\\\\projects\\\\sequence_squad\\\\revision_data\\\\lars_recordings\\\\ephys\\\\\\\\dual_strd_hpc\\\\seq008_2024-11-12_12-58-20',\n",
       " 'Z:\\\\projects\\\\sequence_squad\\\\revision_data\\\\lars_recordings\\\\ephys\\\\\\\\dual_strd_hpc\\\\seq008_2024-11-13_09-11-02',\n",
       " 'Z:\\\\projects\\\\sequence_squad\\\\revision_data\\\\lars_recordings\\\\ephys\\\\\\\\dual_strd_hpc\\\\seq008_2024-11-15_14-05-31',\n",
       " 'Z:\\\\projects\\\\sequence_squad\\\\revision_data\\\\lars_recordings\\\\ephys\\\\\\\\learning\\\\ap5lr_2024-11-15_09-53-24',\n",
       " 'Z:\\\\projects\\\\sequence_squad\\\\revision_data\\\\lars_recordings\\\\ephys\\\\\\\\learning\\\\ap5L_2024-11-18_13-59-54',\n",
       " 'Z:\\\\projects\\\\sequence_squad\\\\revision_data\\\\lars_recordings\\\\ephys\\\\\\\\learning\\\\ap5L_2024-11-19_14-17-24',\n",
       " 'Z:\\\\projects\\\\sequence_squad\\\\revision_data\\\\lars_recordings\\\\ephys\\\\\\\\learning\\\\ap5r_2024-11-16_12-22-37',\n",
       " 'Z:\\\\projects\\\\sequence_squad\\\\revision_data\\\\lars_recordings\\\\ephys\\\\\\\\learning\\\\ap5r_2024-11-18_08-34-11',\n",
       " 'Z:\\\\projects\\\\sequence_squad\\\\revision_data\\\\lars_recordings\\\\ephys\\\\\\\\learning\\\\ap5R_2024-11-19_09-28-42',\n",
       " 'Z:\\\\projects\\\\sequence_squad\\\\revision_data\\\\lars_recordings\\\\ephys\\\\\\\\learning\\\\seq006_2024-11-15_09-42-15',\n",
       " 'Z:\\\\projects\\\\sequence_squad\\\\revision_data\\\\lars_recordings\\\\ephys\\\\\\\\learning\\\\seq006_2024-11-16_12-18-54',\n",
       " 'Z:\\\\projects\\\\sequence_squad\\\\revision_data\\\\lars_recordings\\\\ephys\\\\\\\\learning\\\\seq006_2024-11-18_13-10-16',\n",
       " 'Z:\\\\projects\\\\sequence_squad\\\\revision_data\\\\lars_recordings\\\\ephys\\\\\\\\learning\\\\seq006_2024-11-19_09-52-30',\n",
       " 'Z:\\\\projects\\\\sequence_squad\\\\revision_data\\\\lars_recordings\\\\ephys\\\\\\\\learning\\\\seq006_2024-11-20_09-04-54',\n",
       " 'Z:\\\\projects\\\\sequence_squad\\\\revision_data\\\\lars_recordings\\\\ephys\\\\\\\\learning\\\\seq007_2024-11-18_08-51-40',\n",
       " 'Z:\\\\projects\\\\sequence_squad\\\\revision_data\\\\lars_recordings\\\\ephys\\\\\\\\learning\\\\seq007_2024-11-19_14-14-27',\n",
       " 'Z:\\\\projects\\\\sequence_squad\\\\revision_data\\\\lars_recordings\\\\ephys\\\\\\\\learning\\\\seq007_2024-11-20_13-27-15']"
      ]
     },
     "execution_count": 5,
     "metadata": {},
     "output_type": "execute_result"
    }
   ],
   "source": [
    "\n",
    "path_ = r\"Z:\\projects\\sequence_squad\\revision_data\\lars_recordings\\ephys\\\\\"\n",
    "\n",
    "base_recording_paths = []\n",
    "for q in os.listdir(path_):\n",
    "    if not 'other_sessions' in q:\n",
    "        folder = os.path.join(path_,q)\n",
    "        for q in os.listdir(folder):\n",
    "            base_recording_paths+=[os.path.join(folder,q)]\n",
    "            \n",
    "base_recording_paths"
   ]
  },
  {
   "cell_type": "markdown",
   "id": "6dc4bd2b",
   "metadata": {},
   "source": [
    "# make folder structure"
   ]
  },
  {
   "cell_type": "code",
   "execution_count": 6,
   "id": "29fc6a8f",
   "metadata": {},
   "outputs": [
    {
     "name": "stdout",
     "output_type": "stream",
     "text": [
      "mouse file already exists\n",
      "recording folder already exists\n",
      "mouse file already exists\n",
      "recording folder already exists\n",
      "mouse file already exists\n",
      "recording folder already exists\n",
      "mouse file already exists\n",
      "recording folder already exists\n",
      "mouse file already exists\n",
      "recording folder already exists\n",
      "mouse file already exists\n",
      "recording folder already exists\n",
      "mouse file already exists\n",
      "recording folder already exists\n",
      "mouse file already exists\n",
      "recording folder already exists\n",
      "mouse file already exists\n",
      "recording folder already exists\n",
      "mouse file already exists\n",
      "recording folder already exists\n",
      "mouse file already exists\n",
      "recording folder already exists\n",
      "mouse file already exists\n",
      "recording folder already exists\n",
      "mouse file already exists\n",
      "recording folder already exists\n",
      "mouse file already exists\n",
      "recording folder already exists\n",
      "mouse file already exists\n",
      "recording folder already exists\n",
      "mouse file already exists\n",
      "recording folder already exists\n",
      "mouse file already exists\n",
      "recording folder already exists\n",
      "mouse file already exists\n",
      "recording folder already exists\n",
      "mouse file already exists\n",
      "recording folder already exists\n"
     ]
    }
   ],
   "source": [
    "all_recording_paths = []\n",
    "for i in range(len(base_recording_paths)):\n",
    "    \n",
    "    organised_path = r\"Z:\\projects\\sequence_squad\\revision_data\\organised_data\\animals\\\\\"\n",
    "\n",
    "    mouse_id = base_recording_paths[i].split('\\\\')[-1].split('_')[0]\n",
    "    date_ = base_recording_paths[i].split('\\\\')[-1].split('_')[1]\n",
    "    #reverse the date\n",
    "    date_ = '-'.join(date_.split('-')[::-1])\n",
    "\n",
    "    if not os.path.isdir(organised_path+mouse_id+'_implant1'):\n",
    "        print('adding mouse file')\n",
    "        os.makedirs(organised_path+mouse_id+'_implant1')\n",
    "    else:\n",
    "        print('mouse file already exists')\n",
    "        \n",
    "    #work out what rnum will be\n",
    "    make_folder = False\n",
    "    if len(os.listdir(organised_path+mouse_id+'_implant1\\\\')) == 0:\n",
    "        r_num = '1'\n",
    "        make_folder = True\n",
    "    else:\n",
    "        r_num = str(int(os.listdir(organised_path+mouse_id+'_implant1\\\\')[-1].split('_')[0][-1]) + 1)\n",
    "        for item in os.listdir(organised_path+mouse_id+'_implant1\\\\'):\n",
    "            if not date_ in item:\n",
    "                make_folder = True\n",
    "            else:\n",
    "                make_folder = False\n",
    "                r_num = item.split('_')[0][-1]\n",
    "                break\n",
    "        \n",
    "    # make recording dir\n",
    "    if make_folder == True:\n",
    "        print('making new recording folder')\n",
    "        recording_path = organised_path+mouse_id+'_implant1' + '\\\\recording' + r_num + '_' + date_ + '\\\\'\n",
    "        os.makedirs(recording_path)\n",
    "        # make folder structure \n",
    "        if not os.path.isdir(recording_path + 'ephys'):\n",
    "            os.makedirs(recording_path + 'ephys')\n",
    "        if not os.path.isdir(recording_path + 'video/tracking/'):\n",
    "            os.makedirs(recording_path + 'video/tracking/')\n",
    "        if not os.path.isdir(recording_path + 'behav_sync/'):\n",
    "            os.makedirs(recording_path + 'behav_sync/') \n",
    "            \n",
    "        all_recording_paths+=[recording_path + 'ephys']\n",
    "    else:\n",
    "        print('recording folder already exists')\n",
    "        recording_path = organised_path+mouse_id+'_implant1' + '\\\\recording' + r_num + '_' + date_ + '\\\\'\n",
    "        all_recording_paths+=[recording_path + 'ephys']\n",
    "            \n"
   ]
  },
  {
   "cell_type": "markdown",
   "id": "fb1f1919",
   "metadata": {},
   "source": [
    "# chose which data to process - ie. data that hasnt yet been processed - and create save paths"
   ]
  },
  {
   "cell_type": "code",
   "execution_count": 7,
   "id": "6d38f1b0",
   "metadata": {},
   "outputs": [],
   "source": [
    "\n",
    "process_base_paths  = []\n",
    "out_paths = []\n",
    "missing_probe = []\n",
    "for index,path in enumerate(all_recording_paths):\n",
    "    if not os.path.isdir(path+ '\\probeA\\kilosort4_output\\\\'):\n",
    "        # if no kilosort folder then add base path to process list\n",
    "        process_base_paths += [base_recording_paths[index]]\n",
    "        out_paths += [path]\n",
    "        missing_probe += ['A']\n",
    "\n",
    "    if not os.path.isdir(path+ '\\probeB\\kilosort4_output\\\\'):\n",
    "        # if no kilosort folder then add base path to process list\n",
    "        process_base_paths += [base_recording_paths[index]]\n",
    "        out_paths += [path]\n",
    "        missing_probe += ['B']"
   ]
  },
  {
   "cell_type": "markdown",
   "id": "888a03a3",
   "metadata": {},
   "source": [
    "# kilosort loop"
   ]
  },
  {
   "cell_type": "code",
   "execution_count": 57,
   "id": "3b06ef65-1681-43da-a1e4-cef3d4c79bd6",
   "metadata": {},
   "outputs": [
    {
     "name": "stdout",
     "output_type": "stream",
     "text": [
      "*********** PROCESSING: ***********\n",
      "Z:\\projects\\sequence_squad\\revision_data\\lars_recordings\\ephys\\\\ap5\\ap5R_2024-11-20_09-00-27_saline\n",
      "['Record Node 105#NI-DAQmx-102.PXIe-6341', 'Record Node 105#Neuropix-PXI-106.ProbeA-AP', 'Record Node 105#Neuropix-PXI-106.ProbeA-LFP']\n",
      "bad_channel_ids ['AP148' 'AP176' 'AP180' 'AP185' 'AP188' 'AP192' 'AP212' 'AP344']\n",
      "write_binary_recording \n",
      "n_jobs=8 - samples_per_chunk=30,000 - chunk_memory=21.51 MiB - total_memory=172.12 MiB - chunk_duration=1.00s\n"
     ]
    },
    {
     "data": {
      "application/vnd.jupyter.widget-view+json": {
       "model_id": "821ef395d3b34d8fba8336be03a31e51",
       "version_major": 2,
       "version_minor": 0
      },
      "text/plain": [
       "write_binary_recording:   0%|          | 0/17824 [00:00<?, ?it/s]"
      ]
     },
     "metadata": {},
     "output_type": "display_data"
    },
    {
     "name": "stderr",
     "output_type": "stream",
     "text": [
      "C:\\Users\\Emmett\\AppData\\Local\\Temp\\ipykernel_5668\\3903218223.py:93: DeprecationWarning: `output_folder` is deprecated and will be removed in version 0.103.0 Please use folder instead\n",
      "  sorting = si.run_sorter('kilosort4', rec, output_folder=out_path_object / '/kilosort4_output',\n",
      "INFO:kilosort.run_kilosort: \n",
      "INFO:kilosort.run_kilosort:Computing preprocessing variables.\n",
      "INFO:kilosort.run_kilosort:----------------------------------------\n",
      "INFO:kilosort.run_kilosort:N samples: 534713016\n",
      "INFO:kilosort.run_kilosort:N seconds: 17823.7672\n",
      "INFO:kilosort.run_kilosort:N batches: 8912\n",
      "INFO:kilosort.run_kilosort:Preprocessing filters computed in  248.75s; total  248.77s\n",
      "INFO:kilosort.run_kilosort: \n",
      "INFO:kilosort.run_kilosort:Resource usage after preprocessing\n",
      "INFO:kilosort.run_kilosort:********************************************************\n",
      "INFO:kilosort.run_kilosort:CPU usage:    60.80 %\n",
      "INFO:kilosort.run_kilosort:Memory:       10.79 %     |      6.87   /    63.71 GB\n",
      "INFO:kilosort.run_kilosort:------------------------------------------------------\n",
      "INFO:kilosort.run_kilosort:GPU usage:    `conda install pynvml` for GPU usage\n",
      "INFO:kilosort.run_kilosort:GPU memory:   25.34 %     |      2.79   /    11.00 GB\n",
      "INFO:kilosort.run_kilosort:Allocated:     0.08 %     |      0.01   /    11.00 GB\n",
      "INFO:kilosort.run_kilosort:Max alloc:    11.64 %     |      1.28   /    11.00 GB\n",
      "INFO:kilosort.run_kilosort:********************************************************\n",
      "INFO:kilosort.run_kilosort: \n",
      "INFO:kilosort.run_kilosort:Computing drift correction.\n",
      "INFO:kilosort.run_kilosort:----------------------------------------\n",
      "INFO:kilosort.spikedetect:Re-computing universal templates from data.\n",
      "INFO:kilosort.spikedetect:Number of universal templates: 1532\n",
      "INFO:kilosort.spikedetect:Detecting spikes...\n",
      "100%|██████████████████████████████████████████████████████████████████████████████████████████████████████████████████████████| 8912/8912 [2:30:43<00:00,  1.01s/it]\n",
      "INFO:kilosort.run_kilosort:drift computed in  9571.98s; total  9820.83s\n",
      "INFO:kilosort.run_kilosort: \n",
      "INFO:kilosort.run_kilosort:Resource usage after drift correction\n",
      "INFO:kilosort.run_kilosort:********************************************************\n",
      "INFO:kilosort.run_kilosort:CPU usage:    14.40 %\n",
      "INFO:kilosort.run_kilosort:Memory:       10.79 %     |      6.87   /    63.71 GB\n",
      "INFO:kilosort.run_kilosort:------------------------------------------------------\n",
      "INFO:kilosort.run_kilosort:GPU usage:    `conda install pynvml` for GPU usage\n",
      "INFO:kilosort.run_kilosort:GPU memory:   66.73 %     |      7.34   /    11.00 GB\n",
      "INFO:kilosort.run_kilosort:Allocated:     0.10 %     |      0.01   /    11.00 GB\n",
      "INFO:kilosort.run_kilosort:Max alloc:    30.01 %     |      3.30   /    11.00 GB\n",
      "INFO:kilosort.run_kilosort:********************************************************\n",
      "INFO:kilosort.run_kilosort: \n",
      "INFO:kilosort.run_kilosort:Extracting spikes using templates\n",
      "INFO:kilosort.run_kilosort:----------------------------------------\n",
      "INFO:kilosort.spikedetect:Re-computing universal templates from data.\n",
      "INFO:kilosort.spikedetect:Number of universal templates: 1532\n",
      "INFO:kilosort.spikedetect:Detecting spikes...\n",
      "100%|█████████████████████████████████████████████████████████████████████████████████| 8912/8912 [2:24:03<00:00,  1.03it/s]\n",
      "INFO:kilosort.run_kilosort:26638146 spikes extracted in  8897.45s; total  18724.51s\n",
      "INFO:kilosort.run_kilosort: \n",
      "INFO:kilosort.run_kilosort:First clustering\n",
      "INFO:kilosort.run_kilosort:----------------------------------------\n",
      "100%|█████████████████████████████████████████████████████████████████████████████████████| 96/96 [1:36:18<00:00, 60.20s/it]\n",
      "INFO:kilosort.run_kilosort:830 clusters found, in  5827.96s; total  24552.61s\n",
      "INFO:kilosort.run_kilosort: \n",
      "INFO:kilosort.run_kilosort:Extracting spikes using cluster waveforms\n",
      "INFO:kilosort.run_kilosort:----------------------------------------\n",
      "100%|█████████████████████████████████████████████████████████████████████████████████| 8912/8912 [5:23:11<00:00,  2.18s/it]\n",
      "INFO:kilosort.run_kilosort:39026676 spikes extracted in  20432.89s; total  44985.59s\n",
      "INFO:kilosort.run_kilosort: \n",
      "INFO:kilosort.run_kilosort:Resource usage after spike detection\n",
      "INFO:kilosort.run_kilosort:********************************************************\n",
      "INFO:kilosort.run_kilosort:CPU usage:    13.10 %\n",
      "INFO:kilosort.run_kilosort:Memory:       85.33 %     |     54.36   /    63.71 GB\n",
      "INFO:kilosort.run_kilosort:------------------------------------------------------\n",
      "INFO:kilosort.run_kilosort:GPU usage:    `conda install pynvml` for GPU usage\n",
      "INFO:kilosort.run_kilosort:GPU memory:   97.79 %     |     10.76   /    11.00 GB\n",
      "INFO:kilosort.run_kilosort:Allocated:     0.14 %     |      0.02   /    11.00 GB\n",
      "INFO:kilosort.run_kilosort:Max alloc:    38.91 %     |      4.28   /    11.00 GB\n",
      "INFO:kilosort.run_kilosort:********************************************************\n",
      "INFO:kilosort.run_kilosort: \n",
      "INFO:kilosort.run_kilosort:Final clustering\n",
      "INFO:kilosort.run_kilosort:----------------------------------------\n",
      " 77%|███████████████████████████████████████████████████████████████████                    | 74/96 [47:22<14:05, 38.42s/it]\n",
      "ERROR:kilosort.clustering_qr:Error in clustering_qr.run on center 74\n",
      "Traceback (most recent call last):\n",
      "  File \"C:\\Users\\Emmett\\anaconda3\\envs\\si_env\\Lib\\site-packages\\kilosort\\clustering_qr.py\", line 403, in run\n",
      "    iclust, iclust0, M, _ = cluster(\n",
      "                            ^^^^^^^^\n",
      "  File \"C:\\Users\\Emmett\\anaconda3\\envs\\si_env\\Lib\\site-packages\\kilosort\\clustering_qr.py\", line 130, in cluster\n",
      "    kn, M = neigh_mat(Xd, nskip = nskip, n_neigh = n_neigh)\n",
      "            ^^^^^^^^^^^^^^^^^^^^^^^^^^^^^^^^^^^^^^^^^^^^^^^\n",
      "  File \"C:\\Users\\Emmett\\anaconda3\\envs\\si_env\\Lib\\site-packages\\kilosort\\clustering_qr.py\", line 41, in neigh_mat\n",
      "    _, kn = index.search(Xd, n_neigh)     # actual search\n",
      "            ^^^^^^^^^^^^^^^^^^^^^^^^^\n",
      "  File \"C:\\Users\\Emmett\\anaconda3\\envs\\si_env\\Lib\\site-packages\\faiss\\class_wrappers.py\", line 343, in replacement_search\n",
      "    self.search_c(n, swig_ptr(x), k, swig_ptr(D), swig_ptr(I), params)\n",
      "  File \"C:\\Users\\Emmett\\anaconda3\\envs\\si_env\\Lib\\site-packages\\faiss\\swigfaiss_avx2.py\", line 2350, in search\n",
      "    return _swigfaiss_avx2.IndexFlat_search(self, n, x, k, distances, labels, params)\n",
      "           ^^^^^^^^^^^^^^^^^^^^^^^^^^^^^^^^^^^^^^^^^^^^^^^^^^^^^^^^^^^^^^^^^^^^^^^^^^\n",
      "KeyboardInterrupt\n"
     ]
    },
    {
     "ename": "KeyboardInterrupt",
     "evalue": "",
     "output_type": "error",
     "traceback": [
      "\u001b[1;31m---------------------------------------------------------------------------\u001b[0m",
      "\u001b[1;31mKeyboardInterrupt\u001b[0m                         Traceback (most recent call last)",
      "\u001b[1;32m~\\AppData\\Local\\Temp\\ipykernel_5668\\3903218223.py\u001b[0m in \u001b[0;36m?\u001b[1;34m()\u001b[0m\n\u001b[0;32m     89\u001b[0m         \u001b[0mparams_kilosort4\u001b[0m \u001b[1;33m=\u001b[0m \u001b[0msi\u001b[0m\u001b[1;33m.\u001b[0m\u001b[0mget_default_sorter_params\u001b[0m\u001b[1;33m(\u001b[0m\u001b[1;34m'kilosort4'\u001b[0m\u001b[1;33m)\u001b[0m\u001b[1;33m\u001b[0m\u001b[1;33m\u001b[0m\u001b[0m\n\u001b[0;32m     90\u001b[0m         \u001b[0mparams_kilosort4\u001b[0m\u001b[1;33m[\u001b[0m\u001b[1;34m'delete_recording_dat'\u001b[0m\u001b[1;33m]\u001b[0m \u001b[1;33m=\u001b[0m \u001b[1;32mFalse\u001b[0m\u001b[1;33m\u001b[0m\u001b[1;33m\u001b[0m\u001b[0m\n\u001b[0;32m     91\u001b[0m \u001b[1;33m\u001b[0m\u001b[0m\n\u001b[0;32m     92\u001b[0m         \u001b[1;31m# # run kilosort4 with drift correction (set as True in the params)\u001b[0m\u001b[1;33m\u001b[0m\u001b[1;33m\u001b[0m\u001b[0m\n\u001b[1;32m---> 93\u001b[1;33m         sorting = si.run_sorter('kilosort4', rec, output_folder=out_path_object / '/kilosort4_output',\n\u001b[0m\u001b[0;32m     94\u001b[0m                                 docker_image=False, verbose=True, **params_kilosort4)\n\u001b[0;32m     95\u001b[0m \u001b[1;33m\u001b[0m\u001b[0m\n\u001b[0;32m     96\u001b[0m \u001b[1;33m\u001b[0m\u001b[0m\n",
      "\u001b[1;32m~\\anaconda3\\envs\\si_env\\Lib\\site-packages\\spikeinterface\\sorters\\runsorter.py\u001b[0m in \u001b[0;36m?\u001b[1;34m(sorter_name, recording, folder, remove_existing_folder, delete_output_folder, verbose, raise_error, docker_image, singularity_image, delete_container_files, with_output, output_folder, **sorter_params)\u001b[0m\n\u001b[0;32m    195\u001b[0m             \u001b[0mmode\u001b[0m\u001b[1;33m=\u001b[0m\u001b[0mmode\u001b[0m\u001b[1;33m,\u001b[0m\u001b[1;33m\u001b[0m\u001b[1;33m\u001b[0m\u001b[0m\n\u001b[0;32m    196\u001b[0m             \u001b[1;33m**\u001b[0m\u001b[0mcommon_kwargs\u001b[0m\u001b[1;33m,\u001b[0m\u001b[1;33m\u001b[0m\u001b[1;33m\u001b[0m\u001b[0m\n\u001b[0;32m    197\u001b[0m         )\n\u001b[0;32m    198\u001b[0m \u001b[1;33m\u001b[0m\u001b[0m\n\u001b[1;32m--> 199\u001b[1;33m     \u001b[1;32mreturn\u001b[0m \u001b[0mrun_sorter_local\u001b[0m\u001b[1;33m(\u001b[0m\u001b[1;33m**\u001b[0m\u001b[0mcommon_kwargs\u001b[0m\u001b[1;33m)\u001b[0m\u001b[1;33m\u001b[0m\u001b[1;33m\u001b[0m\u001b[0m\n\u001b[0m",
      "\u001b[1;32m~\\anaconda3\\envs\\si_env\\Lib\\site-packages\\spikeinterface\\sorters\\runsorter.py\u001b[0m in \u001b[0;36m?\u001b[1;34m(sorter_name, recording, folder, remove_existing_folder, delete_output_folder, verbose, raise_error, with_output, output_folder, **sorter_params)\u001b[0m\n\u001b[0;32m    257\u001b[0m     \u001b[0mSorterClass\u001b[0m\u001b[1;33m.\u001b[0m\u001b[0mset_params_to_folder\u001b[0m\u001b[1;33m(\u001b[0m\u001b[0mrecording\u001b[0m\u001b[1;33m,\u001b[0m \u001b[0mfolder\u001b[0m\u001b[1;33m,\u001b[0m \u001b[0msorter_params\u001b[0m\u001b[1;33m,\u001b[0m \u001b[0mverbose\u001b[0m\u001b[1;33m)\u001b[0m\u001b[1;33m\u001b[0m\u001b[1;33m\u001b[0m\u001b[0m\n\u001b[0;32m    258\u001b[0m     \u001b[1;31m# This writes parameters and recording to binary and could ideally happen in the host\u001b[0m\u001b[1;33m\u001b[0m\u001b[1;33m\u001b[0m\u001b[0m\n\u001b[0;32m    259\u001b[0m     \u001b[0mSorterClass\u001b[0m\u001b[1;33m.\u001b[0m\u001b[0msetup_recording\u001b[0m\u001b[1;33m(\u001b[0m\u001b[0mrecording\u001b[0m\u001b[1;33m,\u001b[0m \u001b[0mfolder\u001b[0m\u001b[1;33m,\u001b[0m \u001b[0mverbose\u001b[0m\u001b[1;33m=\u001b[0m\u001b[0mverbose\u001b[0m\u001b[1;33m)\u001b[0m\u001b[1;33m\u001b[0m\u001b[1;33m\u001b[0m\u001b[0m\n\u001b[0;32m    260\u001b[0m     \u001b[1;31m# This NEEDS to happen in the docker because of dependencies\u001b[0m\u001b[1;33m\u001b[0m\u001b[1;33m\u001b[0m\u001b[0m\n\u001b[1;32m--> 261\u001b[1;33m     \u001b[0mSorterClass\u001b[0m\u001b[1;33m.\u001b[0m\u001b[0mrun_from_folder\u001b[0m\u001b[1;33m(\u001b[0m\u001b[0mfolder\u001b[0m\u001b[1;33m,\u001b[0m \u001b[0mraise_error\u001b[0m\u001b[1;33m,\u001b[0m \u001b[0mverbose\u001b[0m\u001b[1;33m)\u001b[0m\u001b[1;33m\u001b[0m\u001b[1;33m\u001b[0m\u001b[0m\n\u001b[0m\u001b[0;32m    262\u001b[0m     \u001b[1;32mif\u001b[0m \u001b[0mwith_output\u001b[0m\u001b[1;33m:\u001b[0m\u001b[1;33m\u001b[0m\u001b[1;33m\u001b[0m\u001b[0m\n\u001b[0;32m    263\u001b[0m         \u001b[0msorting\u001b[0m \u001b[1;33m=\u001b[0m \u001b[0mSorterClass\u001b[0m\u001b[1;33m.\u001b[0m\u001b[0mget_result_from_folder\u001b[0m\u001b[1;33m(\u001b[0m\u001b[0mfolder\u001b[0m\u001b[1;33m,\u001b[0m \u001b[0mregister_recording\u001b[0m\u001b[1;33m=\u001b[0m\u001b[1;32mTrue\u001b[0m\u001b[1;33m,\u001b[0m \u001b[0msorting_info\u001b[0m\u001b[1;33m=\u001b[0m\u001b[1;32mTrue\u001b[0m\u001b[1;33m)\u001b[0m\u001b[1;33m\u001b[0m\u001b[1;33m\u001b[0m\u001b[0m\n\u001b[0;32m    264\u001b[0m     \u001b[1;32melse\u001b[0m\u001b[1;33m:\u001b[0m\u001b[1;33m\u001b[0m\u001b[1;33m\u001b[0m\u001b[0m\n",
      "\u001b[1;32m~\\anaconda3\\envs\\si_env\\Lib\\site-packages\\spikeinterface\\sorters\\basesorter.py\u001b[0m in \u001b[0;36m?\u001b[1;34m(cls, output_folder, raise_error, verbose)\u001b[0m\n\u001b[0;32m    261\u001b[0m             \u001b[0mSorterClass\u001b[0m\u001b[1;33m.\u001b[0m\u001b[0m_run_from_folder\u001b[0m\u001b[1;33m(\u001b[0m\u001b[0msorter_output_folder\u001b[0m\u001b[1;33m,\u001b[0m \u001b[0msorter_params\u001b[0m\u001b[1;33m,\u001b[0m \u001b[0mverbose\u001b[0m\u001b[1;33m)\u001b[0m\u001b[1;33m\u001b[0m\u001b[1;33m\u001b[0m\u001b[0m\n\u001b[0;32m    262\u001b[0m             \u001b[0mt1\u001b[0m \u001b[1;33m=\u001b[0m \u001b[0mtime\u001b[0m\u001b[1;33m.\u001b[0m\u001b[0mperf_counter\u001b[0m\u001b[1;33m(\u001b[0m\u001b[1;33m)\u001b[0m\u001b[1;33m\u001b[0m\u001b[1;33m\u001b[0m\u001b[0m\n\u001b[0;32m    263\u001b[0m             \u001b[0mrun_time\u001b[0m \u001b[1;33m=\u001b[0m \u001b[0mfloat\u001b[0m\u001b[1;33m(\u001b[0m\u001b[0mt1\u001b[0m \u001b[1;33m-\u001b[0m \u001b[0mt0\u001b[0m\u001b[1;33m)\u001b[0m\u001b[1;33m\u001b[0m\u001b[1;33m\u001b[0m\u001b[0m\n\u001b[0;32m    264\u001b[0m             \u001b[0mhas_error\u001b[0m \u001b[1;33m=\u001b[0m \u001b[1;32mFalse\u001b[0m\u001b[1;33m\u001b[0m\u001b[1;33m\u001b[0m\u001b[0m\n\u001b[1;32m--> 265\u001b[1;33m         \u001b[1;32mexcept\u001b[0m \u001b[0mException\u001b[0m \u001b[1;32mas\u001b[0m \u001b[0merr\u001b[0m\u001b[1;33m:\u001b[0m\u001b[1;33m\u001b[0m\u001b[1;33m\u001b[0m\u001b[0m\n\u001b[0m\u001b[0;32m    266\u001b[0m             \u001b[0mhas_error\u001b[0m \u001b[1;33m=\u001b[0m \u001b[1;32mTrue\u001b[0m\u001b[1;33m\u001b[0m\u001b[1;33m\u001b[0m\u001b[0m\n\u001b[0;32m    267\u001b[0m             \u001b[0mrun_time\u001b[0m \u001b[1;33m=\u001b[0m \u001b[1;32mNone\u001b[0m\u001b[1;33m\u001b[0m\u001b[1;33m\u001b[0m\u001b[0m\n\u001b[0;32m    268\u001b[0m             \u001b[0mlog\u001b[0m\u001b[1;33m[\u001b[0m\u001b[1;34m\"error\"\u001b[0m\u001b[1;33m]\u001b[0m \u001b[1;33m=\u001b[0m \u001b[1;32mTrue\u001b[0m\u001b[1;33m\u001b[0m\u001b[1;33m\u001b[0m\u001b[0m\n",
      "\u001b[1;32m~\\anaconda3\\envs\\si_env\\Lib\\site-packages\\spikeinterface\\sorters\\external\\kilosort4.py\u001b[0m in \u001b[0;36m?\u001b[1;34m(cls, sorter_output_folder, params, verbose)\u001b[0m\n\u001b[0;32m    366\u001b[0m         st, tF, _, _ = detect_spikes(\n\u001b[0;32m    367\u001b[0m             \u001b[0mops\u001b[0m\u001b[1;33m=\u001b[0m\u001b[0mops\u001b[0m\u001b[1;33m,\u001b[0m \u001b[0mdevice\u001b[0m\u001b[1;33m=\u001b[0m\u001b[0mdevice\u001b[0m\u001b[1;33m,\u001b[0m \u001b[0mbfile\u001b[0m\u001b[1;33m=\u001b[0m\u001b[0mbfile\u001b[0m\u001b[1;33m,\u001b[0m \u001b[0mtic0\u001b[0m\u001b[1;33m=\u001b[0m\u001b[0mtic0\u001b[0m\u001b[1;33m,\u001b[0m \u001b[0mprogress_bar\u001b[0m\u001b[1;33m=\u001b[0m\u001b[0mprogress_bar\u001b[0m\u001b[1;33m,\u001b[0m \u001b[0mclear_cache\u001b[0m\u001b[1;33m=\u001b[0m\u001b[0mclear_cache\u001b[0m\u001b[1;33m\u001b[0m\u001b[1;33m\u001b[0m\u001b[0m\n\u001b[0;32m    368\u001b[0m         )\n\u001b[0;32m    369\u001b[0m \u001b[1;33m\u001b[0m\u001b[0m\n\u001b[1;32m--> 370\u001b[1;33m         clu, Wall = cluster_spikes(\n\u001b[0m\u001b[0;32m    371\u001b[0m             \u001b[0mst\u001b[0m\u001b[1;33m=\u001b[0m\u001b[0mst\u001b[0m\u001b[1;33m,\u001b[0m\u001b[1;33m\u001b[0m\u001b[1;33m\u001b[0m\u001b[0m\n\u001b[0;32m    372\u001b[0m             \u001b[0mtF\u001b[0m\u001b[1;33m=\u001b[0m\u001b[0mtF\u001b[0m\u001b[1;33m,\u001b[0m\u001b[1;33m\u001b[0m\u001b[1;33m\u001b[0m\u001b[0m\n\u001b[0;32m    373\u001b[0m             \u001b[0mops\u001b[0m\u001b[1;33m=\u001b[0m\u001b[0mops\u001b[0m\u001b[1;33m,\u001b[0m\u001b[1;33m\u001b[0m\u001b[1;33m\u001b[0m\u001b[0m\n",
      "\u001b[1;32m~\\anaconda3\\envs\\si_env\\Lib\\site-packages\\kilosort\\run_kilosort.py\u001b[0m in \u001b[0;36m?\u001b[1;34m(st, tF, ops, device, bfile, tic0, progress_bar, clear_cache)\u001b[0m\n\u001b[0;32m    708\u001b[0m     \u001b[0mtic\u001b[0m \u001b[1;33m=\u001b[0m \u001b[0mtime\u001b[0m\u001b[1;33m.\u001b[0m\u001b[0mtime\u001b[0m\u001b[1;33m(\u001b[0m\u001b[1;33m)\u001b[0m\u001b[1;33m\u001b[0m\u001b[1;33m\u001b[0m\u001b[0m\n\u001b[0;32m    709\u001b[0m     \u001b[0mlogger\u001b[0m\u001b[1;33m.\u001b[0m\u001b[0minfo\u001b[0m\u001b[1;33m(\u001b[0m\u001b[1;34m' '\u001b[0m\u001b[1;33m)\u001b[0m\u001b[1;33m\u001b[0m\u001b[1;33m\u001b[0m\u001b[0m\n\u001b[0;32m    710\u001b[0m     \u001b[0mlogger\u001b[0m\u001b[1;33m.\u001b[0m\u001b[0minfo\u001b[0m\u001b[1;33m(\u001b[0m\u001b[1;34m'Final clustering'\u001b[0m\u001b[1;33m)\u001b[0m\u001b[1;33m\u001b[0m\u001b[1;33m\u001b[0m\u001b[0m\n\u001b[0;32m    711\u001b[0m     \u001b[0mlogger\u001b[0m\u001b[1;33m.\u001b[0m\u001b[0minfo\u001b[0m\u001b[1;33m(\u001b[0m\u001b[1;34m'-'\u001b[0m\u001b[1;33m*\u001b[0m\u001b[1;36m40\u001b[0m\u001b[1;33m)\u001b[0m\u001b[1;33m\u001b[0m\u001b[1;33m\u001b[0m\u001b[0m\n\u001b[1;32m--> 712\u001b[1;33m     clu, Wall = clustering_qr.run(\n\u001b[0m\u001b[0;32m    713\u001b[0m         \u001b[0mops\u001b[0m\u001b[1;33m,\u001b[0m \u001b[0mst\u001b[0m\u001b[1;33m,\u001b[0m \u001b[0mtF\u001b[0m\u001b[1;33m,\u001b[0m  \u001b[0mmode\u001b[0m \u001b[1;33m=\u001b[0m \u001b[1;34m'template'\u001b[0m\u001b[1;33m,\u001b[0m \u001b[0mdevice\u001b[0m\u001b[1;33m=\u001b[0m\u001b[0mdevice\u001b[0m\u001b[1;33m,\u001b[0m \u001b[0mprogress_bar\u001b[0m\u001b[1;33m=\u001b[0m\u001b[0mprogress_bar\u001b[0m\u001b[1;33m,\u001b[0m\u001b[1;33m\u001b[0m\u001b[1;33m\u001b[0m\u001b[0m\n\u001b[0;32m    714\u001b[0m         \u001b[0mclear_cache\u001b[0m\u001b[1;33m=\u001b[0m\u001b[0mclear_cache\u001b[0m\u001b[1;33m\u001b[0m\u001b[1;33m\u001b[0m\u001b[0m\n\u001b[0;32m    715\u001b[0m         )\n",
      "\u001b[1;32m~\\anaconda3\\envs\\si_env\\Lib\\site-packages\\kilosort\\clustering_qr.py\u001b[0m in \u001b[0;36m?\u001b[1;34m(ops, st, tF, mode, device, progress_bar, clear_cache)\u001b[0m\n\u001b[0;32m    434\u001b[0m         \u001b[0mlogger\u001b[0m\u001b[1;33m.\u001b[0m\u001b[0mdebug\u001b[0m\u001b[1;33m(\u001b[0m\u001b[1;34mf'Xd shape: {Xd.shape}'\u001b[0m\u001b[1;33m)\u001b[0m\u001b[1;33m\u001b[0m\u001b[1;33m\u001b[0m\u001b[0m\n\u001b[0;32m    435\u001b[0m         \u001b[0mlogger\u001b[0m\u001b[1;33m.\u001b[0m\u001b[0mdebug\u001b[0m\u001b[1;33m(\u001b[0m\u001b[1;34mf'iclust shape: {iclust.shape}'\u001b[0m\u001b[1;33m)\u001b[0m\u001b[1;33m\u001b[0m\u001b[1;33m\u001b[0m\u001b[0m\n\u001b[0;32m    436\u001b[0m         \u001b[0mlogger\u001b[0m\u001b[1;33m.\u001b[0m\u001b[0mdebug\u001b[0m\u001b[1;33m(\u001b[0m\u001b[1;34mf'clu shape: {clu.shape}'\u001b[0m\u001b[1;33m)\u001b[0m\u001b[1;33m\u001b[0m\u001b[1;33m\u001b[0m\u001b[0m\n\u001b[0;32m    437\u001b[0m         \u001b[0mlogger\u001b[0m\u001b[1;33m.\u001b[0m\u001b[0mdebug\u001b[0m\u001b[1;33m(\u001b[0m\u001b[1;34mf'Nfilt: {Nfilt}'\u001b[0m\u001b[1;33m)\u001b[0m\u001b[1;33m\u001b[0m\u001b[1;33m\u001b[0m\u001b[0m\n\u001b[1;32m--> 438\u001b[1;33m         \u001b[1;32mraise\u001b[0m\u001b[1;33m\u001b[0m\u001b[1;33m\u001b[0m\u001b[0m\n\u001b[0m\u001b[0;32m    439\u001b[0m \u001b[1;33m\u001b[0m\u001b[0m\n\u001b[0;32m    440\u001b[0m     \u001b[1;32mif\u001b[0m \u001b[0mnearby_chans_empty\u001b[0m \u001b[1;33m==\u001b[0m \u001b[0mlen\u001b[0m\u001b[1;33m(\u001b[0m\u001b[0mycent\u001b[0m\u001b[1;33m)\u001b[0m\u001b[1;33m:\u001b[0m\u001b[1;33m\u001b[0m\u001b[1;33m\u001b[0m\u001b[0m\n\u001b[0;32m    441\u001b[0m         raise ValueError(\n",
      "\u001b[1;32m~\\anaconda3\\envs\\si_env\\Lib\\site-packages\\kilosort\\clustering_qr.py\u001b[0m in \u001b[0;36m?\u001b[1;34m(Xd, iclust, kn, nskip, n_neigh, nclust, seed, niter, lam, device)\u001b[0m\n\u001b[0;32m    126\u001b[0m def cluster(Xd, iclust = None, kn = None, nskip = 20, n_neigh = 10, nclust = 200, \n\u001b[0;32m    127\u001b[0m             seed = 1, niter = 200, lam = 0, device=torch.device('cuda')):    \n\u001b[0;32m    128\u001b[0m \u001b[1;33m\u001b[0m\u001b[0m\n\u001b[0;32m    129\u001b[0m     \u001b[1;32mif\u001b[0m \u001b[0mkn\u001b[0m \u001b[1;32mis\u001b[0m \u001b[1;32mNone\u001b[0m\u001b[1;33m:\u001b[0m\u001b[1;33m\u001b[0m\u001b[1;33m\u001b[0m\u001b[0m\n\u001b[1;32m--> 130\u001b[1;33m         \u001b[0mkn\u001b[0m\u001b[1;33m,\u001b[0m \u001b[0mM\u001b[0m \u001b[1;33m=\u001b[0m \u001b[0mneigh_mat\u001b[0m\u001b[1;33m(\u001b[0m\u001b[0mXd\u001b[0m\u001b[1;33m,\u001b[0m \u001b[0mnskip\u001b[0m \u001b[1;33m=\u001b[0m \u001b[0mnskip\u001b[0m\u001b[1;33m,\u001b[0m \u001b[0mn_neigh\u001b[0m \u001b[1;33m=\u001b[0m \u001b[0mn_neigh\u001b[0m\u001b[1;33m)\u001b[0m\u001b[1;33m\u001b[0m\u001b[1;33m\u001b[0m\u001b[0m\n\u001b[0m\u001b[0;32m    131\u001b[0m \u001b[1;33m\u001b[0m\u001b[0m\n\u001b[0;32m    132\u001b[0m     \u001b[0mm\u001b[0m\u001b[1;33m,\u001b[0m \u001b[0mki\u001b[0m\u001b[1;33m,\u001b[0m \u001b[0mkj\u001b[0m \u001b[1;33m=\u001b[0m \u001b[0mMstats\u001b[0m\u001b[1;33m(\u001b[0m\u001b[0mM\u001b[0m\u001b[1;33m,\u001b[0m \u001b[0mdevice\u001b[0m\u001b[1;33m=\u001b[0m\u001b[0mdevice\u001b[0m\u001b[1;33m)\u001b[0m\u001b[1;33m\u001b[0m\u001b[1;33m\u001b[0m\u001b[0m\n\u001b[0;32m    133\u001b[0m \u001b[1;33m\u001b[0m\u001b[0m\n",
      "\u001b[1;32m~\\anaconda3\\envs\\si_env\\Lib\\site-packages\\kilosort\\clustering_qr.py\u001b[0m in \u001b[0;36m?\u001b[1;34m(Xd, nskip, n_neigh)\u001b[0m\n\u001b[0;32m     37\u001b[0m     \u001b[1;31m# exact neighbor search (\"brute force\")\u001b[0m\u001b[1;33m\u001b[0m\u001b[1;33m\u001b[0m\u001b[0m\n\u001b[0;32m     38\u001b[0m     \u001b[1;31m# results is dn and kn, kn is n_samples by n_neigh, contains integer indices into Xsub\u001b[0m\u001b[1;33m\u001b[0m\u001b[1;33m\u001b[0m\u001b[0m\n\u001b[0;32m     39\u001b[0m     \u001b[0mindex\u001b[0m \u001b[1;33m=\u001b[0m \u001b[0mfaiss\u001b[0m\u001b[1;33m.\u001b[0m\u001b[0mIndexFlatL2\u001b[0m\u001b[1;33m(\u001b[0m\u001b[0mdim\u001b[0m\u001b[1;33m)\u001b[0m   \u001b[1;31m# build the index\u001b[0m\u001b[1;33m\u001b[0m\u001b[1;33m\u001b[0m\u001b[0m\n\u001b[0;32m     40\u001b[0m     \u001b[0mindex\u001b[0m\u001b[1;33m.\u001b[0m\u001b[0madd\u001b[0m\u001b[1;33m(\u001b[0m\u001b[0mXsub\u001b[0m\u001b[1;33m)\u001b[0m    \u001b[1;31m# add vectors to the index\u001b[0m\u001b[1;33m\u001b[0m\u001b[1;33m\u001b[0m\u001b[0m\n\u001b[1;32m---> 41\u001b[1;33m     \u001b[0m_\u001b[0m\u001b[1;33m,\u001b[0m \u001b[0mkn\u001b[0m \u001b[1;33m=\u001b[0m \u001b[0mindex\u001b[0m\u001b[1;33m.\u001b[0m\u001b[0msearch\u001b[0m\u001b[1;33m(\u001b[0m\u001b[0mXd\u001b[0m\u001b[1;33m,\u001b[0m \u001b[0mn_neigh\u001b[0m\u001b[1;33m)\u001b[0m     \u001b[1;31m# actual search\u001b[0m\u001b[1;33m\u001b[0m\u001b[1;33m\u001b[0m\u001b[0m\n\u001b[0m\u001b[0;32m     42\u001b[0m \u001b[1;33m\u001b[0m\u001b[0m\n\u001b[0;32m     43\u001b[0m     \u001b[1;31m# create sparse matrix version of kn with ones where the neighbors are\u001b[0m\u001b[1;33m\u001b[0m\u001b[1;33m\u001b[0m\u001b[0m\n\u001b[0;32m     44\u001b[0m     \u001b[1;31m# M is n_samples by n_nodes\u001b[0m\u001b[1;33m\u001b[0m\u001b[1;33m\u001b[0m\u001b[0m\n",
      "\u001b[1;32m~\\anaconda3\\envs\\si_env\\Lib\\site-packages\\faiss\\class_wrappers.py\u001b[0m in \u001b[0;36m?\u001b[1;34m(self, x, k, params, D, I)\u001b[0m\n\u001b[0;32m    339\u001b[0m             \u001b[0mI\u001b[0m \u001b[1;33m=\u001b[0m \u001b[0mnp\u001b[0m\u001b[1;33m.\u001b[0m\u001b[0mempty\u001b[0m\u001b[1;33m(\u001b[0m\u001b[1;33m(\u001b[0m\u001b[0mn\u001b[0m\u001b[1;33m,\u001b[0m \u001b[0mk\u001b[0m\u001b[1;33m)\u001b[0m\u001b[1;33m,\u001b[0m \u001b[0mdtype\u001b[0m\u001b[1;33m=\u001b[0m\u001b[0mnp\u001b[0m\u001b[1;33m.\u001b[0m\u001b[0mint64\u001b[0m\u001b[1;33m)\u001b[0m\u001b[1;33m\u001b[0m\u001b[1;33m\u001b[0m\u001b[0m\n\u001b[0;32m    340\u001b[0m         \u001b[1;32melse\u001b[0m\u001b[1;33m:\u001b[0m\u001b[1;33m\u001b[0m\u001b[1;33m\u001b[0m\u001b[0m\n\u001b[0;32m    341\u001b[0m             \u001b[1;32massert\u001b[0m \u001b[0mI\u001b[0m\u001b[1;33m.\u001b[0m\u001b[0mshape\u001b[0m \u001b[1;33m==\u001b[0m \u001b[1;33m(\u001b[0m\u001b[0mn\u001b[0m\u001b[1;33m,\u001b[0m \u001b[0mk\u001b[0m\u001b[1;33m)\u001b[0m\u001b[1;33m\u001b[0m\u001b[1;33m\u001b[0m\u001b[0m\n\u001b[0;32m    342\u001b[0m \u001b[1;33m\u001b[0m\u001b[0m\n\u001b[1;32m--> 343\u001b[1;33m         \u001b[0mself\u001b[0m\u001b[1;33m.\u001b[0m\u001b[0msearch_c\u001b[0m\u001b[1;33m(\u001b[0m\u001b[0mn\u001b[0m\u001b[1;33m,\u001b[0m \u001b[0mswig_ptr\u001b[0m\u001b[1;33m(\u001b[0m\u001b[0mx\u001b[0m\u001b[1;33m)\u001b[0m\u001b[1;33m,\u001b[0m \u001b[0mk\u001b[0m\u001b[1;33m,\u001b[0m \u001b[0mswig_ptr\u001b[0m\u001b[1;33m(\u001b[0m\u001b[0mD\u001b[0m\u001b[1;33m)\u001b[0m\u001b[1;33m,\u001b[0m \u001b[0mswig_ptr\u001b[0m\u001b[1;33m(\u001b[0m\u001b[0mI\u001b[0m\u001b[1;33m)\u001b[0m\u001b[1;33m,\u001b[0m \u001b[0mparams\u001b[0m\u001b[1;33m)\u001b[0m\u001b[1;33m\u001b[0m\u001b[1;33m\u001b[0m\u001b[0m\n\u001b[0m\u001b[0;32m    344\u001b[0m         \u001b[1;32mreturn\u001b[0m \u001b[0mD\u001b[0m\u001b[1;33m,\u001b[0m \u001b[0mI\u001b[0m\u001b[1;33m\u001b[0m\u001b[1;33m\u001b[0m\u001b[0m\n",
      "\u001b[1;32m~\\anaconda3\\envs\\si_env\\Lib\\site-packages\\faiss\\swigfaiss_avx2.py\u001b[0m in \u001b[0;36m?\u001b[1;34m(self, n, x, k, distances, labels, params)\u001b[0m\n\u001b[0;32m   2349\u001b[0m     \u001b[1;32mdef\u001b[0m \u001b[0msearch\u001b[0m\u001b[1;33m(\u001b[0m\u001b[0mself\u001b[0m\u001b[1;33m,\u001b[0m \u001b[0mn\u001b[0m\u001b[1;33m,\u001b[0m \u001b[0mx\u001b[0m\u001b[1;33m,\u001b[0m \u001b[0mk\u001b[0m\u001b[1;33m,\u001b[0m \u001b[0mdistances\u001b[0m\u001b[1;33m,\u001b[0m \u001b[0mlabels\u001b[0m\u001b[1;33m,\u001b[0m \u001b[0mparams\u001b[0m\u001b[1;33m=\u001b[0m\u001b[1;32mNone\u001b[0m\u001b[1;33m)\u001b[0m\u001b[1;33m:\u001b[0m\u001b[1;33m\u001b[0m\u001b[1;33m\u001b[0m\u001b[0m\n\u001b[1;32m-> 2350\u001b[1;33m         \u001b[1;32mreturn\u001b[0m \u001b[0m_swigfaiss_avx2\u001b[0m\u001b[1;33m.\u001b[0m\u001b[0mIndexFlat_search\u001b[0m\u001b[1;33m(\u001b[0m\u001b[0mself\u001b[0m\u001b[1;33m,\u001b[0m \u001b[0mn\u001b[0m\u001b[1;33m,\u001b[0m \u001b[0mx\u001b[0m\u001b[1;33m,\u001b[0m \u001b[0mk\u001b[0m\u001b[1;33m,\u001b[0m \u001b[0mdistances\u001b[0m\u001b[1;33m,\u001b[0m \u001b[0mlabels\u001b[0m\u001b[1;33m,\u001b[0m \u001b[0mparams\u001b[0m\u001b[1;33m)\u001b[0m\u001b[1;33m\u001b[0m\u001b[1;33m\u001b[0m\u001b[0m\n\u001b[0m",
      "\u001b[1;31mKeyboardInterrupt\u001b[0m: "
     ]
    }
   ],
   "source": [
    "for ind,base_folder in enumerate(process_base_paths):\n",
    "    print('*********** PROCESSING: ***********')\n",
    "    print(base_folder)\n",
    "    out_path = out_paths[ind]\n",
    "\n",
    "    # extract the stream names (each np processor)\n",
    "    stream_names, stream_ids = si.get_neo_streams('openephysbinary', base_folder)\n",
    "    print(stream_names)\n",
    "\n",
    "    # chose probe id, DEAL WITH PROBE A/B stuff\n",
    "    ksort = False\n",
    "    for stream_i, stream in enumerate(stream_names):\n",
    "        if 'Probe' + missing_probe[ind] in stream:\n",
    "            if not 'LFP' in stream:\n",
    "                Probe_id = stream_names[stream_i]\n",
    "                out_path = out_path + '\\\\probe' + missing_probe[ind] + '\\\\'\n",
    "                out_path_object = Path(out_path)\n",
    "                ksort = True\n",
    "                if not os.path.isdir(out_path):\n",
    "                    os.makedirs(out_path)\n",
    "                break\n",
    "\n",
    "    if ksort == True:\n",
    "        \n",
    "        # load in data\n",
    "        raw_rec = si.read_openephys(base_folder,stream_name = Probe_id,load_sync_channel=False)\n",
    "        raw_rec.get_probe().to_dataframe()\n",
    "    \n",
    "        # plot probe\n",
    "        fig, axs = plt.subplots(figsize=(1, 100))\n",
    "        probe = raw_rec.get_probe()\n",
    "        plot_probe(probe, ax = axs)\n",
    "        plt.savefig(out_path + 'probe_map.png')\n",
    "        plt.close()\n",
    "            \n",
    "        \n",
    "        # Preprocess the recording¶\n",
    "        # Let’s do something similar to the IBL destriping chain (See :ref:ibl_destripe) to preprocess the data but:\n",
    "        # instead of interpolating bad channels, we remove then.\n",
    "        # instead of highpass_spatial_filter() we use common_reference()\n",
    "        \n",
    "        rec1 = si.highpass_filter(raw_rec, freq_min=400.)\n",
    "        bad_channel_ids, channel_labels = si.detect_bad_channels(rec1)\n",
    "        rec2 = rec1.remove_channels(bad_channel_ids)\n",
    "        print('bad_channel_ids', bad_channel_ids)\n",
    "    \n",
    "        rec3 = si.phase_shift(rec2)\n",
    "        rec4 = si.common_reference(rec3, operator=\"median\", reference=\"global\")\n",
    "        rec = rec4\n",
    "        \n",
    "        \n",
    "        ## save out the preprocessed binary\n",
    "    \n",
    "        job_kwargs = dict(n_jobs=40, chunk_duration='1s', progress_bar=True)\n",
    "        rec = rec.save(folder=out_path_object / 'preprocess', format='binary', **job_kwargs)\n",
    "        \n",
    "        # here we use static plot using matplotlib backend\n",
    "        fig, axs = plt.subplots(ncols=3, figsize=(20, 10))\n",
    "    \n",
    "        si.plot_traces(rec1, backend='matplotlib',  clim=(-50, 50), ax=axs[0])\n",
    "        si.plot_traces(rec4, backend='matplotlib',  clim=(-50, 50), ax=axs[1])\n",
    "        si.plot_traces(rec, backend='matplotlib',  clim=(-50, 50), ax=axs[2])\n",
    "        for i, label in enumerate(('filter', 'cmr', 'final')):\n",
    "            axs[i].set_title(label)\n",
    "        plt.savefig(out_path + 'preprocessing_destriping_common_ref.png')\n",
    "        plt.close()\n",
    "        \n",
    "        \n",
    "        # plot some channels\n",
    "        fig, ax = plt.subplots(figsize=(20, 10))\n",
    "        some_chans = rec.channel_ids[[100, 150, 200, ]]\n",
    "        si.plot_traces({'filter':rec1, 'cmr': rec4}, backend='matplotlib', mode='line', ax=ax, channel_ids=some_chans)\n",
    "        plt.savefig(out_path + 'example_chans.png')\n",
    "        plt.close()\n",
    "        \n",
    "        # check noise \n",
    "        # we can estimate the noise on the scaled traces (microV) or on the raw one (which is in our case int16).\n",
    "        noise_levels_microV = si.get_noise_levels(rec, return_scaled=True)\n",
    "        noise_levels_int16 = si.get_noise_levels(rec, return_scaled=False)\n",
    "        \n",
    "        fig, ax = plt.subplots()\n",
    "        _ = ax.hist(noise_levels_microV, bins=np.arange(5, 30, 2.5))\n",
    "        ax.set_xlabel('noise  [microV]')\n",
    "        plt.savefig(out_path + 'noise_level.png')\n",
    "        plt.close()\n",
    "        \n",
    "        \n",
    "        # check default params for kilosort2.5\n",
    "        params_kilosort4 = si.get_default_sorter_params('kilosort4')\n",
    "        params_kilosort4['delete_recording_dat'] = False\n",
    "    \n",
    "        # # run kilosort4 with drift correction (set as True in the params)\n",
    "        sorting = si.run_sorter('kilosort4', rec, output_folder=out_path_object / 'kilosort4_output',\n",
    "                                docker_image=False, verbose=True, **params_kilosort4)\n",
    "        \n",
    "        \n",
    "        ######################################################################################\n",
    "        # load back in to check quality\n",
    "        sorting = si.read_sorter_folder(out_path_object / 'kilosort4_output')\n",
    "        \n",
    "        analyzer = si.create_sorting_analyzer(sorting, rec, sparse=True, format=\"memory\")\n",
    "        \n",
    "        analyzer.compute(\"random_spikes\", method=\"uniform\", max_spikes_per_unit=500)\n",
    "        analyzer.compute(\"waveforms\",  ms_before=1.5,ms_after=2., **job_kwargs)\n",
    "        analyzer.compute(\"templates\", operators=[\"average\", \"median\", \"std\"])\n",
    "        analyzer.compute(\"noise_levels\")\n",
    "    \n",
    "        analyzer_saved = analyzer.save_as(folder=out_path_object / \"analyzer\", format=\"binary_folder\")\n",
    "    \n",
    "        metric_names=['firing_rate', 'presence_ratio', 'snr', 'isi_violation', 'amplitude_cutoff']\n",
    "    \n",
    "        metrics = si.compute_quality_metrics(analyzer, metric_names=metric_names)\n",
    "    \n",
    "        amplitude_cutoff_thresh = 0.1\n",
    "        isi_violations_ratio_thresh = 1\n",
    "        presence_ratio_thresh = 0.9\n",
    "    \n",
    "        our_query = f\"(amplitude_cutoff < {amplitude_cutoff_thresh}) & (isi_violations_ratio < {isi_violations_ratio_thresh}) & (presence_ratio > {presence_ratio_thresh})\"\n",
    "    \n",
    "        keep_units = metrics.query(our_query)\n",
    "        keep_unit_ids = keep_units.index.values\n",
    "    \n",
    "        analyzer_clean = analyzer.select_units(keep_unit_ids, folder=out_path_object / 'analyzer_clean', format='binary_folder')\n",
    "    \n",
    "        # export spike sorting report to a folder\n",
    "        si.export_report(analyzer_clean, out_path_object / 'report', format='png')\n",
    "\n",
    "        break\n",
    "    break\n",
    "    \n",
    "    \n",
    "        ### SAVE OUT A TXT FILE WITH NUMBER OF UNITS DATA ON IT\n",
    "    \n",
    "                \n",
    "    "
   ]
  },
  {
   "cell_type": "code",
   "execution_count": 61,
   "id": "8f1fc61e-3ce1-424b-be2b-dc10cc0f0a67",
   "metadata": {},
   "outputs": [
    {
     "name": "stdout",
     "output_type": "stream",
     "text": [
      "write_binary_recording \n",
      "n_jobs=8 - samples_per_chunk=30,000 - chunk_memory=21.51 MiB - total_memory=172.12 MiB - chunk_duration=1.00s\n"
     ]
    },
    {
     "data": {
      "application/vnd.jupyter.widget-view+json": {
       "model_id": "74d7de6e7ca34a409349477ebc626538",
       "version_major": 2,
       "version_minor": 0
      },
      "text/plain": [
       "write_binary_recording:   0%|          | 0/17824 [00:00<?, ?it/s]"
      ]
     },
     "metadata": {},
     "output_type": "display_data"
    },
    {
     "ename": "KeyboardInterrupt",
     "evalue": "",
     "output_type": "error",
     "traceback": [
      "\u001b[1;31m---------------------------------------------------------------------------\u001b[0m",
      "\u001b[1;31mKeyboardInterrupt\u001b[0m                         Traceback (most recent call last)",
      "Cell \u001b[1;32mIn[61], line 1\u001b[0m\n\u001b[1;32m----> 1\u001b[0m rec \u001b[38;5;241m=\u001b[39m \u001b[43mrec\u001b[49m\u001b[38;5;241;43m.\u001b[39;49m\u001b[43msave\u001b[49m\u001b[43m(\u001b[49m\u001b[43mfolder\u001b[49m\u001b[38;5;241;43m=\u001b[39;49m\u001b[43mout_path_object\u001b[49m\u001b[43m \u001b[49m\u001b[38;5;241;43m/\u001b[39;49m\u001b[43m \u001b[49m\u001b[38;5;124;43m'\u001b[39;49m\u001b[38;5;124;43m/test\u001b[39;49m\u001b[38;5;124;43m'\u001b[39;49m\u001b[43m,\u001b[49m\u001b[43m \u001b[49m\u001b[38;5;28;43mformat\u001b[39;49m\u001b[38;5;241;43m=\u001b[39;49m\u001b[38;5;124;43m'\u001b[39;49m\u001b[38;5;124;43mbinary\u001b[39;49m\u001b[38;5;124;43m'\u001b[39;49m\u001b[43m,\u001b[49m\u001b[43m \u001b[49m\u001b[38;5;241;43m*\u001b[39;49m\u001b[38;5;241;43m*\u001b[39;49m\u001b[43mjob_kwargs\u001b[49m\u001b[43m)\u001b[49m\n",
      "File \u001b[1;32m~\\anaconda3\\envs\\si_env\\Lib\\site-packages\\spikeinterface\\core\\base.py:877\u001b[0m, in \u001b[0;36mBaseExtractor.save\u001b[1;34m(self, **kwargs)\u001b[0m\n\u001b[0;32m    875\u001b[0m     loaded_extractor \u001b[38;5;241m=\u001b[39m \u001b[38;5;28mself\u001b[39m\u001b[38;5;241m.\u001b[39msave_to_zarr(\u001b[38;5;241m*\u001b[39m\u001b[38;5;241m*\u001b[39mkwargs)\n\u001b[0;32m    876\u001b[0m \u001b[38;5;28;01melse\u001b[39;00m:\n\u001b[1;32m--> 877\u001b[0m     loaded_extractor \u001b[38;5;241m=\u001b[39m \u001b[38;5;28;43mself\u001b[39;49m\u001b[38;5;241;43m.\u001b[39;49m\u001b[43msave_to_folder\u001b[49m\u001b[43m(\u001b[49m\u001b[38;5;241;43m*\u001b[39;49m\u001b[38;5;241;43m*\u001b[39;49m\u001b[43mkwargs\u001b[49m\u001b[43m)\u001b[49m\n\u001b[0;32m    878\u001b[0m \u001b[38;5;28;01mreturn\u001b[39;00m loaded_extractor\n",
      "File \u001b[1;32m~\\anaconda3\\envs\\si_env\\Lib\\site-packages\\spikeinterface\\core\\base.py:984\u001b[0m, in \u001b[0;36mBaseExtractor.save_to_folder\u001b[1;34m(self, name, folder, overwrite, verbose, **save_kwargs)\u001b[0m\n\u001b[0;32m    981\u001b[0m \u001b[38;5;28mself\u001b[39m\u001b[38;5;241m.\u001b[39msave_metadata_to_folder(folder)\n\u001b[0;32m    983\u001b[0m \u001b[38;5;66;03m# save data (done the subclass)\u001b[39;00m\n\u001b[1;32m--> 984\u001b[0m cached \u001b[38;5;241m=\u001b[39m \u001b[38;5;28;43mself\u001b[39;49m\u001b[38;5;241;43m.\u001b[39;49m\u001b[43m_save\u001b[49m\u001b[43m(\u001b[49m\u001b[43mfolder\u001b[49m\u001b[38;5;241;43m=\u001b[39;49m\u001b[43mfolder\u001b[49m\u001b[43m,\u001b[49m\u001b[43m \u001b[49m\u001b[43mverbose\u001b[49m\u001b[38;5;241;43m=\u001b[39;49m\u001b[43mverbose\u001b[49m\u001b[43m,\u001b[49m\u001b[43m \u001b[49m\u001b[38;5;241;43m*\u001b[39;49m\u001b[38;5;241;43m*\u001b[39;49m\u001b[43msave_kwargs\u001b[49m\u001b[43m)\u001b[49m\n\u001b[0;32m    986\u001b[0m \u001b[38;5;66;03m# copy properties/\u001b[39;00m\n\u001b[0;32m    987\u001b[0m \u001b[38;5;28mself\u001b[39m\u001b[38;5;241m.\u001b[39mcopy_metadata(cached)\n",
      "File \u001b[1;32m~\\anaconda3\\envs\\si_env\\Lib\\site-packages\\spikeinterface\\core\\baserecording.py:555\u001b[0m, in \u001b[0;36mBaseRecording._save\u001b[1;34m(self, format, verbose, **save_kwargs)\u001b[0m\n\u001b[0;32m    552\u001b[0m dtype \u001b[38;5;241m=\u001b[39m kwargs\u001b[38;5;241m.\u001b[39mget(\u001b[38;5;124m\"\u001b[39m\u001b[38;5;124mdtype\u001b[39m\u001b[38;5;124m\"\u001b[39m, \u001b[38;5;28;01mNone\u001b[39;00m) \u001b[38;5;129;01mor\u001b[39;00m \u001b[38;5;28mself\u001b[39m\u001b[38;5;241m.\u001b[39mget_dtype()\n\u001b[0;32m    553\u001b[0m t_starts \u001b[38;5;241m=\u001b[39m \u001b[38;5;28mself\u001b[39m\u001b[38;5;241m.\u001b[39m_get_t_starts()\n\u001b[1;32m--> 555\u001b[0m \u001b[43mwrite_binary_recording\u001b[49m\u001b[43m(\u001b[49m\u001b[38;5;28;43mself\u001b[39;49m\u001b[43m,\u001b[49m\u001b[43m \u001b[49m\u001b[43mfile_paths\u001b[49m\u001b[38;5;241;43m=\u001b[39;49m\u001b[43mfile_paths\u001b[49m\u001b[43m,\u001b[49m\u001b[43m \u001b[49m\u001b[43mdtype\u001b[49m\u001b[38;5;241;43m=\u001b[39;49m\u001b[43mdtype\u001b[49m\u001b[43m,\u001b[49m\u001b[43m \u001b[49m\u001b[43mverbose\u001b[49m\u001b[38;5;241;43m=\u001b[39;49m\u001b[43mverbose\u001b[49m\u001b[43m,\u001b[49m\u001b[43m \u001b[49m\u001b[38;5;241;43m*\u001b[39;49m\u001b[38;5;241;43m*\u001b[39;49m\u001b[43mjob_kwargs\u001b[49m\u001b[43m)\u001b[49m\n\u001b[0;32m    557\u001b[0m \u001b[38;5;28;01mfrom\u001b[39;00m \u001b[38;5;21;01m.\u001b[39;00m\u001b[38;5;21;01mbinaryrecordingextractor\u001b[39;00m \u001b[38;5;28;01mimport\u001b[39;00m BinaryRecordingExtractor\n\u001b[0;32m    559\u001b[0m \u001b[38;5;66;03m# This is created so it can be saved as json because the `BinaryFolderRecording` requires it loading\u001b[39;00m\n\u001b[0;32m    560\u001b[0m \u001b[38;5;66;03m# See the __init__ of `BinaryFolderRecording`\u001b[39;00m\n",
      "File \u001b[1;32m~\\anaconda3\\envs\\si_env\\Lib\\site-packages\\spikeinterface\\core\\recording_tools.py:149\u001b[0m, in \u001b[0;36mwrite_binary_recording\u001b[1;34m(recording, file_paths, dtype, add_file_extension, byte_offset, auto_cast_uint, verbose, **job_kwargs)\u001b[0m\n\u001b[0;32m    145\u001b[0m init_args \u001b[38;5;241m=\u001b[39m (recording, file_path_dict, dtype, byte_offset, cast_unsigned)\n\u001b[0;32m    146\u001b[0m executor \u001b[38;5;241m=\u001b[39m ChunkRecordingExecutor(\n\u001b[0;32m    147\u001b[0m     recording, func, init_func, init_args, job_name\u001b[38;5;241m=\u001b[39m\u001b[38;5;124m\"\u001b[39m\u001b[38;5;124mwrite_binary_recording\u001b[39m\u001b[38;5;124m\"\u001b[39m, verbose\u001b[38;5;241m=\u001b[39mverbose, \u001b[38;5;241m*\u001b[39m\u001b[38;5;241m*\u001b[39mjob_kwargs\n\u001b[0;32m    148\u001b[0m )\n\u001b[1;32m--> 149\u001b[0m \u001b[43mexecutor\u001b[49m\u001b[38;5;241;43m.\u001b[39;49m\u001b[43mrun\u001b[49m\u001b[43m(\u001b[49m\u001b[43m)\u001b[49m\n",
      "File \u001b[1;32m~\\anaconda3\\envs\\si_env\\Lib\\site-packages\\spikeinterface\\core\\job_tools.py:422\u001b[0m, in \u001b[0;36mChunkRecordingExecutor.run\u001b[1;34m(self)\u001b[0m\n\u001b[0;32m    419\u001b[0m \u001b[38;5;28;01mif\u001b[39;00m \u001b[38;5;28mself\u001b[39m\u001b[38;5;241m.\u001b[39mprogress_bar:\n\u001b[0;32m    420\u001b[0m     results \u001b[38;5;241m=\u001b[39m tqdm(results, desc\u001b[38;5;241m=\u001b[39m\u001b[38;5;28mself\u001b[39m\u001b[38;5;241m.\u001b[39mjob_name, total\u001b[38;5;241m=\u001b[39m\u001b[38;5;28mlen\u001b[39m(all_chunks))\n\u001b[1;32m--> 422\u001b[0m \u001b[43m\u001b[49m\u001b[38;5;28;43;01mfor\u001b[39;49;00m\u001b[43m \u001b[49m\u001b[43mres\u001b[49m\u001b[43m \u001b[49m\u001b[38;5;129;43;01min\u001b[39;49;00m\u001b[43m \u001b[49m\u001b[43mresults\u001b[49m\u001b[43m:\u001b[49m\n\u001b[0;32m    423\u001b[0m \u001b[43m    \u001b[49m\u001b[38;5;28;43;01mif\u001b[39;49;00m\u001b[43m \u001b[49m\u001b[38;5;28;43mself\u001b[39;49m\u001b[38;5;241;43m.\u001b[39;49m\u001b[43mhandle_returns\u001b[49m\u001b[43m:\u001b[49m\n\u001b[0;32m    424\u001b[0m \u001b[43m        \u001b[49m\u001b[43mreturns\u001b[49m\u001b[38;5;241;43m.\u001b[39;49m\u001b[43mappend\u001b[49m\u001b[43m(\u001b[49m\u001b[43mres\u001b[49m\u001b[43m)\u001b[49m\n",
      "File \u001b[1;32m~\\anaconda3\\envs\\si_env\\Lib\\site-packages\\tqdm\\notebook.py:250\u001b[0m, in \u001b[0;36mtqdm_notebook.__iter__\u001b[1;34m(self)\u001b[0m\n\u001b[0;32m    248\u001b[0m \u001b[38;5;28;01mtry\u001b[39;00m:\n\u001b[0;32m    249\u001b[0m     it \u001b[38;5;241m=\u001b[39m \u001b[38;5;28msuper\u001b[39m()\u001b[38;5;241m.\u001b[39m\u001b[38;5;21m__iter__\u001b[39m()\n\u001b[1;32m--> 250\u001b[0m \u001b[43m    \u001b[49m\u001b[38;5;28;43;01mfor\u001b[39;49;00m\u001b[43m \u001b[49m\u001b[43mobj\u001b[49m\u001b[43m \u001b[49m\u001b[38;5;129;43;01min\u001b[39;49;00m\u001b[43m \u001b[49m\u001b[43mit\u001b[49m\u001b[43m:\u001b[49m\n\u001b[0;32m    251\u001b[0m \u001b[43m        \u001b[49m\u001b[38;5;66;43;03m# return super(tqdm...) will not catch exception\u001b[39;49;00m\n\u001b[0;32m    252\u001b[0m \u001b[43m        \u001b[49m\u001b[38;5;28;43;01myield\u001b[39;49;00m\u001b[43m \u001b[49m\u001b[43mobj\u001b[49m\n\u001b[0;32m    253\u001b[0m \u001b[38;5;66;03m# NB: except ... [ as ...] breaks IPython async KeyboardInterrupt\u001b[39;00m\n",
      "File \u001b[1;32m~\\anaconda3\\envs\\si_env\\Lib\\site-packages\\tqdm\\std.py:1181\u001b[0m, in \u001b[0;36mtqdm.__iter__\u001b[1;34m(self)\u001b[0m\n\u001b[0;32m   1178\u001b[0m time \u001b[38;5;241m=\u001b[39m \u001b[38;5;28mself\u001b[39m\u001b[38;5;241m.\u001b[39m_time\n\u001b[0;32m   1180\u001b[0m \u001b[38;5;28;01mtry\u001b[39;00m:\n\u001b[1;32m-> 1181\u001b[0m \u001b[43m    \u001b[49m\u001b[38;5;28;43;01mfor\u001b[39;49;00m\u001b[43m \u001b[49m\u001b[43mobj\u001b[49m\u001b[43m \u001b[49m\u001b[38;5;129;43;01min\u001b[39;49;00m\u001b[43m \u001b[49m\u001b[43miterable\u001b[49m\u001b[43m:\u001b[49m\n\u001b[0;32m   1182\u001b[0m \u001b[43m        \u001b[49m\u001b[38;5;28;43;01myield\u001b[39;49;00m\u001b[43m \u001b[49m\u001b[43mobj\u001b[49m\n\u001b[0;32m   1183\u001b[0m \u001b[43m        \u001b[49m\u001b[38;5;66;43;03m# Update and possibly print the progressbar.\u001b[39;49;00m\n\u001b[0;32m   1184\u001b[0m \u001b[43m        \u001b[49m\u001b[38;5;66;43;03m# Note: does not call self.update(1) for speed optimisation.\u001b[39;49;00m\n",
      "File \u001b[1;32m~\\anaconda3\\envs\\si_env\\Lib\\concurrent\\futures\\process.py:620\u001b[0m, in \u001b[0;36m_chain_from_iterable_of_lists\u001b[1;34m(iterable)\u001b[0m\n\u001b[0;32m    614\u001b[0m \u001b[38;5;28;01mdef\u001b[39;00m \u001b[38;5;21m_chain_from_iterable_of_lists\u001b[39m(iterable):\n\u001b[0;32m    615\u001b[0m \u001b[38;5;250m    \u001b[39m\u001b[38;5;124;03m\"\"\"\u001b[39;00m\n\u001b[0;32m    616\u001b[0m \u001b[38;5;124;03m    Specialized implementation of itertools.chain.from_iterable.\u001b[39;00m\n\u001b[0;32m    617\u001b[0m \u001b[38;5;124;03m    Each item in *iterable* should be a list.  This function is\u001b[39;00m\n\u001b[0;32m    618\u001b[0m \u001b[38;5;124;03m    careful not to keep references to yielded objects.\u001b[39;00m\n\u001b[0;32m    619\u001b[0m \u001b[38;5;124;03m    \"\"\"\u001b[39;00m\n\u001b[1;32m--> 620\u001b[0m \u001b[43m    \u001b[49m\u001b[38;5;28;43;01mfor\u001b[39;49;00m\u001b[43m \u001b[49m\u001b[43melement\u001b[49m\u001b[43m \u001b[49m\u001b[38;5;129;43;01min\u001b[39;49;00m\u001b[43m \u001b[49m\u001b[43miterable\u001b[49m\u001b[43m:\u001b[49m\n\u001b[0;32m    621\u001b[0m \u001b[43m        \u001b[49m\u001b[43melement\u001b[49m\u001b[38;5;241;43m.\u001b[39;49m\u001b[43mreverse\u001b[49m\u001b[43m(\u001b[49m\u001b[43m)\u001b[49m\n\u001b[0;32m    622\u001b[0m \u001b[43m        \u001b[49m\u001b[38;5;28;43;01mwhile\u001b[39;49;00m\u001b[43m \u001b[49m\u001b[43melement\u001b[49m\u001b[43m:\u001b[49m\n",
      "File \u001b[1;32m~\\anaconda3\\envs\\si_env\\Lib\\concurrent\\futures\\_base.py:619\u001b[0m, in \u001b[0;36mExecutor.map.<locals>.result_iterator\u001b[1;34m()\u001b[0m\n\u001b[0;32m    616\u001b[0m \u001b[38;5;28;01mwhile\u001b[39;00m fs:\n\u001b[0;32m    617\u001b[0m     \u001b[38;5;66;03m# Careful not to keep a reference to the popped future\u001b[39;00m\n\u001b[0;32m    618\u001b[0m     \u001b[38;5;28;01mif\u001b[39;00m timeout \u001b[38;5;129;01mis\u001b[39;00m \u001b[38;5;28;01mNone\u001b[39;00m:\n\u001b[1;32m--> 619\u001b[0m         \u001b[38;5;28;01myield\u001b[39;00m \u001b[43m_result_or_cancel\u001b[49m\u001b[43m(\u001b[49m\u001b[43mfs\u001b[49m\u001b[38;5;241;43m.\u001b[39;49m\u001b[43mpop\u001b[49m\u001b[43m(\u001b[49m\u001b[43m)\u001b[49m\u001b[43m)\u001b[49m\n\u001b[0;32m    620\u001b[0m     \u001b[38;5;28;01melse\u001b[39;00m:\n\u001b[0;32m    621\u001b[0m         \u001b[38;5;28;01myield\u001b[39;00m _result_or_cancel(fs\u001b[38;5;241m.\u001b[39mpop(), end_time \u001b[38;5;241m-\u001b[39m time\u001b[38;5;241m.\u001b[39mmonotonic())\n",
      "File \u001b[1;32m~\\anaconda3\\envs\\si_env\\Lib\\concurrent\\futures\\_base.py:317\u001b[0m, in \u001b[0;36m_result_or_cancel\u001b[1;34m(***failed resolving arguments***)\u001b[0m\n\u001b[0;32m    315\u001b[0m \u001b[38;5;28;01mtry\u001b[39;00m:\n\u001b[0;32m    316\u001b[0m     \u001b[38;5;28;01mtry\u001b[39;00m:\n\u001b[1;32m--> 317\u001b[0m         \u001b[38;5;28;01mreturn\u001b[39;00m \u001b[43mfut\u001b[49m\u001b[38;5;241;43m.\u001b[39;49m\u001b[43mresult\u001b[49m\u001b[43m(\u001b[49m\u001b[43mtimeout\u001b[49m\u001b[43m)\u001b[49m\n\u001b[0;32m    318\u001b[0m     \u001b[38;5;28;01mfinally\u001b[39;00m:\n\u001b[0;32m    319\u001b[0m         fut\u001b[38;5;241m.\u001b[39mcancel()\n",
      "File \u001b[1;32m~\\anaconda3\\envs\\si_env\\Lib\\concurrent\\futures\\_base.py:451\u001b[0m, in \u001b[0;36mFuture.result\u001b[1;34m(self, timeout)\u001b[0m\n\u001b[0;32m    448\u001b[0m \u001b[38;5;28;01melif\u001b[39;00m \u001b[38;5;28mself\u001b[39m\u001b[38;5;241m.\u001b[39m_state \u001b[38;5;241m==\u001b[39m FINISHED:\n\u001b[0;32m    449\u001b[0m     \u001b[38;5;28;01mreturn\u001b[39;00m \u001b[38;5;28mself\u001b[39m\u001b[38;5;241m.\u001b[39m__get_result()\n\u001b[1;32m--> 451\u001b[0m \u001b[38;5;28;43mself\u001b[39;49m\u001b[38;5;241;43m.\u001b[39;49m\u001b[43m_condition\u001b[49m\u001b[38;5;241;43m.\u001b[39;49m\u001b[43mwait\u001b[49m\u001b[43m(\u001b[49m\u001b[43mtimeout\u001b[49m\u001b[43m)\u001b[49m\n\u001b[0;32m    453\u001b[0m \u001b[38;5;28;01mif\u001b[39;00m \u001b[38;5;28mself\u001b[39m\u001b[38;5;241m.\u001b[39m_state \u001b[38;5;129;01min\u001b[39;00m [CANCELLED, CANCELLED_AND_NOTIFIED]:\n\u001b[0;32m    454\u001b[0m     \u001b[38;5;28;01mraise\u001b[39;00m CancelledError()\n",
      "File \u001b[1;32m~\\anaconda3\\envs\\si_env\\Lib\\threading.py:327\u001b[0m, in \u001b[0;36mCondition.wait\u001b[1;34m(self, timeout)\u001b[0m\n\u001b[0;32m    325\u001b[0m \u001b[38;5;28;01mtry\u001b[39;00m:    \u001b[38;5;66;03m# restore state no matter what (e.g., KeyboardInterrupt)\u001b[39;00m\n\u001b[0;32m    326\u001b[0m     \u001b[38;5;28;01mif\u001b[39;00m timeout \u001b[38;5;129;01mis\u001b[39;00m \u001b[38;5;28;01mNone\u001b[39;00m:\n\u001b[1;32m--> 327\u001b[0m         \u001b[43mwaiter\u001b[49m\u001b[38;5;241;43m.\u001b[39;49m\u001b[43macquire\u001b[49m\u001b[43m(\u001b[49m\u001b[43m)\u001b[49m\n\u001b[0;32m    328\u001b[0m         gotit \u001b[38;5;241m=\u001b[39m \u001b[38;5;28;01mTrue\u001b[39;00m\n\u001b[0;32m    329\u001b[0m     \u001b[38;5;28;01melse\u001b[39;00m:\n",
      "\u001b[1;31mKeyboardInterrupt\u001b[0m: "
     ]
    }
   ],
   "source": [
    "rec = rec.save(folder=out_path_object / '/test', format='binary', **job_kwargs)"
   ]
  },
  {
   "cell_type": "code",
   "execution_count": 66,
   "id": "275cb4fe-cb37-4a31-b918-d5e5d34a9c27",
   "metadata": {},
   "outputs": [
    {
     "data": {
      "text/plain": [
       "WindowsPath('Z:/projects/sequence_squad/revision_data/organised_data/animals/ap5R_implant1/recording1_20-11-2024/ephys/probeA/test')"
      ]
     },
     "execution_count": 66,
     "metadata": {},
     "output_type": "execute_result"
    }
   ],
   "source": [
    "out_path_object / 'test'"
   ]
  },
  {
   "cell_type": "code",
   "execution_count": 64,
   "id": "c4712dda-3d88-47fa-8b8a-6b331c6c0aba",
   "metadata": {},
   "outputs": [
    {
     "data": {
      "text/plain": [
       "WindowsPath('Z:/projects/sequence_squad/revision_data/organised_data/animals/ap5R_implant1/recording1_20-11-2024/ephys/probeA')"
      ]
     },
     "execution_count": 64,
     "metadata": {},
     "output_type": "execute_result"
    }
   ],
   "source": [
    "out_path_object"
   ]
  },
  {
   "cell_type": "code",
   "execution_count": 58,
   "id": "c46c28c5-186f-4a58-ac31-e8b3b567f457",
   "metadata": {},
   "outputs": [
    {
     "data": {
      "text/plain": [
       "WindowsPath('Z:/projects/sequence_squad/revision_data/organised_data/animals/ap5R_implant1/recording1_20-11-2024/ephys/probeA')"
      ]
     },
     "execution_count": 58,
     "metadata": {},
     "output_type": "execute_result"
    }
   ],
   "source": [
    "out_path_object"
   ]
  },
  {
   "cell_type": "code",
   "execution_count": 59,
   "id": "34c61a61-42ef-4e40-993c-78892adf822f",
   "metadata": {},
   "outputs": [
    {
     "ename": "NameError",
     "evalue": "name 'analyzer_clean' is not defined",
     "output_type": "error",
     "traceback": [
      "\u001b[1;31m---------------------------------------------------------------------------\u001b[0m",
      "\u001b[1;31mNameError\u001b[0m                                 Traceback (most recent call last)",
      "Cell \u001b[1;32mIn[59], line 1\u001b[0m\n\u001b[1;32m----> 1\u001b[0m \u001b[43manalyzer_clean\u001b[49m\n",
      "\u001b[1;31mNameError\u001b[0m: name 'analyzer_clean' is not defined"
     ]
    }
   ],
   "source": [
    "analyzer_clean"
   ]
  },
  {
   "cell_type": "code",
   "execution_count": 12,
   "id": "28a7d329-c667-4bf7-9f73-757caae57ff1",
   "metadata": {},
   "outputs": [
    {
     "ename": "SyntaxError",
     "evalue": "'break' outside loop (3566307101.py, line 5)",
     "output_type": "error",
     "traceback": [
      "\u001b[1;36m  Cell \u001b[1;32mIn[12], line 5\u001b[1;36m\u001b[0m\n\u001b[1;33m    break\u001b[0m\n\u001b[1;37m    ^\u001b[0m\n\u001b[1;31mSyntaxError\u001b[0m\u001b[1;31m:\u001b[0m 'break' outside loop\n"
     ]
    }
   ],
   "source": [
    "# # find peaks\n",
    "\n",
    "# from spikeinterface.sortingcomponents.peak_detection import detect_peaks\n",
    "# from spikeinterface.sortingcomponents.peak_localization import localize_peaks\n",
    "# break\n",
    "# job_kwargs = dict(n_jobs=40, chunk_duration='1s', progress_bar=True)\n",
    "# peaks = detect_peaks(rec,  method='locally_exclusive', noise_levels=noise_levels_int16,\n",
    "#                      detect_threshold=5, radius_um=50., **job_kwargs)\n",
    "\n",
    "# peak_locations = localize_peaks(rec, peaks, method='center_of_mass', radius_um=50., **job_kwargs)\n",
    "\n"
   ]
  },
  {
   "cell_type": "code",
   "execution_count": null,
   "id": "0f0c187d-30f3-42ea-ae47-d66d3907382a",
   "metadata": {},
   "outputs": [],
   "source": [
    "# # check for drifts\n",
    "# fs = rec.sampling_frequency\n",
    "# fig, ax = plt.subplots(figsize=(10, 8))\n",
    "# ax.scatter(peaks['sample_ind'] / fs, peak_locations['y'], color='k', marker='.',  alpha=0.002)"
   ]
  },
  {
   "cell_type": "markdown",
   "id": "3a0080f5-0a41-426a-a31d-973fdd125d90",
   "metadata": {},
   "source": [
    "# Load back in to check quality "
   ]
  },
  {
   "cell_type": "code",
   "execution_count": null,
   "id": "66d135ac-6c14-4a35-b3df-63e402c1ec5d",
   "metadata": {},
   "outputs": [],
   "source": []
  },
  {
   "cell_type": "code",
   "execution_count": null,
   "id": "c7323d4b-2ee3-4dbd-b78f-28835daae20f",
   "metadata": {},
   "outputs": [
    {
     "name": "stderr",
     "output_type": "stream",
     "text": [
      "C:\\Users\\Emmett\\anaconda3\\envs\\si_env\\Lib\\site-packages\\spikeinterface\\core\\job_tools.py:103: UserWarning: `n_jobs` is not set so parallel processing is disabled! To speed up computations, it is recommended to set n_jobs either globally (with the `spikeinterface.set_global_job_kwargs()` function) or locally (with the `n_jobs` argument). Use `spikeinterface.set_global_job_kwargs?` for more information about job_kwargs.\n",
      "  warnings.warn(\n"
     ]
    },
    {
     "data": {
      "application/vnd.jupyter.widget-view+json": {
       "model_id": "19e2de4f51ae406eb45316a779cfa5a4",
       "version_major": 2,
       "version_minor": 0
      },
      "text/plain": [
       "estimate_sparsity:   0%|          | 0/14682 [00:00<?, ?it/s]"
      ]
     },
     "metadata": {},
     "output_type": "display_data"
    },
    {
     "data": {
      "text/plain": [
       "SortingAnalyzer: 384 channels - 373 units - 1 segments - memory - sparse - has recording\n",
       "Loaded 0 extensions"
      ]
     },
     "execution_count": 77,
     "metadata": {},
     "output_type": "execute_result"
    }
   ],
   "source": [
    "\n",
    "analyzer"
   ]
  },
  {
   "cell_type": "code",
   "execution_count": null,
   "id": "c020c16d-3b25-440a-8f9a-cdadc7d48a51",
   "metadata": {},
   "outputs": [
    {
     "data": {
      "application/vnd.jupyter.widget-view+json": {
       "model_id": "407f747849b3410b950c8a36841b82dc",
       "version_major": 2,
       "version_minor": 0
      },
      "text/plain": [
       "compute_waveforms:   0%|          | 0/14682 [00:00<?, ?it/s]"
      ]
     },
     "metadata": {},
     "output_type": "display_data"
    },
    {
     "data": {
      "text/plain": [
       "SortingAnalyzer: 384 channels - 356 units - 1 segments - memory - sparse - has recording\n",
       "Loaded 4 extensions: random_spikes, waveforms, templates, noise_levels"
      ]
     },
     "execution_count": 75,
     "metadata": {},
     "output_type": "execute_result"
    }
   ],
   "source": [
    "\n"
   ]
  },
  {
   "cell_type": "code",
   "execution_count": null,
   "id": "e5d89dd9-79c0-47a3-a376-d69abe7fba61",
   "metadata": {},
   "outputs": [],
   "source": []
  },
  {
   "cell_type": "code",
   "execution_count": 43,
   "id": "79e68bfb-00e5-4eda-b10a-3c105424b383",
   "metadata": {},
   "outputs": [],
   "source": [
    "# quality metrics "
   ]
  },
  {
   "cell_type": "code",
   "execution_count": null,
   "id": "1a6a63ed-5345-482b-bb8e-40c50c4fb38b",
   "metadata": {},
   "outputs": [
    {
     "name": "stderr",
     "output_type": "stream",
     "text": [
      "C:\\Users\\Emmett\\anaconda3\\envs\\si_env\\Lib\\site-packages\\spikeinterface\\qualitymetrics\\misc_metrics.py:908: UserWarning: Some units have too few spikes : amplitude_cutoff is set to NaN\n",
      "  warnings.warn(f\"Some units have too few spikes : amplitude_cutoff is set to NaN\")\n"
     ]
    },
    {
     "data": {
      "text/html": [
       "<div>\n",
       "<style scoped>\n",
       "    .dataframe tbody tr th:only-of-type {\n",
       "        vertical-align: middle;\n",
       "    }\n",
       "\n",
       "    .dataframe tbody tr th {\n",
       "        vertical-align: top;\n",
       "    }\n",
       "\n",
       "    .dataframe thead th {\n",
       "        text-align: right;\n",
       "    }\n",
       "</style>\n",
       "<table border=\"1\" class=\"dataframe\">\n",
       "  <thead>\n",
       "    <tr style=\"text-align: right;\">\n",
       "      <th></th>\n",
       "      <th>firing_rate</th>\n",
       "      <th>presence_ratio</th>\n",
       "      <th>snr</th>\n",
       "      <th>isi_violations_ratio</th>\n",
       "      <th>isi_violations_count</th>\n",
       "      <th>amplitude_cutoff</th>\n",
       "    </tr>\n",
       "  </thead>\n",
       "  <tbody>\n",
       "    <tr>\n",
       "      <th>0</th>\n",
       "      <td>2.06766</td>\n",
       "      <td>0.983607</td>\n",
       "      <td>2.156246</td>\n",
       "      <td>5.724791</td>\n",
       "      <td>1078</td>\n",
       "      <td>0.00309</td>\n",
       "    </tr>\n",
       "    <tr>\n",
       "      <th>1</th>\n",
       "      <td>1.276477</td>\n",
       "      <td>0.897541</td>\n",
       "      <td>1.117945</td>\n",
       "      <td>10.729112</td>\n",
       "      <td>770</td>\n",
       "      <td>0.0067</td>\n",
       "    </tr>\n",
       "    <tr>\n",
       "      <th>2</th>\n",
       "      <td>0.781851</td>\n",
       "      <td>1.0</td>\n",
       "      <td>4.024969</td>\n",
       "      <td>0.408548</td>\n",
       "      <td>11</td>\n",
       "      <td>0.005223</td>\n",
       "    </tr>\n",
       "    <tr>\n",
       "      <th>3</th>\n",
       "      <td>1.764291</td>\n",
       "      <td>1.0</td>\n",
       "      <td>1.848011</td>\n",
       "      <td>3.078016</td>\n",
       "      <td>422</td>\n",
       "      <td>0.001179</td>\n",
       "    </tr>\n",
       "    <tr>\n",
       "      <th>4</th>\n",
       "      <td>2.985189</td>\n",
       "      <td>1.0</td>\n",
       "      <td>3.531435</td>\n",
       "      <td>0.030573</td>\n",
       "      <td>12</td>\n",
       "      <td>0.000694</td>\n",
       "    </tr>\n",
       "    <tr>\n",
       "      <th>...</th>\n",
       "      <td>...</td>\n",
       "      <td>...</td>\n",
       "      <td>...</td>\n",
       "      <td>...</td>\n",
       "      <td>...</td>\n",
       "      <td>...</td>\n",
       "    </tr>\n",
       "    <tr>\n",
       "      <th>351</th>\n",
       "      <td>1.075003</td>\n",
       "      <td>1.0</td>\n",
       "      <td>4.915325</td>\n",
       "      <td>0.176816</td>\n",
       "      <td>9</td>\n",
       "      <td>0.001501</td>\n",
       "    </tr>\n",
       "    <tr>\n",
       "      <th>352</th>\n",
       "      <td>1.342204</td>\n",
       "      <td>1.0</td>\n",
       "      <td>2.708582</td>\n",
       "      <td>0.919993</td>\n",
       "      <td>73</td>\n",
       "      <td>0.000756</td>\n",
       "    </tr>\n",
       "    <tr>\n",
       "      <th>353</th>\n",
       "      <td>2.283096</td>\n",
       "      <td>1.0</td>\n",
       "      <td>2.799555</td>\n",
       "      <td>0.688189</td>\n",
       "      <td>158</td>\n",
       "      <td>0.000905</td>\n",
       "    </tr>\n",
       "    <tr>\n",
       "      <th>354</th>\n",
       "      <td>7.896229</td>\n",
       "      <td>1.0</td>\n",
       "      <td>4.028388</td>\n",
       "      <td>0.102685</td>\n",
       "      <td>282</td>\n",
       "      <td>0.083223</td>\n",
       "    </tr>\n",
       "    <tr>\n",
       "      <th>355</th>\n",
       "      <td>0.616272</td>\n",
       "      <td>1.0</td>\n",
       "      <td>1.235936</td>\n",
       "      <td>3.825898</td>\n",
       "      <td>64</td>\n",
       "      <td>0.032057</td>\n",
       "    </tr>\n",
       "  </tbody>\n",
       "</table>\n",
       "<p>356 rows × 6 columns</p>\n",
       "</div>"
      ],
      "text/plain": [
       "     firing_rate  presence_ratio       snr  isi_violations_ratio  \\\n",
       "0        2.06766        0.983607  2.156246              5.724791   \n",
       "1       1.276477        0.897541  1.117945             10.729112   \n",
       "2       0.781851             1.0  4.024969              0.408548   \n",
       "3       1.764291             1.0  1.848011              3.078016   \n",
       "4       2.985189             1.0  3.531435              0.030573   \n",
       "..           ...             ...       ...                   ...   \n",
       "351     1.075003             1.0  4.915325              0.176816   \n",
       "352     1.342204             1.0  2.708582              0.919993   \n",
       "353     2.283096             1.0  2.799555              0.688189   \n",
       "354     7.896229             1.0  4.028388              0.102685   \n",
       "355     0.616272             1.0  1.235936              3.825898   \n",
       "\n",
       "     isi_violations_count  amplitude_cutoff  \n",
       "0                    1078           0.00309  \n",
       "1                     770            0.0067  \n",
       "2                      11          0.005223  \n",
       "3                     422          0.001179  \n",
       "4                      12          0.000694  \n",
       "..                    ...               ...  \n",
       "351                     9          0.001501  \n",
       "352                    73          0.000756  \n",
       "353                   158          0.000905  \n",
       "354                   282          0.083223  \n",
       "355                    64          0.032057  \n",
       "\n",
       "[356 rows x 6 columns]"
      ]
     },
     "execution_count": 44,
     "metadata": {},
     "output_type": "execute_result"
    }
   ],
   "source": []
  },
  {
   "cell_type": "code",
   "execution_count": null,
   "id": "b10a113d-48de-4c2e-b2c6-7d0d43f5b326",
   "metadata": {},
   "outputs": [
    {
     "name": "stdout",
     "output_type": "stream",
     "text": [
      "(amplitude_cutoff < 0.1) & (isi_violations_ratio < 1) & (presence_ratio > 0.9)\n"
     ]
    }
   ],
   "source": []
  },
  {
   "cell_type": "code",
   "execution_count": null,
   "id": "dd50c82f-6a55-486f-ba01-ce2be3081f1f",
   "metadata": {},
   "outputs": [
    {
     "data": {
      "text/plain": [
       "123"
      ]
     },
     "execution_count": 47,
     "metadata": {},
     "output_type": "execute_result"
    }
   ],
   "source": [
    "\n"
   ]
  },
  {
   "cell_type": "code",
   "execution_count": null,
   "id": "4f55ccd6-0014-400e-8d03-f4841f35bbb7",
   "metadata": {},
   "outputs": [],
   "source": [
    "\n"
   ]
  },
  {
   "cell_type": "code",
   "execution_count": null,
   "id": "2c550b0b-d4e7-497e-8566-a24781dba18f",
   "metadata": {},
   "outputs": [
    {
     "name": "stderr",
     "output_type": "stream",
     "text": [
      "C:\\Users\\Emmett\\anaconda3\\envs\\si_env\\Lib\\site-packages\\spikeinterface\\core\\job_tools.py:103: UserWarning: `n_jobs` is not set so parallel processing is disabled! To speed up computations, it is recommended to set n_jobs either globally (with the `spikeinterface.set_global_job_kwargs()` function) or locally (with the `n_jobs` argument). Use `spikeinterface.set_global_job_kwargs?` for more information about job_kwargs.\n",
      "  warnings.warn(\n"
     ]
    },
    {
     "name": "stdout",
     "output_type": "stream",
     "text": [
      "export_report(): spike_amplitudes will not be exported. Use sorting_analyzer.compute('spike_amplitudes') if you want to include them.\n",
      "export_report(): correlograms will not be exported. Use sorting_anlyzer.compute('correlograms') if you want to include them.\n"
     ]
    }
   ],
   "source": []
  },
  {
   "cell_type": "code",
   "execution_count": null,
   "id": "33f70ae0-3cdb-4249-9930-4b6e694d4c18",
   "metadata": {},
   "outputs": [],
   "source": []
  },
  {
   "cell_type": "code",
   "execution_count": null,
   "id": "50a1a832-b5f3-46f3-a5dc-9d623a240684",
   "metadata": {},
   "outputs": [],
   "source": []
  }
 ],
 "metadata": {
  "kernelspec": {
   "display_name": "Python 3 (ipykernel)",
   "language": "python",
   "name": "python3"
  },
  "language_info": {
   "codemirror_mode": {
    "name": "ipython",
    "version": 3
   },
   "file_extension": ".py",
   "mimetype": "text/x-python",
   "name": "python",
   "nbconvert_exporter": "python",
   "pygments_lexer": "ipython3",
   "version": "3.11.10"
  }
 },
 "nbformat": 4,
 "nbformat_minor": 5
}
